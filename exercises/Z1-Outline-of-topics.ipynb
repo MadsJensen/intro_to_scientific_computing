{
 "cells": [
  {
   "cell_type": "markdown",
   "metadata": {},
   "source": [
    "# Foundations of data-driven health science"
   ]
  },
  {
   "cell_type": "markdown",
   "metadata": {},
   "source": [
    "## Day 1: The anatomy of a computer and data"
   ]
  },
  {
   "cell_type": "markdown",
   "metadata": {},
   "source": [
    "* Summarize how the main components of a computer relate to, and constrain, the act of \"computing\".\n",
    "  * See [What is a computer](What_is_computer.ipynb)-notebook\n",
    "* Describe the basic organisation of a file system, and navigate it using commands in a \"terminal\".\n",
    "  * See [this notebook and associated exercises](E01-File_FileSystem_Bash.ipynb)\n",
    "  * Learn commands in notebook, but _be sure to practice them in a terminal_!\n",
    "* Contrast _textual_ and _binary_ files in terms of their contents and find information in both using tools that can be automated.\n",
    "  * __Slides needed!__\n",
    "  * Contrast: "
   ]
  },
  {
   "cell_type": "code",
   "execution_count": null,
   "metadata": {},
   "outputs": [],
   "source": []
  },
  {
   "cell_type": "markdown",
   "metadata": {},
   "source": [
    "## Day 2: The anatomy and building blocks of a program"
   ]
  },
  {
   "cell_type": "markdown",
   "metadata": {},
   "source": [
    "* Contrast local and non-local computing resources and file systems, and formulate use cases for both.\n",
    "* Use _variables_ in a programming language (python) and perform simple operations (manipulations) on the information (data) they contain."
   ]
  },
  {
   "cell_type": "markdown",
   "metadata": {},
   "source": [
    "## Day 3: Programming as a means to gain insight into data"
   ]
  },
  {
   "cell_type": "markdown",
   "metadata": {},
   "source": [
    "* Write a program to extract, collate and preprocess \"raw\" data for further processing (statistics, visualisation, _etc._)."
   ]
  },
  {
   "cell_type": "code",
   "execution_count": null,
   "metadata": {},
   "outputs": [],
   "source": []
  }
 ],
 "metadata": {
  "kernelspec": {
   "display_name": "Python 3",
   "language": "python",
   "name": "python3"
  },
  "language_info": {
   "codemirror_mode": {
    "name": "ipython",
    "version": 3
   },
   "file_extension": ".py",
   "mimetype": "text/x-python",
   "name": "python",
   "nbconvert_exporter": "python",
   "pygments_lexer": "ipython3",
   "version": "3.6.1"
  }
 },
 "nbformat": 4,
 "nbformat_minor": 2
}
