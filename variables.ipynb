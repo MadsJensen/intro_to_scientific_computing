{
 "cells": [
  {
   "cell_type": "markdown",
   "metadata": {},
   "source": [
    "# Variables"
   ]
  },
  {
   "cell_type": "markdown",
   "metadata": {},
   "source": [
    "* What is a variable? \n",
    "* What is the use of variable?\n",
    "* Known variables:\n",
    "    - PATH\n",
    "    - ???\n",
    "    "
   ]
  },
  {
   "cell_type": "markdown",
   "metadata": {},
   "source": [
    "### The use of Variables\n",
    "\n",
    "* Harddrive -> memory \n",
    "    - Anything in memory is \"in a varible\"\n",
    "\n",
    "### Types of varibles\n",
    "\n",
    "* Numbers (integers, floats) \n",
    "* Text strings \n",
    "\n"
   ]
  },
  {
   "cell_type": "markdown",
   "metadata": {},
   "source": [
    "# Variable names: The Rules\n",
    "\n",
    "* Variables names must start with a letter or an underscore, such as:\n",
    "    - _underscore\n",
    "    - underscore_\n",
    "* The remainder of your variable name may consist of letters, numbers and underscores.\n",
    "    * password1\n",
    "    * n00b\n",
    "    * un_der_scores\n",
    "* Names are case sensitive.\n",
    "    * case_sensitive,\n",
    "    * CASE_SENSITIVE,\n",
    "\n",
    "# Variable names: The Conventions\n",
    "\n",
    " * Readability is very important. Which of the following is easiest to read? I’m hoping you’ll say the first example.\n",
    "    * python_puppet\n",
    "    * pythonpuppet \n",
    "    * pythonPuppet\n",
    "* Descriptive names are very useful. If you are writing a program that adds up all of the bad puns made in this book, which do you think is the better variable name?\n",
    "    * total_bad_puns\n",
    "    * super_bad\n",
    "* Avoid using the lowercase letter ‘l’, uppercase ‘O’, and uppercase ‘I’. Why? Because the l and the I look a lot like each other and the number 1. And O looks a lot like 0."
   ]
  },
  {
   "cell_type": "markdown",
   "metadata": {},
   "source": [
    "# code examples\n",
    "\n",
    "     "
   ]
  },
  {
   "cell_type": "code",
   "execution_count": null,
   "metadata": {},
   "outputs": [],
   "source": []
  }
 ],
 "metadata": {
  "kernelspec": {
   "display_name": "Python 3",
   "language": "python",
   "name": "python3"
  },
  "language_info": {
   "codemirror_mode": {
    "name": "ipython",
    "version": 3
   },
   "file_extension": ".py",
   "mimetype": "text/x-python",
   "name": "python",
   "nbconvert_exporter": "python",
   "pygments_lexer": "ipython3",
   "version": "3.5.3"
  }
 },
 "nbformat": 4,
 "nbformat_minor": 2
}
