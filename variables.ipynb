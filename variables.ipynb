{
 "cells": [
  {
   "cell_type": "markdown",
   "metadata": {},
   "source": [
    "# Variables"
   ]
  },
  {
   "cell_type": "markdown",
   "metadata": {},
   "source": [
    "* What is a variable? \n",
    "* What is the use of variable?\n",
    "\n",
    "\n",
    "## What is a variable? \n",
    "From Wikipedia:\n",
    "> In computer programming, a variable or scalar is a storage location paired with an associated symbolic name (an identifier), which contains some known or unknown quantity of information referred to as a value. The variable name is the usual way to reference the stored value; this separation of name and content allows the name to be used independently of the exact information it represents. The identifier in computer source code can be bound to a value during run time, and the value of the variable may thus change during the course of program execution.\n",
    "https://en.wikipedia.org/wiki/Variable_(computer_science)\n",
    "\n",
    "From Think python (Downey 2015, 2nd Edition):\n",
    "> **variable:** A name that refers to a value.\n",
    "\n",
    "\n",
    "\n",
    "## The use of variables\n",
    "\n",
    "Variables are placeholders.\n"
   ]
  },
  {
   "cell_type": "markdown",
   "metadata": {},
   "source": [
    "# Exercise\n",
    "\n",
    "Name some of the variables we have already seen:\n",
    "    - ???\n"
   ]
  },
  {
   "cell_type": "markdown",
   "metadata": {},
   "source": [
    "### The use of Variables\n",
    "\n",
    "* Harddrive -> memory \n",
    "    - Anything in memory is \"in a varible\"\n",
    "\n",
    "### Types of varibles\n",
    "\n",
    "* Numbers (integers, floats) \n",
    "* Text strings \n",
    "\n"
   ]
  },
  {
   "cell_type": "markdown",
   "metadata": {},
   "source": [
    "# Variable names: \n",
    "### The Rules (for python)\n",
    "\n",
    "* Variables names must start with a letter or an underscore, such as:\n",
    "    - _underscore\n",
    "    - underscore_\n",
    "* The remainder of your variable name may consist of letters, numbers and underscores.\n",
    "    * password1\n",
    "    * n00b\n",
    "    * un_der_scores\n",
    "* Names are case sensitive.\n",
    "    * case_sensitive,\n",
    "    * CASE_SENSITIVE,\n",
    "\n",
    "# Variable names: The Conventions\n",
    "\n",
    " * Readability is very important. Which of the following is easiest to read? I’m hoping you’ll say the first example.\n",
    "    * python_puppet\n",
    "    * pythonpuppet \n",
    "    * pythonPuppet\n",
    "* Descriptive names are very useful.\n",
    "    * total_bad_puns\n",
    "    * super_bad\n",
    "* Avoid using the lowercase letter ‘l’, uppercase ‘O’, and uppercase ‘I’. Why? Because the l and the I look a lot like each other and the number 1. And O looks a lot like 0."
   ]
  },
  {
   "cell_type": "markdown",
   "metadata": {},
   "source": [
    "# Code examples\n",
    "\n",
    "* make a variable called \"foo\" and assign it \"2\"\n",
    "* make a variable called \"bar and assign \"foo\" to it\n",
    "* make a variable called \n",
    "\n",
    "\n",
    "* how to find out what variable type a given variable is? \n",
    "     "
   ]
  },
  {
   "cell_type": "markdown",
   "metadata": {},
   "source": []
  }
 ],
 "metadata": {
  "kernelspec": {
   "display_name": "Python 3",
   "language": "python",
   "name": "python3"
  },
  "language_info": {
   "codemirror_mode": {
    "name": "ipython",
    "version": 3
   },
   "file_extension": ".py",
   "mimetype": "text/x-python",
   "name": "python",
   "nbconvert_exporter": "python",
   "pygments_lexer": "ipython3",
   "version": "3.6.2"
  }
 },
 "nbformat": 4,
 "nbformat_minor": 2
}
