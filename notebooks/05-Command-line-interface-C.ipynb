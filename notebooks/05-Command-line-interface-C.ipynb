{
 "cells": [
  {
   "cell_type": "markdown",
   "metadata": {},
   "source": [
    "# Finding stuff"
   ]
  },
  {
   "cell_type": "markdown",
   "metadata": {},
   "source": [
    "## Find files and directories based on their name\n",
    "\n",
    "In the [previous exercises](05-Command-line-interface-B.ipynb) we used `ls` and `cp` with wildcards to select a bunch of files for manipulation. For deeply-nested directory structures, we need the utility `find`, which has a great number of parameters (flags) that you can read all about at `man find`. The basic syntax is:\n",
    "\n",
    "```bash\n",
    "find ROOT_DIR -flag1 something_flag1_related -flag2 ...\n",
    "```\n",
    "\n",
    "### Find files ending in `.bat` in any of the subdirectories to `level0`\n",
    "\n",
    "Make sure you're in the appropriate folder (or adjust `ROOT_DIR` accordingly), then\n",
    "\n",
    "```find level0 -name *.bat```\n",
    "\n",
    "### Find directories with the term `3B` in them\n",
    "\n",
    "* the `-type d` flag selects directories only\n",
    "* `-type` and `-name` can be specified together\n",
    "\n",
    "### Look only in directories deeper than a specific level\n",
    "\n",
    "* find files starting with a digit and ending in `log`\n",
    "* restrict the search to folders that are at least `level3`\n",
    "    * use the `-mindepth N` flag\n",
    "    * note that `N` includes the `ROOT_DIR`, which is level `1`\n",
    "    \n",
    "Try the `-maxdepth` flag too, you will have guessed what it does by now.\n",
    "\n",
    "### Find files larger than 10 bytes in size\n",
    "\n",
    "* use the `-size +10c` flag\n",
    "    * the `+` is short for 'larger than' (can you guess what `-` represents?)\n",
    "    * the `c` refers to 'character', which as you will recall is of length 1 byte (for ASCII)\n",
    "    * other useful size denominators are `k`, `M`, `G` ('kilo', 'Mega', 'Giga')\n",
    "    \n",
    "* in the `notebooks/imgs`-directory, find all files larger than 200 kilobytes\n",
    "    * consider how useful this can be for finding large files if you need space on your drive"
   ]
  },
  {
   "cell_type": "markdown",
   "metadata": {},
   "source": [
    "## Find files _containing_ specific strings\n",
    "\n",
    "Finding stuff _in_ files can be achieved using `grep`. The basic syntax is:\n",
    "\n",
    "```bash\n",
    "grep -flags PATTERN FILE\n",
    "```\n",
    "\n",
    "where `PATTERN` is the string to find.\n",
    "\n",
    "* find the occurrences of 'everyone' in the file `notebooks/fddhs.py`\n",
    "* find the occurrences of 'create_nested_dirstruct' in the file `notebooks/fddhs.py`\n",
    "\n",
    "### Find all the occurrences of the string 'it was the' _in any file in any folder_\n",
    "\n",
    "* go to `exercises`, then issue `grep` with the `-r` flag for recursive\n",
    "* what should the `FILE`-argument be?\n",
    "    * you want _any file_ under the folder `level0`\n",
    "\n",
    "### Repeat, but only print out the file names (not the matching lines)\n",
    "\n",
    "* use the `-l` flag"
   ]
  },
  {
   "cell_type": "markdown",
   "metadata": {},
   "source": [
    "# Redirection and chaining\n",
    "\n",
    "One of the fundamental design principles of Unix is having lots of small utilities that do _one thing_ (and do it well), whereas more complicated tasks are achieved by _chaining them together_.\n",
    "\n",
    "## I/O Redirection\n",
    "\n",
    "The most common (and useful) redirection is that of the _standard output_. By default, all utilities send their output to the shell that prints them on the terminal. We can use the `>` ('greater than') sign to redirect output to a file instead.\n",
    "\n",
    "___NB: If the target file exists, it will be overwritten without warning!___\n",
    "\n",
    "If you wish to ___append___ to the end of an existing file use 'double greater than': `>>`\n",
    "\n",
    "### Repeat the previous `grep`-command, sending output to file `grep.out`\n",
    "\n",
    "```bash\n",
    "COMMAND > output  # this overwrites\n",
    "COMMAND >> output  # this appends\n",
    "```\n",
    "### Repeat the previous `find` for files larger than 10 bytes; send output to `find.out`\n",
    "\n",
    "* open the two files you've just created in a text editor\n",
    "    * the JupyterLab-one will do just fine: just double-click on them in the `Files`-tab\n",
    "* how many files do each find? are they similar?\n",
    "    * display the contents of the differing file using `cat`\n",
    "    * why didn't `grep` find it?\n",
    "\n",
    "### Modify the `grep`-command to find the 'missing' file\n",
    "\n",
    "* _hint:_ issue `man grep` and scroll down to the `-i`-flag (this time it's not for 'interactive'!)"
   ]
  },
  {
   "cell_type": "markdown",
   "metadata": {},
   "source": [
    "## Piping: chaining the output of one utility to the input of another\n",
    "\n",
    "What if we could send the output of one utility to the input of another? _Chains would emerge._ The metaphor for doing this is 'putting a pipe in between utilities', or simply '_piping_'. The special character for the operation is `|` ('vertical bar'; Danish keyboards on Windows have it behind a key-combo involving `AltGr`, on Macs it's even better hidden: `Alt-i`!)\n",
    "\n",
    "### List all the files in `/usr/bin` and pipe the output to `less`\n",
    "\n",
    "`ls /usr/bin | less`\n",
    "\n",
    "### Print all the files in `/usr/bin` containing the word `zip`\n",
    "\n",
    "* pipe together `ls` and `grep`\n",
    "\n",
    "### How many `zip`-containing files are there?\n",
    "\n",
    "* pipe together `ls` and `grep` and `wc -l`!"
   ]
  },
  {
   "cell_type": "markdown",
   "metadata": {},
   "source": [
    "## Chaining using `xargs`\n",
    "\n",
    "There is a subtle but important caveat when piping together utilities. Some utilities, including `ls`, `rm` and `cat` actually _ignore_ ___standard input___, which is where the pipe redirects to. Instead, they _only accept input as command-line arguments_. So sending the output of `find` and `grep` isn't quite as simple as you probably expect:\n",
    "\n",
    "### Try piping the output of `find` or `grep` to `ls -l`\n",
    "\n",
    "* what happened?\n",
    "\n",
    "### Enter `xargs`\n",
    "\n",
    ">construct argument list(s) and execute utility\n",
    "\n",
    "* amend the previous command by simply adding the command `xargs` before the `ls`!"
   ]
  },
  {
   "cell_type": "markdown",
   "metadata": {},
   "source": [
    "# Final exercise\n",
    "\n",
    "Putting all of the above to use\n",
    "\n",
    "* find all the files containing the (case-insensitive) phrase 'it was the'\n",
    "* print their contents (use `cat`)\n",
    "* pipe the output to the `sort`-utility\n",
    "\n",
    "Repeat the above for files larger than 10 bytes in size."
   ]
  },
  {
   "cell_type": "markdown",
   "metadata": {},
   "source": [
    "# How are executables found?\n",
    "\n",
    "Execute the following commands\n",
    "\n",
    "```\n",
    "which python\n",
    "echo $PATH\n",
    "```"
   ]
  },
  {
   "cell_type": "markdown",
   "metadata": {},
   "source": [
    "## The PATH\n",
    "\n",
    "The _environment variable_ `PATH` determines the locations (and search order) the shell looks for commands when you execute a line.\n",
    "\n",
    "### See what happens if you try to execute the non-existing command: `foobar`\n",
    "\n",
    "We'll talk about variables in the context of [computer programs](computer-programs-and-data-types) (our next topic). \n",
    "\n",
    "To demonstrate what `conda` is doing when you '_activate_' an environment, and _why indeed they are called environments_, temprorarily _deactivate_ the current ('fddhs') environment:\n",
    "\n",
    "```\n",
    "source deactivate  # linux/mac\n",
    "deactivate   # windows\n",
    "```\n",
    "\n",
    "### Repeat the `which` and `echo` commands from above\n",
    "\n",
    "Where is the `python`-executable located in the two cases? How is this reflected in the `PATH` environment variable?\n",
    "\n",
    "### Reactivate `fddhs`"
   ]
  }
 ],
 "metadata": {
  "kernelspec": {
   "display_name": "Python 3",
   "language": "python",
   "name": "python3"
  },
  "language_info": {
   "codemirror_mode": {
    "name": "ipython",
    "version": 3
   },
   "file_extension": ".py",
   "mimetype": "text/x-python",
   "name": "python",
   "nbconvert_exporter": "python",
   "pygments_lexer": "ipython3",
   "version": "3.6.2"
  }
 },
 "nbformat": 4,
 "nbformat_minor": 2
}
