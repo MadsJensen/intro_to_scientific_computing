{
 "cells": [
  {
   "cell_type": "markdown",
   "metadata": {},
   "source": [
    "# Finding stuff"
   ]
  },
  {
   "cell_type": "markdown",
   "metadata": {},
   "source": [
    "## Find files and directories based on their name\n",
    "\n",
    "In the [previous exercises](05-Command-line-interface-B.ipynb) we used `ls` and `cp` with wildcards to select a bunch of files for manipulation. For deeply-nested directory structures, we need the utility `find`, which has a great number of parameters (flags) that you can read all about at `man find`. The basic syntax is:\n",
    "\n",
    "```bash\n",
    "find ROOT_DIR -flag1 something_flag1_related -flag2 ...\n",
    "```\n",
    "\n",
    "### Find files ending in `.bat` in any of the subdirectories to `level0`\n",
    "\n",
    "Make sure you're in the appropriate folder (or adjust `ROOT_DIR` accordingly), then\n",
    "\n",
    "```find level0 -name *.bat```\n",
    "\n",
    "### Find directories with the term `3B` in them\n",
    "\n",
    "* the `-type d` flag selects directories only\n",
    "* `-type` and `-name` can be specified together\n",
    "\n",
    "### Look only in directories deeper than a specific level\n",
    "\n",
    "* find files starting with a digit and ending in `log`\n",
    "* restrict the search to folders that are at least `level3`\n",
    "    * use the `-mindepth N` flag\n",
    "    * note that `N` includes the `ROOT_DIR`, which is level `1`\n",
    "    \n",
    "Try the `-maxdepth` flag too, you will have guessed what it does by now.\n",
    "\n",
    "### Find files larger than 10 bytes in size\n",
    "\n",
    "* use the `-size +10c` flag\n",
    "    * the `+` is short for 'larger than'\n",
    "    * the `c` refers to 'character', which as you will recall is of length 1 byte (for ASCII)\n",
    "    * other useful size denominators are `k`, `M`, `G` ('kilo', 'Mega', 'Giga')\n",
    "    \n",
    "* in the `notebooks/imgs`-directory, find all files larger than 200 kilobytes\n",
    "    * consider how useful this can be for finding large files if you need space on your drive"
   ]
  },
  {
   "cell_type": "markdown",
   "metadata": {},
   "source": [
    "## Find files _containing_ specific strings\n",
    "\n",
    "Finding stuff _in_ files can be achieved using `grep`. The basic syntax is:\n",
    "\n",
    "```bash\n",
    "grep -flags PATTERN FILE\n",
    "```\n",
    "\n",
    "where `PATTERN` is the string to find.\n",
    "\n",
    "* find the occurrences of 'everyone' in the file `notebooks/fddhs.py`\n",
    "* find the occurrences of 'create_nested_dirstruct' in the file `notebooks/fddhs.py`\n",
    "\n",
    "### Find all the occurrences of the string 'it was the' _in any file in any folder_\n",
    "\n",
    "* go to `exercises`, then issue `grep` with the `-r` flag for recursive\n",
    "* what should the `FILE`-argument be?\n",
    "    * you want _any file_ under the folder `level0`\n",
    "\n",
    "### Repeat, but only print out the file names (not the matching lines)\n",
    "\n",
    "* use the `-l` flag"
   ]
  },
  {
   "cell_type": "markdown",
   "metadata": {},
   "source": [
    "# Redirection and chaining\n",
    "\n",
    "One of the fundamental design principles of Unix is having lots of small utilities that do _one thing_ (and do it well), whereas more complicated tasks are achieved by _chaining them together_.\n",
    "\n",
    "## I/O Redirection\n",
    "\n",
    "The most common (and useful) redirection is that of the _standard output_. By default, all utilities send their output to the shell that prints them on the terminal. We can use the `>` ('greater than') sign to redirect output to a file instead.\n",
    "\n",
    "___NB: If the target file exists, it will be overwritten without warning!___\n",
    "\n",
    "If you wish to ___append___ to the end of an existing file use 'double greater than': `>>`\n",
    "\n",
    "### Repeat the previous `grep`-command, sending output to file `grep.out`\n",
    "\n",
    "```bash\n",
    "COMMAND > output  # this overwrites\n",
    "COMMAND >> output  # this appends\n",
    "```\n",
    "### Repeat the previous `find` for files larger than 10 bytes; send output to `find.out`\n",
    "\n",
    "* open the two files you've just created in a text editor\n",
    "    * the JupyterLab-one will do just fine: just double-click on them in the `Files`-tab\n",
    "* how many files do each find? are they similar?\n",
    "    * display the contents of the differing file using `cat`\n",
    "    * why didn't `grep` find it?\n",
    "\n",
    "### Modify the `grep`-command to find the 'missing' file\n",
    "\n",
    "* _hint:_ issue `man grep` and scroll down to the `-i`-flag (this time it's not for 'interactive'!)"
   ]
  },
  {
   "cell_type": "code",
   "execution_count": null,
   "metadata": {},
   "outputs": [],
   "source": []
  },
  {
   "cell_type": "markdown",
   "metadata": {},
   "source": [
    "# 'environment variables'"
   ]
  },
  {
   "cell_type": "markdown",
   "metadata": {},
   "source": [
    "## PATH"
   ]
  },
  {
   "cell_type": "code",
   "execution_count": null,
   "metadata": {},
   "outputs": [],
   "source": []
  },
  {
   "cell_type": "markdown",
   "metadata": {},
   "source": [
    "## The PATH\n",
    "\n",
    "* executable vs. non-executable?\n",
    "   * does the data in the file contain _instructions_ for the CPU?\n",
    "   * can the instructions be _interpreted_ as CPU operations?\n",
    "* where should the OS look for instruction-containing data?\n",
    "   * OS X: `/Applications`\n",
    "   * Windows: `C:\\Program Files\\`\n",
    "   * Linux: `/bin`, `/sbin`, `/usr/local/bin`, ......."
   ]
  },
  {
   "cell_type": "markdown",
   "metadata": {},
   "source": [
    "## How are executables found "
   ]
  },
  {
   "cell_type": "markdown",
   "metadata": {},
   "source": [
    "Select a conda environment, open a Terminal and execute the commands\n",
    "\n",
    "```\n",
    "which python\n",
    "echo $PATH\n",
    "```\n",
    "\n",
    "Then select another environment and repeat. Where is the Python-executable located in the two cases? How is this reflected in the `PATH` environment variable?"
   ]
  }
 ],
 "metadata": {
  "kernelspec": {
   "display_name": "Python 3",
   "language": "python",
   "name": "python3"
  },
  "language_info": {
   "codemirror_mode": {
    "name": "ipython",
    "version": 3
   },
   "file_extension": ".py",
   "mimetype": "text/x-python",
   "name": "python",
   "nbconvert_exporter": "python",
   "pygments_lexer": "ipython3",
   "version": "3.6.2"
  }
 },
 "nbformat": 4,
 "nbformat_minor": 2
}
