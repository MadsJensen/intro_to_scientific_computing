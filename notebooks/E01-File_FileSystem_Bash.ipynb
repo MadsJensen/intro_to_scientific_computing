{
 "cells": [
  {
   "cell_type": "markdown",
   "metadata": {},
   "source": [
    "# Files, file systems & Bash\n",
    "\n",
    "This notebook contains exercises for learning about _files_ and _file systems_. The code cells will execute commands in the _Bourne Again SHell_, known simply as `bash`.\n",
    "\n",
    "__NB:__ These operations may be more informative/natural to perform in an terminal console!"
   ]
  },
  {
   "cell_type": "markdown",
   "metadata": {},
   "source": [
    "# Files\n",
    "\n",
    "Files can either be _textual_ or _binary_ (there are cases where both are mixed, but this is rare). The former you can read, the latter is better left for the computer to!\n",
    "\n",
    "All files are just a sequence of bits (0's and 1's) saved to some _persistent medium_. Bits are grouped together into \"words\" of 8 bits: this unit is known as a \"_byte_\".\n",
    "\n",
    "## File system\n",
    "\n",
    "A system of files, organised in folders, spread across some medium that can store bytes in a way that when the power is cut, the information remains (to some limits). We often distinguish between:\n",
    "\n",
    "* local file system: the medium is built into the computer in question\n",
    "* removable file system: _e.g._ a USB hard- or thumb drive\n",
    "* network file system: non-local, accessed via a network, physically resides on _some other computer_"
   ]
  },
  {
   "cell_type": "markdown",
   "metadata": {},
   "source": [
    "# Directory navigation & file manipulation"
   ]
  },
  {
   "cell_type": "markdown",
   "metadata": {},
   "source": [
    "The command `ls` (short for 'list') shows the contents of the current directory"
   ]
  },
  {
   "cell_type": "code",
   "execution_count": 11,
   "metadata": {
    "collapsed": false
   },
   "outputs": [
    {
     "name": "stdout",
     "output_type": "stream",
     "text": [
      "LICENSE                \u001b[1m\u001b[34mexercises\u001b[39;49m\u001b[0m              program.md\r\n",
      "README.md              \u001b[1m\u001b[34mexternal\u001b[39;49m\u001b[0m               todos_and_software.md\r\n",
      "course_description.md  notes_and_metaphors.md\r\n"
     ]
    }
   ],
   "source": [
    "ls"
   ]
  },
  {
   "cell_type": "markdown",
   "metadata": {},
   "source": [
    "But where am I? The `pwd`-command stands for 'Present Working Directory'"
   ]
  },
  {
   "cell_type": "code",
   "execution_count": 2,
   "metadata": {
    "collapsed": false
   },
   "outputs": [
    {
     "name": "stdout",
     "output_type": "stream",
     "text": [
      "/Users/cjb/Documents/Courses&Workshops/intro_to_scientific_computing/exercises\r\n"
     ]
    }
   ],
   "source": [
    "pwd"
   ]
  },
  {
   "cell_type": "markdown",
   "metadata": {},
   "source": [
    "To 'go up' one level in the directory hierarchy, use the 'dot-dot'-syntax"
   ]
  },
  {
   "cell_type": "code",
   "execution_count": 4,
   "metadata": {
    "collapsed": false
   },
   "outputs": [
    {
     "name": "stdout",
     "output_type": "stream",
     "text": []
    }
   ],
   "source": [
    "cd .."
   ]
  },
  {
   "cell_type": "code",
   "execution_count": 12,
   "metadata": {
    "collapsed": false
   },
   "outputs": [
    {
     "name": "stdout",
     "output_type": "stream",
     "text": [
      "/Users/cjb/Documents/Courses&Workshops/intro_to_scientific_computing\r\n"
     ]
    }
   ],
   "source": [
    "pwd"
   ]
  },
  {
   "cell_type": "markdown",
   "metadata": {},
   "source": [
    "To enter 'into' a folder, simply `cd` (Change Directory) to it"
   ]
  },
  {
   "cell_type": "code",
   "execution_count": 14,
   "metadata": {
    "collapsed": false
   },
   "outputs": [
    {
     "name": "stdout",
     "output_type": "stream",
     "text": []
    }
   ],
   "source": [
    "cd exercises"
   ]
  },
  {
   "cell_type": "code",
   "execution_count": 15,
   "metadata": {
    "collapsed": false
   },
   "outputs": [
    {
     "name": "stdout",
     "output_type": "stream",
     "text": [
      "/Users/cjb/Documents/Courses&Workshops/intro_to_scientific_computing/exercises\r\n"
     ]
    }
   ],
   "source": [
    "pwd"
   ]
  },
  {
   "cell_type": "markdown",
   "metadata": {},
   "source": [
    "## What type is file X?\n",
    "\n",
    "Note that the _suffix_ of a file does not necessarily carry _any_ information on its contents! Some suffixes, such as `.txt` are considered \"standardised\", but the operating system does not enforce any rules on the naming of files."
   ]
  },
  {
   "cell_type": "code",
   "execution_count": 16,
   "metadata": {
    "collapsed": false
   },
   "outputs": [
    {
     "name": "stdout",
     "output_type": "stream",
     "text": [
      "short_textual_file.xyz: UTF-8 Unicode text\r\n"
     ]
    }
   ],
   "source": [
    "file short_textual_file.xyz"
   ]
  },
  {
   "cell_type": "code",
   "execution_count": 2,
   "metadata": {
    "collapsed": false
   },
   "outputs": [
    {
     "name": "stdout",
     "output_type": "stream",
     "text": [
      "some_onknown_file.fmt: JPEG image data, JFIF standard 1.01, resolution (DPI), density 96x96, segment length 16, Exif Standard: [TIFF image data, big-endian, direntries=1], baseline, precision 8, 324x324, frames 3\r\n"
     ]
    }
   ],
   "source": [
    "file some_onknown_file.fmt"
   ]
  },
  {
   "cell_type": "markdown",
   "metadata": {},
   "source": [
    "It's an image!"
   ]
  },
  {
   "cell_type": "markdown",
   "metadata": {},
   "source": [
    "## ASCII and Unicode\n",
    "\n",
    "American Standard Code for Information Interchange. Computers can only understand numbers, so an ASCII code is the numerical representation of a character such as 'a' or '@' or an action of some sort. See more information [on the Wiki](https://en.wikipedia.org/wiki/ASCII).\n",
    "\n",
    "Unicode..."
   ]
  },
  {
   "cell_type": "markdown",
   "metadata": {},
   "source": [
    "## Displaying the contents of a textual file in bash\n",
    "\n",
    "It is often most efficient to view the contents of small files in the terminal, instead of a graphical text editor. "
   ]
  },
  {
   "cell_type": "code",
   "execution_count": 4,
   "metadata": {
    "collapsed": false,
    "scrolled": true
   },
   "outputs": [
    {
     "name": "stdout",
     "output_type": "stream",
     "text": [
      "# The hash-sign is often considered a \"comment\"\r\n",
      "\r\n",
      "Lines without hash-signs may carry important information, such as: 42\r\n",
      "\r\n",
      "Encoding of \"non-ASCII\" characters can sometimes be challenging: å, æ, ø, ä, ö.\r\n"
     ]
    }
   ],
   "source": [
    "cat short_textual_file.xyz"
   ]
  },
  {
   "cell_type": "markdown",
   "metadata": {},
   "source": [
    "For longer files, the `less` command is very handy.\n",
    "\n",
    "__NB__ This will not work in the `notebook`, must be run in a terminal!\n",
    "\n",
    "Some navigation commands include:\n",
    "\n",
    "* [arrow keys]: move up/down a line at a time\n",
    "* [space or n]: move down a page (next page)\n",
    "* [b]: move up (back) a page\n",
    "* [q]: quit viewing the file"
   ]
  },
  {
   "cell_type": "markdown",
   "metadata": {},
   "source": [
    "### Exercise: Use `less` to view the contents of a textual file"
   ]
  },
  {
   "cell_type": "markdown",
   "metadata": {},
   "source": [
    "In the /Launcher/, start a new /Terminal/-tab. Make sure you're in the `exercises`-folder (use `ls`, `pwd` to check, and possibly `cd` to correct). "
   ]
  },
  {
   "cell_type": "markdown",
   "metadata": {},
   "source": [
    "## Binary\n",
    "\n",
    "The term \"binary\" simply refers to the fact that data in the file is written as a _sequence of bits_. To contrast this to a textual file, we could say:\n",
    "\n",
    "> Textual files have a pre-defined encoding of the bytes it contains, _e.g._, as ASCII characters ('a' is saved as the byte `0x61`, which in decimal numbers equates to 97).\n",
    "\n",
    "> To extract data from a binary file, it is necessary to know how the bytes were encoded. Otherwise it's gibberish!"
   ]
  },
  {
   "cell_type": "code",
   "execution_count": null,
   "metadata": {
    "collapsed": false
   },
   "outputs": [],
   "source": [
    "# This kills the notebook :(\n",
    "# Could be prevented due to a security risk due to arbitrary code execution?\n",
    "# cat binary_image_file.jpg"
   ]
  },
  {
   "cell_type": "markdown",
   "metadata": {},
   "source": [
    "### Header files\n",
    "\n",
    "Usually: textual files that define the encoding of a binary data file."
   ]
  }
 ],
 "metadata": {
  "kernelspec": {
   "display_name": "Bash",
   "language": "bash",
   "name": "bash"
  },
  "language_info": {
   "codemirror_mode": "shell",
   "file_extension": ".sh",
   "mimetype": "text/x-sh",
   "name": "bash"
  }
 },
 "nbformat": 4,
 "nbformat_minor": 2
}
