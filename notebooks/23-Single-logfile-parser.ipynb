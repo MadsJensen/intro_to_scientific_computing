{
 "cells": [
  {
   "cell_type": "markdown",
   "metadata": {},
   "source": [
    "# Parsing a single log file\n",
    "\n",
    "_parse: to examine in a minute way_\n",
    "\n",
    "In this notebook we'll extract the _information_ on reaction time and accuracy from a single log file, and generalise our code to apply to _any_ log file (written with the same structure)."
   ]
  },
  {
   "cell_type": "markdown",
   "metadata": {},
   "source": [
    "It is considered _good practice_ to import all the modules you use in a notebook in the beginning, so we'll start with that:"
   ]
  },
  {
   "cell_type": "code",
   "execution_count": 3,
   "metadata": {},
   "outputs": [],
   "source": [
    "import string"
   ]
  },
  {
   "cell_type": "markdown",
   "metadata": {},
   "source": [
    "We'll be using two lists defined in the `string`-module:\n",
    "\n",
    "1. the list of all lowercase (ASCII) letters\n",
    "1. the list of all digits (as string a string, not numbers)"
   ]
  },
  {
   "cell_type": "code",
   "execution_count": 34,
   "metadata": {},
   "outputs": [
    {
     "name": "stdout",
     "output_type": "stream",
     "text": [
      "abcdefghijklmnopqrstuvwxyz\n",
      "<class 'str'>\n",
      "0123456789\n"
     ]
    }
   ],
   "source": [
    "print(string.ascii_lowercase)\n",
    "print(type(string.ascii_lowercase))\n",
    "print(string.digits)"
   ]
  },
  {
   "cell_type": "markdown",
   "metadata": {},
   "source": [
    "## Read lines of a single log-file into a list\n",
    "\n",
    "Assign the _path to one of the logfiles_ to the variable `logfile_name`. You will need to adjust the path to wherever you placed the `logs`-directory containing them!"
   ]
  },
  {
   "cell_type": "code",
   "execution_count": 9,
   "metadata": {},
   "outputs": [],
   "source": [
    "logfile_name = '../src/logs/0023_FCA_2017-03-09.log'"
   ]
  },
  {
   "cell_type": "markdown",
   "metadata": {},
   "source": [
    "Open the file, read the lines & close the file."
   ]
  },
  {
   "cell_type": "code",
   "execution_count": 10,
   "metadata": {},
   "outputs": [],
   "source": [
    "fp = open(logfile_name, 'r')\n",
    "all_lines = fp.readlines()\n",
    "fp.close()"
   ]
  },
  {
   "cell_type": "markdown",
   "metadata": {},
   "source": [
    "Display the _first ten lines_. For this, you can use the slice-syntax `[:10]`, which reads: 'from the start to index 10'."
   ]
  },
  {
   "cell_type": "code",
   "execution_count": 30,
   "metadata": {},
   "outputs": [
    {
     "data": {
      "text/plain": [
       "['# Original filename: 0023_FCA_2017-03-09.log\\n',\n",
       " '# Time unit: 100 us\\n',\n",
       " '# RARECAT=digit\\n',\n",
       " '#\\n',\n",
       " '# Time\\tHHGG\\tEvent\\n',\n",
       " '35309\\t42\\tSTIM=x\\n',\n",
       " '38316\\t42\\tRESP=1\\n',\n",
       " '51108\\t42\\tSTIM=h\\n',\n",
       " '63261\\t42\\tRESP=1\\n',\n",
       " '66731\\t42\\tSTIM=k\\n']"
      ]
     },
     "execution_count": 30,
     "metadata": {},
     "output_type": "execute_result"
    }
   ],
   "source": [
    "all_lines[:10]"
   ]
  },
  {
   "cell_type": "markdown",
   "metadata": {},
   "source": [
    "The first five lines are comments, which we'll want to skip over. How many events are there in the file (how many rows after the comments)?"
   ]
  },
  {
   "cell_type": "code",
   "execution_count": 12,
   "metadata": {},
   "outputs": [
    {
     "data": {
      "text/plain": [
       "2560"
      ]
     },
     "execution_count": 12,
     "metadata": {},
     "output_type": "execute_result"
    }
   ],
   "source": [
    "len(all_lines[5:])"
   ]
  },
  {
   "cell_type": "markdown",
   "metadata": {},
   "source": [
    "## Splitting the lines\n",
    "\n",
    "From the above, determine the field-separator character used in the file."
   ]
  },
  {
   "cell_type": "code",
   "execution_count": 14,
   "metadata": {},
   "outputs": [],
   "source": [
    "field_sep = '\\t' # COMPLETE THIS LINE"
   ]
  },
  {
   "cell_type": "markdown",
   "metadata": {},
   "source": [
    "Split the 6th line and display:"
   ]
  },
  {
   "cell_type": "code",
   "execution_count": 15,
   "metadata": {},
   "outputs": [
    {
     "name": "stdout",
     "output_type": "stream",
     "text": [
      "['35309', '42', 'STIM=x\\n']\n"
     ]
    }
   ],
   "source": [
    "line = all_lines[5]\n",
    "split_line = line.split(field_sep)\n",
    "print(split_line)"
   ]
  },
  {
   "cell_type": "markdown",
   "metadata": {},
   "source": [
    "The 1st value of the split list is the time, the 3rd value contains information on whether the _event_ was a _stimulus presentation_, or a _response_. Since the data is consistent, to get the actual stimulus presented (letter or digit), we can simply count how many characters 'in' the equal-sign is: the index of the stimulus is:"
   ]
  },
  {
   "cell_type": "code",
   "execution_count": 19,
   "metadata": {},
   "outputs": [
    {
     "data": {
      "text/plain": [
       "'x'"
      ]
     },
     "execution_count": 19,
     "metadata": {},
     "output_type": "execute_result"
    }
   ],
   "source": [
    "# what is the index of the stimulus?\n",
    "# Try changing the relevant value below until you get 'x'\n",
    "split_line[2][5]"
   ]
  },
  {
   "cell_type": "code",
   "execution_count": 20,
   "metadata": {},
   "outputs": [],
   "source": [
    "idx = 5  # which index gives you the letter/digit?"
   ]
  },
  {
   "cell_type": "markdown",
   "metadata": {},
   "source": [
    "Note that this index is also the one we need for getting to the response (1 or 2).\n",
    "\n",
    "* split the 6th line & print the stimulus delivery time and stimulus presented\n",
    "* split the 7th line & print the response time and button number pressed\n",
    "* _calculate the reaction time_\n",
    "    * __NB__: the contents of the file we are reading from is _textual_\n",
    "    * _arithmetic on text_ is very different from that on _numbers_...\n",
    "    * (you'll need to convert the string to a number; use the `int`-function)\n",
    "* assign the reaction time to a variable ('`RT`') and print it"
   ]
  },
  {
   "cell_type": "code",
   "execution_count": 22,
   "metadata": {},
   "outputs": [
    {
     "name": "stdout",
     "output_type": "stream",
     "text": [
      "['35309', '42', 'STIM=x\\n']\n",
      "35309 x\n",
      "['38316', '42', 'RESP=1\\n']\n",
      "38316 1\n",
      "reaction time:  3007\n"
     ]
    }
   ],
   "source": [
    "# 6th line: STIM\n",
    "line = all_lines[5]\n",
    "split_line = line.split(field_sep)\n",
    "print(split_line)\n",
    "\n",
    "stim_time = split_line[0]  # replace XXX!\n",
    "cur_stim = split_line[2][idx] # replace YYY!\n",
    "print(stim_time, cur_stim)\n",
    "    \n",
    "# 7th line: RESP\n",
    "line = all_lines[6]\n",
    "split_line = line.split(field_sep)\n",
    "print(split_line)\n",
    "    \n",
    "resp_time = split_line[0]  # replace XXX!\n",
    "cur_resp = split_line[2][idx] # replace YYY!\n",
    "print(resp_time, cur_resp)\n",
    "\n",
    "# calculate RT\n",
    "RT =  int(resp_time) - int(stim_time) # formula here\n",
    "print('reaction time: ', RT)    "
   ]
  },
  {
   "cell_type": "markdown",
   "metadata": {},
   "source": [
    "## Loop over the lines\n",
    "\n",
    "Convert the above into something that can be used to _loop over_ the list. Start by just looping over the 6th and 7th rows: you should arrive at the same answer as above.\n",
    "\n",
    "You'll need logic for determining whether the current line _starts with the string_ `STIM`. Strings have a method `startswith` for this! Use an `if`-`else`-construct."
   ]
  },
  {
   "cell_type": "code",
   "execution_count": 26,
   "metadata": {},
   "outputs": [
    {
     "data": {
      "text/plain": [
       "True"
      ]
     },
     "execution_count": 26,
     "metadata": {},
     "output_type": "execute_result"
    }
   ],
   "source": [
    "'STIM=x\\n'.startswith('STIM')"
   ]
  },
  {
   "cell_type": "code",
   "execution_count": 32,
   "metadata": {},
   "outputs": [],
   "source": [
    "for line in all_lines[5:]:\n",
    "\n",
    "    split_line = line.split(field_sep)\n",
    "\n",
    "    # does the 3rd element of the list start with 'STIM'?\n",
    "    if split_line[2].startswith('STIM'):\n",
    "        stim_time = split_line[0]\n",
    "        cur_stim = split_line[2][idx]\n",
    "        # print(stim_time, cur_stim)\n",
    "\n",
    "    else:  # nope; it starts with something other than 'STIM'\n",
    "        resp_time = split_line[0]  # replace XXX!\n",
    "        cur_resp = split_line[2][idx] # replace YYY!\n",
    "        # print(resp_time, cur_resp)\n",
    "\n",
    "        # calculate RT\n",
    "        RT =  int(resp_time) - int(stim_time) # formula here\n",
    "        # print('reaction time: ', RT)    "
   ]
  },
  {
   "cell_type": "markdown",
   "metadata": {},
   "source": [
    "## Saving the reaction times into lists\n",
    "\n",
    "Instead of printing out 1280 RT values, we want to save them into memory for later use (we need to calculate mean and median values over them). Start with two empty lists for reaction times:\n",
    "\n",
    "* one for the _frequent_ category of stimuli (letter)\n",
    "* one for the _rare_ category of stimuli (digit)\n",
    "\n",
    "and use the `.append`-method to add the values to the lists."
   ]
  },
  {
   "cell_type": "code",
   "execution_count": 33,
   "metadata": {},
   "outputs": [],
   "source": [
    "# empty lists for reaction times\n",
    "rt_freq = []\n",
    "rt_rare = []"
   ]
  },
  {
   "cell_type": "code",
   "execution_count": 37,
   "metadata": {},
   "outputs": [],
   "source": [
    "for line in all_lines[5:]:\n",
    "    split_line = line.split(field_sep)\n",
    "\n",
    "    # does the 3rd element of the list start with 'STIM'?\n",
    "    if split_line[2].startswith('STIM'):\n",
    "        stim_time = split_line[0]\n",
    "        cur_stim = split_line[2][idx]\n",
    "\n",
    "    else:  # nope; it starts with something other than 'STIM'\n",
    "        resp_time = split_line[0]  # replace XXX!\n",
    "        cur_resp = split_line[2][idx] # replace YYY!\n",
    "\n",
    "        # calculate RT\n",
    "        RT = int(resp_time) - int(stim_time) # formula here\n",
    "\n",
    "        # test if the current stimulus is in the `ascii_lowercase`-list\n",
    "        if cur_stim in string.ascii_lowercase:\n",
    "            rt_freq.append(RT)            \n",
    "        # else test if the current stimulus is in the `digits`-list\n",
    "        elif cur_stim in string.digits:\n",
    "            rt_rare.append(RT)            "
   ]
  },
  {
   "cell_type": "markdown",
   "metadata": {},
   "source": [
    "## Accuracy: is each response correct or incorrect?\n",
    "\n",
    "Modify the above code to also include logic for determining whether the response in correct or not. Initialise two _counters_ for the number of correct responses."
   ]
  },
  {
   "cell_type": "code",
   "execution_count": 51,
   "metadata": {},
   "outputs": [],
   "source": [
    "rt_freq = []\n",
    "rt_rare = []\n",
    "n_corr_freq = 0\n",
    "n_corr_rare = 0"
   ]
  },
  {
   "cell_type": "code",
   "execution_count": 52,
   "metadata": {},
   "outputs": [],
   "source": [
    "for line in all_lines[5:]:\n",
    "    split_line = line.split(field_sep)\n",
    "\n",
    "    # does the 3rd element of the list start with 'STIM'?\n",
    "    if split_line[2].startswith('STIM'):\n",
    "        stim_time = split_line[0]\n",
    "        cur_stim = split_line[2][idx]\n",
    "\n",
    "    else:  # nope; it starts with something other than 'STIM'\n",
    "        resp_time = split_line[0]  # replace XXX!\n",
    "        cur_resp = split_line[2][idx] # replace YYY!\n",
    "\n",
    "        # calculate RT\n",
    "        RT = int(resp_time) - int(stim_time) # formula here\n",
    "\n",
    "        # test if the current stimulus is in the `ascii_lowercase`-list\n",
    "        if cur_stim in string.ascii_lowercase:\n",
    "            rt_freq.append(RT)\n",
    "            if int(cur_resp) == 1:\n",
    "                n_corr_freq = n_corr_freq + 1\n",
    "            \n",
    "        # else test if the current stimulus is in the `digits`-list\n",
    "        elif cur_stim in string.digits:\n",
    "            rt_rare.append(RT)\n",
    "            if cur_resp == '2':\n",
    "                n_corr_rare = n_corr_rare + 1"
   ]
  },
  {
   "cell_type": "code",
   "execution_count": 54,
   "metadata": {},
   "outputs": [
    {
     "data": {
      "text/plain": [
       "[3007, 12153, 4080, 5013, 3598, 2730, 5460, 4094, 3173, 4984]"
      ]
     },
     "execution_count": 54,
     "metadata": {},
     "output_type": "execute_result"
    }
   ],
   "source": [
    "rt_freq[:10]"
   ]
  },
  {
   "cell_type": "markdown",
   "metadata": {},
   "source": [
    "## Print out the mean and median RTs and the accuracies for frequent and rare stimuli\n",
    "\n",
    "* use the functions you previously wrote as an exercise\n",
    "    * you'll have to copy the code into the present notebook and execute\n",
    "* recall that times are given in the odd unit of '100's of microseconds'\n",
    "    * multiply by `100e-3` (_i.e_ 0.1) to obtain milliseconds\n",
    "* accuracy is simply the number of correct responses divided by the total number of responses"
   ]
  },
  {
   "cell_type": "code",
   "execution_count": 50,
   "metadata": {},
   "outputs": [],
   "source": [
    "# copy-paste your mean- and median-function here:\n",
    "def mean(values):\n",
    "    return(sum(values)/len(values))\n",
    "def median(values):\n",
    "    return(sorted(values)[len(values) // 2])"
   ]
  },
  {
   "cell_type": "code",
   "execution_count": 58,
   "metadata": {},
   "outputs": [],
   "source": [
    "# freq\n",
    "mean_rt_freq = 0.1 * mean(rt_freq)\n",
    "median_rt_freq = 0.1 * median(rt_freq)\n",
    "accuracy_freq = 100 * n_corr_freq / len(rt_freq)\n",
    "\n",
    "# rare\n",
    "mean_rt_rare = 100e-3 * mean(rt_rare)\n",
    "median_rt_rare = 100e-3 * median(rt_rare)\n",
    "accuracy_rare = 100 * n_corr_rare / len(rt_rare)"
   ]
  },
  {
   "cell_type": "code",
   "execution_count": 59,
   "metadata": {},
   "outputs": [
    {
     "name": "stdout",
     "output_type": "stream",
     "text": [
      "Frequent category:\n",
      "------------------\n",
      "Mean: 499.4505859375\n",
      "Median: 464.70000000000005\n",
      "Accuracy: 96.484375\n"
     ]
    }
   ],
   "source": [
    "print('Frequent category:')\n",
    "print('------------------')\n",
    "print('Mean:', mean_rt_freq)\n",
    "print('Median:', median_rt_freq)\n",
    "print('Accuracy:', accuracy_freq)"
   ]
  },
  {
   "cell_type": "code",
   "execution_count": 60,
   "metadata": {},
   "outputs": [
    {
     "name": "stdout",
     "output_type": "stream",
     "text": [
      "Rare category:\n",
      "--------------\n",
      "Mean: 595.238671875\n",
      "Median: 565.1\n",
      "Accuracy: 85.9375\n"
     ]
    }
   ],
   "source": [
    "print('Rare category:')\n",
    "print('--------------')\n",
    "print('Mean:', mean_rt_rare)\n",
    "print('Median:', median_rt_rare)\n",
    "print('Accuracy:', accuracy_rare)"
   ]
  },
  {
   "cell_type": "markdown",
   "metadata": {},
   "source": [
    "## Convert all of the above into a _function_\n",
    "\n",
    "Now that we have code that works for one file, we can make it into a __function__ and apply it on the other files (hoping they 'behave' the same way as the file we used to develop the code on...)."
   ]
  },
  {
   "cell_type": "code",
   "execution_count": 61,
   "metadata": {},
   "outputs": [],
   "source": [
    "def read_log_file(logfile_name, field_sep='\\t'):\n",
    "    '''Read a single log file\n",
    "    \n",
    "    The default field-separator is set to be the tab-character (\\t)\n",
    "    \n",
    "    Return the mean and median RT, and the accuracy, separately for\n",
    "    the frequent and rare categories. This is done as a list (tuple) of\n",
    "    6 return values, in the order:\n",
    "    (mean_rt_freq, median_rt_freq, accuracy_freq,\n",
    "     mean_rt_rare, median_rt_rare, accuracy_rare)\n",
    "    '''\n",
    "\n",
    "    # initialise \n",
    "    rt_freq = []\n",
    "    rt_rare = []\n",
    "    n_corr_freq = 0\n",
    "    n_corr_rare = 0\n",
    "\n",
    "    # open file and read all its lines into a list\n",
    "    fp = open(logfile_name, 'r')\n",
    "    all_lines = fp.readlines()\n",
    "    fp.close()\n",
    "\n",
    "    # hard-code the index of the stimulus/response type/number\n",
    "    idx = 5\n",
    "    \n",
    "    # loop over lines from 6th onwards\n",
    "    for line in all_lines[5:]:\n",
    "        split_line = line.split(field_sep)\n",
    "\n",
    "        # does the 3rd element of the list start with 'STIM'?\n",
    "        if split_line[2].startswith('STIM'):\n",
    "            stim_time = split_line[0]\n",
    "            cur_stim = split_line[2][idx]\n",
    "\n",
    "        else:  # nope; it starts with something other than 'STIM'\n",
    "            resp_time = split_line[0]  # replace XXX!\n",
    "            cur_resp = split_line[2][idx] # replace YYY!\n",
    "\n",
    "            # calculate RT\n",
    "            RT = int(resp_time) - int(stim_time) # formula here\n",
    "\n",
    "            # test if the current stimulus is in the `ascii_lowercase`-list\n",
    "            if cur_stim in string.ascii_lowercase:\n",
    "                rt_freq.append(RT)\n",
    "                if int(cur_resp) == 1:\n",
    "                    n_corr_freq = n_corr_freq + 1\n",
    "\n",
    "            # else test if the current stimulus is in the `digits`-list\n",
    "            elif cur_stim in string.digits:\n",
    "                rt_rare.append(RT)\n",
    "                if cur_resp == '2':\n",
    "                    n_corr_rare = n_corr_rare + 1                 \n",
    "                    \n",
    "    # freq\n",
    "    mean_rt_freq = 0.1 * mean(rt_freq)\n",
    "    median_rt_freq = 0.1 * median(rt_freq)\n",
    "    accuracy_freq = 100 * n_corr_freq / len(rt_freq)\n",
    "\n",
    "    # rare\n",
    "    mean_rt_rare = 100e-3 * mean(rt_rare)\n",
    "    median_rt_rare = 100e-3 * median(rt_rare)\n",
    "    accuracy_rare = 100 * n_corr_rare / len(rt_rare)\n",
    "\n",
    "    return(mean_rt_freq, median_rt_freq, accuracy_freq,\n",
    "           mean_rt_rare, median_rt_rare, accuracy_rare)"
   ]
  },
  {
   "cell_type": "markdown",
   "metadata": {},
   "source": [
    "## Test the function on the same file, then on a new one"
   ]
  },
  {
   "cell_type": "code",
   "execution_count": 62,
   "metadata": {},
   "outputs": [],
   "source": [
    "(mean_rt_freq, median_rt_freq, accuracy_freq,\n",
    "    mean_rt_rare, median_rt_rare, accuracy_rare) = read_log_file(logfile_name)"
   ]
  },
  {
   "cell_type": "code",
   "execution_count": 63,
   "metadata": {},
   "outputs": [
    {
     "name": "stdout",
     "output_type": "stream",
     "text": [
      "Frequent category:\n",
      "------------------\n",
      "Mean: 499.4505859375\n",
      "Median: 464.70000000000005\n",
      "Accuracy: 96.484375\n"
     ]
    }
   ],
   "source": [
    "print('Frequent category:')\n",
    "print('------------------')\n",
    "print('Mean:', mean_rt_freq)\n",
    "print('Median:', median_rt_freq)\n",
    "print('Accuracy:', accuracy_freq)"
   ]
  },
  {
   "cell_type": "code",
   "execution_count": 64,
   "metadata": {},
   "outputs": [
    {
     "name": "stdout",
     "output_type": "stream",
     "text": [
      "Rare category:\n",
      "--------------\n",
      "Mean: 595.238671875\n",
      "Median: 565.1\n",
      "Accuracy: 85.9375\n"
     ]
    }
   ],
   "source": [
    "print('Rare category:')\n",
    "print('--------------')\n",
    "print('Mean:', mean_rt_rare)\n",
    "print('Median:', median_rt_rare)\n",
    "print('Accuracy:', accuracy_rare)"
   ]
  },
  {
   "cell_type": "code",
   "execution_count": 65,
   "metadata": {},
   "outputs": [],
   "source": [
    "logfile_name = '../src/logs/0048_MSB_2016-09-23.log'"
   ]
  },
  {
   "cell_type": "code",
   "execution_count": 66,
   "metadata": {},
   "outputs": [],
   "source": [
    "(mean_rt_freq, median_rt_freq, accuracy_freq,\n",
    "    mean_rt_rare, median_rt_rare, accuracy_rare) = read_log_file(logfile_name)"
   ]
  },
  {
   "cell_type": "code",
   "execution_count": 67,
   "metadata": {},
   "outputs": [
    {
     "name": "stdout",
     "output_type": "stream",
     "text": [
      "Frequent category:\n",
      "------------------\n",
      "Mean: 503.15771484375\n",
      "Median: 466.6\n",
      "Accuracy: 95.60546875\n"
     ]
    }
   ],
   "source": [
    "print('Frequent category:')\n",
    "print('------------------')\n",
    "print('Mean:', mean_rt_freq)\n",
    "print('Median:', median_rt_freq)\n",
    "print('Accuracy:', accuracy_freq)"
   ]
  },
  {
   "cell_type": "code",
   "execution_count": 68,
   "metadata": {},
   "outputs": [
    {
     "name": "stdout",
     "output_type": "stream",
     "text": [
      "Rare category:\n",
      "--------------\n",
      "Mean: 582.63359375\n",
      "Median: 549.6\n",
      "Accuracy: 88.671875\n"
     ]
    }
   ],
   "source": [
    "print('Rare category:')\n",
    "print('--------------')\n",
    "print('Mean:', mean_rt_rare)\n",
    "print('Median:', median_rt_rare)\n",
    "print('Accuracy:', accuracy_rare)"
   ]
  },
  {
   "cell_type": "code",
   "execution_count": null,
   "metadata": {},
   "outputs": [],
   "source": []
  }
 ],
 "metadata": {
  "kernelspec": {
   "display_name": "Python 3",
   "language": "python",
   "name": "python3"
  },
  "language_info": {
   "codemirror_mode": {
    "name": "ipython",
    "version": 3
   },
   "file_extension": ".py",
   "mimetype": "text/x-python",
   "name": "python",
   "nbconvert_exporter": "python",
   "pygments_lexer": "ipython3",
   "version": "3.6.2"
  }
 },
 "nbformat": 4,
 "nbformat_minor": 2
}
