{
 "cells": [
  {
   "cell_type": "markdown",
   "metadata": {},
   "source": [
    "# What is a computer\n",
    "\n",
    "The main components: an overview ([image source](https://chortle.ccsu.edu/java5/Notes/chap01/ch01_4.html)).\n",
    "\n",
    "<img src=\"imgs/ComputerComponents.gif\">\n",
    "\n",
    "## Central Processing Unit (CPU)\n",
    "\n",
    "* control and arithmetic\n",
    "* IO\n",
    "* ...\n",
    "\n",
    "Moves data around on the _bus_, the \"highway system\" of the computer.\n",
    "\n",
    "##  Data\n",
    "\n",
    "* binary-encoded information stored in chunks of 8 bits known as a byte\n",
    "\n",
    "\n",
    "##  RAM/memory\n",
    "\n",
    "* volatile store of data and instructions on what to do with it (just another form of data)\n",
    "\n",
    "## Storage\n",
    "\n",
    "* hard disk, USB (thumb) drive, etc.\n",
    "* persistent store of data\n",
    "\n",
    "## Input and output devices\n",
    "\n",
    "* monitor\n",
    "* keyboard\n",
    "* trackpad, ..."
   ]
  },
  {
   "cell_type": "markdown",
   "metadata": {},
   "source": [
    "# More details"
   ]
  },
  {
   "cell_type": "markdown",
   "metadata": {},
   "source": [
    "## CPU\n",
    "\n",
    "\"Driven\" (only) by data in memory; only data in memory can be processed (limits on computations).\n",
    "\n",
    "### Instruction set\n",
    "\n",
    "* copy data from one address to another (possibly register on CPU)\n",
    "* arithmetic \n",
    "* comparison\n",
    "* more complex instructions available for specific use cases (SIMD)\n",
    "\n",
    "### Clock speed\n",
    "\n",
    "* instructions per second\n",
    "\n",
    "The controller unit deciphering CPU instructions can only process one command per cycle/tick of the internal clock (today measured in GHz -> billion ops per sec). The feeling we have as users of fluidity of a UI is an illusion: the CPU  very rapidly switches between different tasks: massively serial processing\n",
    "\n",
    "The name for logically separate streams of serial tasks is a **thread**. Think of them as lines of thought of the CPU. A modern OS has dozens of open  threads at any time, and it more or less cleverly assigns cycles to the threads in most need (e.g. the thread listening to data transfer on a USB port becomes active with incoming data, which the CPU needs to allocate \"cycles\" to move into memory as appropriate). But always: just one thread at a time! \n",
    "\n",
    "Today's CPUs are actually able to perform multiple instructions per clock tick, but to leverage that requires the programmer to think about the problem being solved. It's not something normal users need to consider\n",
    "\n",
    "A more significant evolution of the CPU is that today's consist of multiple /cores/. Fundamentally each core can process a thread independently and concurrently with other cores, leading to a form of /parallelism/."
   ]
  },
  {
   "cell_type": "markdown",
   "metadata": {},
   "source": [
    "## Memory\n",
    "\n",
    "Random access: CPU sees it like a massive ordered collection of addresses, each containing one byte of data\n",
    "64-bit: Modern OSs are 64-bit\n",
    "* lots of addresses \n",
    "* higher floating point precision \n",
    "\n",
    "## Data \n",
    "\n",
    "More or less structured collection of information, always encoded in bits\n",
    "Data _represents_ something \n",
    "* text\n",
    "* Image\n",
    "* Measurements (numbers: integers or floats)\n",
    "Data must be combined with a representation to enable extraction of information (example: image Lena)\n",
    "Data manipulation\n",
    "\n",
    "\n",
    "### Guessing game\n",
    "\n",
    "```\n",
    "LOAD secret number from next memory address\n",
    "OUTput letter to screen\n",
    "...\n",
    "A1: GET keyboard input\n",
    "COMPARE input to target\n",
    "JUMP IF equal to memory address A2\n",
    "OUTput guess again\n",
    "JUMP to A1\n",
    "...\n",
    "A2: OUTput you guessed it\n",
    "JUMP to QUIT\n",
    "```"
   ]
  },
  {
   "cell_type": "markdown",
   "metadata": {},
   "source": []
  },
  {
   "cell_type": "code",
   "execution_count": null,
   "metadata": {},
   "outputs": [],
   "source": []
  }
 ],
 "metadata": {
  "kernelspec": {
   "display_name": "Python 3",
   "language": "python",
   "name": "python3"
  },
  "language_info": {
   "codemirror_mode": {
    "name": "ipython",
    "version": 3
   },
   "file_extension": ".py",
   "mimetype": "text/x-python",
   "name": "python",
   "nbconvert_exporter": "python",
   "pygments_lexer": "ipython3",
   "version": "3.6.1"
  }
 },
 "nbformat": 4,
 "nbformat_minor": 2
}
