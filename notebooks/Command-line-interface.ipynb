{
 "cells": [
  {
   "cell_type": "markdown",
   "metadata": {},
   "source": [
    "# The Command Line Interface (CLI)\n",
    "\n",
    "See [introduction here](http://lifehacker.com/5633909/who-needs-a-mouse-learn-to-use-the-command-line-for-almost-anything/amp). The first paragraph serves as our motivation:\n",
    "\n",
    ">The command-line interface, sometimes referred to as the CLI, is a tool into which you can type text commands to perform specific tasks—in contrast to the mouse's pointing and clicking on menus and buttons. Since you can directly control the computer by typing, many tasks can be performed more quickly, and some tasks can be automated with special commands that loop through and perform the same action on many files—saving you, potentially, loads of time in the process.\n",
    "\n",
    "Windows-users should move to the Linux virtual machine provided, Mac-users can choose to remain on their 'native' platform and simply start the `Terminal.app` found in `Appliations/Utilities`."
   ]
  },
  {
   "cell_type": "markdown",
   "metadata": {},
   "source": [
    "## Resources\n",
    "\n",
    "In addition to the links in this document, we will provide you with an excerpt from the book \"_Data Science at the Command Line_\" by Jeroen Janssens ([Published by O’Reilly Media](http://shop.oreilly.com/product/0636920032823.do?cmp=af-strata-books-videos-product_cj_9781491947852_%25zp)), from which we 'borrow' heavily in the following sections."
   ]
  },
  {
   "cell_type": "markdown",
   "metadata": {},
   "source": [
    "## Terminal\n",
    "\n",
    "* prompt (`$`): ready for input!\n",
    "* standard output stream: messages _to us_ _from the computer_!\n",
    "* language: what can I say?"
   ]
  },
  {
   "cell_type": "markdown",
   "metadata": {},
   "source": [
    "## Bash: a command interpreter\n",
    "\n",
    "Copy, move (rename), delete/remove file(s), make/remove folder, find files, substring matching (grep), chaining commands using redirection and pipes.\n",
    "\n"
   ]
  },
  {
   "cell_type": "markdown",
   "metadata": {},
   "source": [
    "## The PATH\n",
    "\n",
    "* executable vs. non-executable?\n",
    "   * does the data in the file contain _instructions_ for the CPU?\n",
    "   * can the instructions be _interpreted_ as CPU operations?\n",
    "* where should the OS look for instruction-containing data?\n",
    "   * OS X: `/Applications`\n",
    "   * Windows: `C:\\Program Files\\`\n",
    "   * Linux: `/bin`, `/sbin`, `/usr/local/bin`, ......."
   ]
  },
  {
   "cell_type": "markdown",
   "metadata": {},
   "source": [
    "# Directory navigation & file manipulation"
   ]
  },
  {
   "cell_type": "markdown",
   "metadata": {},
   "source": [
    "The command `ls` (short for 'list') shows the contents of the current directory"
   ]
  },
  {
   "cell_type": "code",
   "execution_count": 11,
   "metadata": {
    "collapsed": false
   },
   "outputs": [
    {
     "name": "stdout",
     "output_type": "stream",
     "text": [
      "LICENSE                \u001b[1m\u001b[34mexercises\u001b[39;49m\u001b[0m              program.md\r\n",
      "README.md              \u001b[1m\u001b[34mexternal\u001b[39;49m\u001b[0m               todos_and_software.md\r\n",
      "course_description.md  notes_and_metaphors.md\r\n"
     ]
    }
   ],
   "source": [
    "ls"
   ]
  },
  {
   "cell_type": "markdown",
   "metadata": {},
   "source": [
    "But where am I? The `pwd`-command stands for 'Present Working Directory'"
   ]
  },
  {
   "cell_type": "code",
   "execution_count": 2,
   "metadata": {
    "collapsed": false
   },
   "outputs": [
    {
     "name": "stdout",
     "output_type": "stream",
     "text": [
      "/Users/cjb/Documents/Courses&Workshops/intro_to_scientific_computing/exercises\r\n"
     ]
    }
   ],
   "source": [
    "pwd"
   ]
  },
  {
   "cell_type": "markdown",
   "metadata": {},
   "source": [
    "To 'go up' one level in the directory hierarchy, use the 'dot-dot'-syntax"
   ]
  },
  {
   "cell_type": "code",
   "execution_count": 4,
   "metadata": {
    "collapsed": false
   },
   "outputs": [
    {
     "name": "stdout",
     "output_type": "stream",
     "text": []
    }
   ],
   "source": [
    "cd .."
   ]
  },
  {
   "cell_type": "code",
   "execution_count": 12,
   "metadata": {
    "collapsed": false
   },
   "outputs": [
    {
     "name": "stdout",
     "output_type": "stream",
     "text": [
      "/Users/cjb/Documents/Courses&Workshops/intro_to_scientific_computing\r\n"
     ]
    }
   ],
   "source": [
    "pwd"
   ]
  },
  {
   "cell_type": "markdown",
   "metadata": {},
   "source": [
    "To enter 'into' a folder, simply `cd` (Change Directory) to it"
   ]
  },
  {
   "cell_type": "code",
   "execution_count": 14,
   "metadata": {
    "collapsed": false
   },
   "outputs": [
    {
     "name": "stdout",
     "output_type": "stream",
     "text": []
    }
   ],
   "source": [
    "cd exercises"
   ]
  },
  {
   "cell_type": "code",
   "execution_count": 15,
   "metadata": {
    "collapsed": false
   },
   "outputs": [
    {
     "name": "stdout",
     "output_type": "stream",
     "text": [
      "/Users/cjb/Documents/Courses&Workshops/intro_to_scientific_computing/exercises\r\n"
     ]
    }
   ],
   "source": [
    "pwd"
   ]
  },
  {
   "cell_type": "markdown",
   "metadata": {},
   "source": [
    "## What type is file X?\n",
    "\n",
    "Note that the _suffix_ of a file does not necessarily carry _any_ information on its contents! Some suffixes, such as `.txt` are considered \"standardised\", but the operating system does not enforce any rules on the naming of files."
   ]
  },
  {
   "cell_type": "code",
   "execution_count": 16,
   "metadata": {
    "collapsed": false
   },
   "outputs": [
    {
     "name": "stdout",
     "output_type": "stream",
     "text": [
      "short_textual_file.xyz: UTF-8 Unicode text\r\n"
     ]
    }
   ],
   "source": [
    "file short_textual_file.xyz"
   ]
  },
  {
   "cell_type": "code",
   "execution_count": 2,
   "metadata": {
    "collapsed": false
   },
   "outputs": [
    {
     "name": "stdout",
     "output_type": "stream",
     "text": [
      "some_onknown_file.fmt: JPEG image data, JFIF standard 1.01, resolution (DPI), density 96x96, segment length 16, Exif Standard: [TIFF image data, big-endian, direntries=1], baseline, precision 8, 324x324, frames 3\r\n"
     ]
    }
   ],
   "source": [
    "file some_onknown_file.fmt"
   ]
  },
  {
   "cell_type": "markdown",
   "metadata": {},
   "source": [
    "It's an image!"
   ]
  },
  {
   "cell_type": "markdown",
   "metadata": {},
   "source": [
    "## ASCII and Unicode\n",
    "\n",
    "American Standard Code for Information Interchange. Computers can only understand numbers, so an ASCII code is the numerical representation of a character such as 'a' or '@' or an action of some sort. See more information [on the Wiki](https://en.wikipedia.org/wiki/ASCII).\n",
    "\n",
    "Unicode..."
   ]
  },
  {
   "cell_type": "markdown",
   "metadata": {},
   "source": [
    "## Displaying the contents of a textual file in bash\n",
    "\n",
    "It is often most efficient to view the contents of small files in the terminal, instead of a graphical text editor. "
   ]
  },
  {
   "cell_type": "code",
   "execution_count": 4,
   "metadata": {
    "collapsed": false,
    "scrolled": true
   },
   "outputs": [
    {
     "name": "stdout",
     "output_type": "stream",
     "text": [
      "# The hash-sign is often considered a \"comment\"\r\n",
      "\r\n",
      "Lines without hash-signs may carry important information, such as: 42\r\n",
      "\r\n",
      "Encoding of \"non-ASCII\" characters can sometimes be challenging: å, æ, ø, ä, ö.\r\n"
     ]
    }
   ],
   "source": [
    "cat short_textual_file.xyz"
   ]
  },
  {
   "cell_type": "markdown",
   "metadata": {},
   "source": [
    "For longer files, the `less` command is very handy.\n",
    "\n",
    "__NB__ This will not work in the `notebook`, must be run in a terminal!\n",
    "\n",
    "Some navigation commands include:\n",
    "\n",
    "* [arrow keys]: move up/down a line at a time\n",
    "* [space or n]: move down a page (next page)\n",
    "* [b]: move up (back) a page\n",
    "* [q]: quit viewing the file"
   ]
  },
  {
   "cell_type": "markdown",
   "metadata": {},
   "source": [
    "### Exercise: Use `less` to view the contents of a textual file"
   ]
  },
  {
   "cell_type": "markdown",
   "metadata": {},
   "source": [
    "In the /Launcher/, start a new /Terminal/-tab. Make sure you're in the `exercises`-folder (use `ls`, `pwd` to check, and possibly `cd` to correct). "
   ]
  },
  {
   "cell_type": "markdown",
   "metadata": {},
   "source": [
    "## Binary\n",
    "\n",
    "The term \"binary\" simply refers to the fact that data in the file is written as a _sequence of bits_. To contrast this to a textual file, we could say:\n",
    "\n",
    "> Textual files have a pre-defined encoding of the bytes it contains, _e.g._, as ASCII characters ('a' is saved as the byte `0x61`, which in decimal numbers equates to 97).\n",
    "\n",
    "> To extract data from a binary file, it is necessary to know how the bytes were encoded. Otherwise it's gibberish!"
   ]
  },
  {
   "cell_type": "code",
   "execution_count": null,
   "metadata": {
    "collapsed": false
   },
   "outputs": [],
   "source": [
    "# This kills the notebook :(\n",
    "# Could be prevented due to a security risk due to arbitrary code execution?\n",
    "# cat binary_image_file.jpg"
   ]
  },
  {
   "cell_type": "markdown",
   "metadata": {},
   "source": [
    "### Header files\n",
    "\n",
    "Usually: textual files that define the encoding of a binary data file."
   ]
  },
  {
   "cell_type": "markdown",
   "metadata": {},
   "source": [
    "# Exercises\n",
    "\n",
    "## How are executables found "
   ]
  },
  {
   "cell_type": "markdown",
   "metadata": {},
   "source": [
    "Select a conda environment, open a Terminal and execute the commands\n",
    "\n",
    "```\n",
    "which python\n",
    "echo $PATH\n",
    "```\n",
    "\n",
    "Then select another environment and repeat. Where is the Python-executable located in the two cases? How is this reflected in the `PATH` environment variable?"
   ]
  }
 ],
 "metadata": {
  "kernelspec": {
   "display_name": "Python 3",
   "language": "python",
   "name": "python3"
  },
  "language_info": {
   "codemirror_mode": {
    "name": "ipython",
    "version": 3
   },
   "file_extension": ".py",
   "mimetype": "text/x-python",
   "name": "python",
   "nbconvert_exporter": "python",
   "pygments_lexer": "ipython3",
   "version": "3.6.2"
  }
 },
 "nbformat": 4,
 "nbformat_minor": 2
}
