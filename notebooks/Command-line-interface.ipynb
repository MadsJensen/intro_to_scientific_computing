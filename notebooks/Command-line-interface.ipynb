{
 "cells": [
  {
   "cell_type": "markdown",
   "metadata": {},
   "source": [
    "# The Command Line Interface (CLI)\n",
    "\n",
    "See [introduction here](http://lifehacker.com/5633909/who-needs-a-mouse-learn-to-use-the-command-line-for-almost-anything/amp). The first paragraph serves as our motivation:\n",
    "\n",
    ">The command-line interface, sometimes referred to as the CLI, is a tool into which you can type text commands to perform specific tasks—in contrast to the mouse's pointing and clicking on menus and buttons. Since you can directly control the computer by typing, many tasks can be performed more quickly, and some tasks can be automated with special commands that loop through and perform the same action on many files—saving you, potentially, loads of time in the process.\n",
    "\n",
    "\n",
    "## Terminal\n",
    "\n",
    "* prompt (`$`): ready for input!\n",
    "* standard output stream: messages _to us_ _from the computer_!\n",
    "* language: what can I say?\n"
   ]
  },
  {
   "cell_type": "markdown",
   "metadata": {},
   "source": [
    "## Bash: a command interpreter\n",
    "\n",
    "Copy, move (rename), delete/remove file(s), make/remove folder, find files, substring matching (grep), chaining commands using redirection and pipes.\n",
    "\n"
   ]
  },
  {
   "cell_type": "markdown",
   "metadata": {},
   "source": [
    "## The PATH\n",
    "\n",
    "* executable vs. non-executable?\n",
    "   * does the data in the file contain _instructions_ for the CPU?\n",
    "   * can the instructions be _interpreted_ as CPU operations?\n",
    "* where should the OS look for instruction-containing data?\n",
    "   * OS X: `/Applications`\n",
    "   * Windows: `C:\\Program Files\\`\n",
    "   * Linux: `/bin`, `/sbin`, `/usr/local/bin`, ......."
   ]
  },
  {
   "cell_type": "markdown",
   "metadata": {},
   "source": [
    "# Exercises\n",
    "\n",
    "## How are executables found "
   ]
  },
  {
   "cell_type": "markdown",
   "metadata": {},
   "source": [
    "Select a conda environment, open a Terminal and execute the commands\n",
    "\n",
    "```\n",
    "which python\n",
    "echo $PATH\n",
    "```\n",
    "\n",
    "Then select another environment and repeat. Where is the Python-executable located in the two cases? How is this reflected in the `PATH` environment variable?"
   ]
  }
 ],
 "metadata": {
  "kernelspec": {
   "display_name": "Python 3",
   "language": "python",
   "name": "python3"
  },
  "language_info": {
   "codemirror_mode": {
    "name": "ipython",
    "version": 3
   },
   "file_extension": ".py",
   "mimetype": "text/x-python",
   "name": "python",
   "nbconvert_exporter": "python",
   "pygments_lexer": "ipython3",
   "version": "3.6.2"
  }
 },
 "nbformat": 4,
 "nbformat_minor": 2
}
