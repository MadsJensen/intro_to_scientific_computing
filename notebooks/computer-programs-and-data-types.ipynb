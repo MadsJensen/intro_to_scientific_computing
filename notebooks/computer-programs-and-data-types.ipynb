{
 "cells": [
  {
   "cell_type": "markdown",
   "metadata": {},
   "source": [
    "# Computer programs  \n",
    "  \n",
    ">A **program** is a sequence of instructions that specifies how to perform a computation. The computation might be something mathematical, such as solving a system of equations or finding the roots of a polynomial, but it can also be a symbolic computation, such as searching and replacing text in a document or something graphical, like processing an image or playing a video. (Downey, 2015) "
   ]
  },
  {
   "cell_type": "markdown",
   "metadata": {},
   "source": [
    "## References\n",
    "\n",
    "Much of this notebook, where indicated and elsewhere, is copied from the following book:\n",
    "  \n",
    "Allen Downey, _Think Python: How to think like a computer scientist_, 2nd edition, [Green Tea Press](http://greenteapress.com/), 2015.\n",
    "  \n",
    "Quotes from the book, which may be freely downloaded [here](http://greenteapress.com/wp/think-python-2e/), are used under the terms of the Creative Commons Attribution-NonCommercial 3.0 Unported License, which is available at http://creativecommons.org/licenses/by-nc/3.0/.  "
   ]
  },
  {
   "cell_type": "markdown",
   "metadata": {},
   "source": [
    "## Programming languages  \n",
    "  \n",
    "**Natural languages** are the languages people speak, such as English, Spanish, and French. They were not designed by people (although people try to impose some order on them); they evolved naturally.   \n",
    "  \n",
    "**Formal languages** are languages that are designed by people for specific applications. For example, the notation that mathematicians use is a formal language that is particularly good at denoting relationships among numbers and symbols. Chemists use a formal language to represent the chemical structure of molecules. And most importantly:   \n",
    "  \n",
    "**Programming languages are formal languages that have been designed to express computations.**  \n",
    "  \n",
    "### Textual “code” files  \n",
    "  \n",
    "The set of formal statements that constitute a program are known as **code**. The programmer writes code into _files_ that are saved using a file extension that indicates the language the code is written in; examples include:  \n",
    "  \n",
    "* _.py_ for Python  \n",
    "* _.c_ for C  \n",
    "* _.m_ for Matlab  \n",
    "  \n",
    "Note that they are **textual**, _i.e._, human-readable format (as opposed to machine code: a binary representation of the code).  \n",
    "  \n",
    "### Syntax  \n",
    "  \n",
    "The formal programming languages have associated _syntax rules_ that come in two flavors: one pertaining to **tokens** and another to **structure** [how tokens may be combined]. Tokens are the basic elements of the language, such as words, numbers, and chemical elements. Programming languges differ greatly in both the specific form of the tokens used and the structures they may form.  \n",
    "  \n",
    "One of the most common error messages a programmer encounters when beginning to use a new language is the infamous: `Syntax Error`! For learners of natural languages, structural errors much more common are ;)  "
   ]
  },
  {
   "cell_type": "code",
   "execution_count": null,
   "metadata": {},
   "outputs": [],
   "source": [
    "# example of a syntax error\n",
    "Computer: please write my thesis."
   ]
  },
  {
   "cell_type": "code",
   "execution_count": null,
   "metadata": {},
   "outputs": [],
   "source": [
    "# example of an error in structure\n",
    "'a' + 1"
   ]
  },
  {
   "cell_type": "markdown",
   "metadata": {},
   "source": [
    "### Unambiguous and literal  \n",
    "  \n",
    ">The meaning of a computer program is unambiguous and literal, and can be understood entirely by analysis of the tokens and structure.  \n",
    "  \n",
    ">Formal languages are more dense than natural languages, so it takes longer to read them. Also, the structure is important, so it is not always best to read from top to bottom, left to right. Instead, learn to parse the program in your head, identifying the tokens and interpreting the structure. Finally, the details matter. Small errors in spelling and punctuation, which you can get away with in natural languages, can make a big difference in a formal language. (Downey, 2015)  \n",
    "  \n",
    "### Comments  \n",
    "  \n",
    "Partly because programming languages have rather terse syntax (some are worse than others!), it is considered a _good custom_ to annotate the computational “business”-portions of programs with __comments__. Comments are portions of the _code_ that are not **parsed** by either the interpreter or the compiler, _i.e._, these are “left out” from the translation to machine instructions. Comments are thus exempt of syntax-checking and meaning-parsing applied to all other code.  \n",
    "  \n",
    "Here is an example of a comment in the Python language. Whenever the hash-sign (‘#’) is encountered, parsing of the current line is stopped and the parser (interpreter or compiler) moves to the next line."
   ]
  },
  {
   "cell_type": "code",
   "execution_count": null,
   "metadata": {
    "collapsed": true
   },
   "outputs": [],
   "source": [
    "2  # this is the number two  "
   ]
  },
  {
   "cell_type": "markdown",
   "metadata": {},
   "source": [
    "## Scripts  \n",
    "  \n",
    "When working in a field with computational elements, you are likely to come across the term *script*.  \n",
    "  \n",
    "  \n",
    "[1]: http://jupyter.org"
   ]
  },
  {
   "cell_type": "markdown",
   "metadata": {},
   "source": [
    "## Compiled programs/languages  \n",
    "  \n",
    "This is the ‘traditional’ way of thinking about programming: a two-stage process of execution  \n",
    "  \n",
    "1. a **compiler** (_e.g._, gcc) passes through _all code_, checks it (for syntax & structure), then writes out **machine code**  \n",
    "1. the **binary** machine code is executed by the CPU as a ‘program’  \n",
    "  \n",
    "The ‘compilation’ stage allows, amongst other things, the compiler to _optimize_ the execution of the CPU-level instructions with respect to more-or-less detailed knowledge of the processor and memory layout of the computer performing the computations. Note also that once a program has been compiled to be executable, it is no longer human-readable.  \n",
    "  \n",
    "Examples of (important) compiled languages include:  \n",
    "  \n",
    "- Fortran  \n",
    "- Java  \n",
    "- C / C++ / C#  \n",
    "  \n",
    "## Interpreted languages and REPL\n",
    "  \n",
    "These are executed line-by-line, in a ___read-evaluate-print-loop (REPL)___.\n",
    "\n",
    "### `bash` (and other shells)\n",
    "\n",
    "- [the CLI](05-Command-line-interface-A.ipynb)\n",
    "  \n",
    "### Javascript\n",
    "  \n",
    "- used to make webpages interactive and provide online programs, including video games.  \n",
    "  \n",
    "### Matlab\n",
    "  \n",
    "- GUI by Mathworks (costly license)\n",
    "    * easy to get going!\n",
    "- Numerical algorithms are actually in the public domain\n",
    "\n",
    "### Python\n",
    "\n",
    "- a 'real' programming language (Dropbox, Youtube, Netflix, Google...)\n",
    "- a popular 'scripting' language\n",
    "    * the 'glue' to stitch together other tools\n",
    "    * most Linux-distributions rely on it\n",
    "- _massive_ 'standard library'\n",
    "    * chances are the task/problem you have was already solved!\n",
    "- open-source, free software\n",
    "\n",
    "### IPython  \n",
    "  \n",
    "- an enhanced `python` interpreter\n",
    "    * optimised for _interactivity_ (REPL)\n",
    "- command-line interface\n",
    "    * prettyfied by, _e.g._, [Jupyter notebooks](jupyter.org)"
   ]
  },
  {
   "cell_type": "markdown",
   "metadata": {},
   "source": [
    "## Variables, expressions and statements  \n",
    "  \n",
    "Following Chapter 2 in (Downey, 2015).  \n",
    "  \n",
    "### Assignment & variables  \n",
    "  \n",
    ">One of the most powerful features of a programming language is the ability to manipulate **variables**. A variable is a name that refers to a value.\" (Downey, 2015)  \n",
    "  \n",
    "Variables are **assigned** values; in _most_ programming languages, the assignment **operator** is the equal-sign (`=`). **Assignment statements** are read from left-to-right, here are a couple of `python`-assignments:"
   ]
  },
  {
   "cell_type": "code",
   "execution_count": null,
   "metadata": {
    "collapsed": true
   },
   "outputs": [],
   "source": [
    "message = \"Is it time for a break yet?\"\n",
    "n = 42  \n",
    "electron_mass_MeV = 0.511  "
   ]
  },
  {
   "cell_type": "markdown",
   "metadata": {},
   "source": [
    "The programmer is free to choose the _names_ of the variables she wishes to use in the code, as long as they do not violate the language’s syntactic rules. Common to most languages is that the following variable names are _syntactically incorrect_.  \n",
    "  \n",
    "_Never_ begin the name of a variable with a digit, or pretty much any other non-letter character (there are a few exceptions, such as _underscore_, `_`):"
   ]
  },
  {
   "cell_type": "code",
   "execution_count": null,
   "metadata": {
    "collapsed": true
   },
   "outputs": [],
   "source": [
    "2fast = 140"
   ]
  },
  {
   "cell_type": "code",
   "execution_count": null,
   "metadata": {
    "collapsed": true
   },
   "outputs": [],
   "source": [
    "@home = False"
   ]
  },
  {
   "cell_type": "code",
   "execution_count": null,
   "metadata": {},
   "outputs": [],
   "source": [
    "no spaces = 'a space'"
   ]
  },
  {
   "cell_type": "markdown",
   "metadata": {},
   "source": [
    "In Python, to see what a variable contains (maybe we forgot!), we can simply write the name of the variable on a line and execute it, or use the built-in `print`-command"
   ]
  },
  {
   "cell_type": "code",
   "execution_count": null,
   "metadata": {
    "collapsed": true
   },
   "outputs": [],
   "source": [
    "n"
   ]
  },
  {
   "cell_type": "code",
   "execution_count": null,
   "metadata": {
    "collapsed": true
   },
   "outputs": [],
   "source": [
    "print(message)  "
   ]
  },
  {
   "cell_type": "markdown",
   "metadata": {},
   "source": [
    "Note that _a variable name is like a pointer to whatever data the assignment operation dictates_. In interpreted languages, one does not need to pre-define what the variable is to contain: the interpreter figures this out on-the-fly. Similarly, the assignment to a variable can happen multiple times in the ‘lifetime’ of a program: each assignment simply moves the pointer to a new data object.\n",
    "\n",
    "The following lines of code calculate and print the first few values of the [Fibonacci sequence](https://en.wikipedia.org/wiki/Fibonacci_number); make sure you understand what values are being assigned to the variables `a`, `b` and `c`."
   ]
  },
  {
   "cell_type": "code",
   "execution_count": null,
   "metadata": {},
   "outputs": [],
   "source": [
    "a = 0\n",
    "b = 1\n",
    "\n",
    "c = a + b\n",
    "print(c)\n",
    "a = b\n",
    "b = c\n",
    "c = a + b\n",
    "print(c)\n",
    "a = b\n",
    "b = c\n",
    "c = a + b\n",
    "print(c)\n",
    "a = b\n",
    "b = c\n",
    "c = a + b\n",
    "print(c)\n",
    "a = b\n",
    "b = c\n",
    "c = a + b\n",
    "print(c)\n",
    "a = b\n",
    "b = c\n",
    "c = a + b\n",
    "print(c)"
   ]
  },
  {
   "cell_type": "markdown",
   "metadata": {},
   "source": [
    "### Keywords  \n",
    "  \n",
    "Each programming language ‘reserves’ some portion of typically the English (natural) language as **keywords** that are associated with specific (typically low-level) computational operations.  \n",
    "  \n",
    "Practically all languages use the keywords `if`, `else` and `for` for ‘control flow’ of program execution. In Python, `not`, `True`, `False` and `None` are used to define logic:"
   ]
  },
  {
   "cell_type": "code",
   "execution_count": null,
   "metadata": {
    "collapsed": true
   },
   "outputs": [],
   "source": [
    "two_greater_than_one = (2 > 1)  \n",
    "print(two_greater_than_one)  \n",
    "if two_greater_than_one:  \n",
    "    print('Correct')  "
   ]
  },
  {
   "cell_type": "markdown",
   "metadata": {},
   "source": [
    "**NB** Keywords cannot be used as variable names! Try, and you will get a Syntax Error.  "
   ]
  },
  {
   "cell_type": "code",
   "execution_count": null,
   "metadata": {},
   "outputs": [],
   "source": []
  },
  {
   "cell_type": "markdown",
   "metadata": {},
   "source": [
    "### Expressions and operators  \n",
    "  \n",
    "An **expression** is a combination of values, variables, and operators. An expression gets **evaluated** when it is executed, and a value is found for it:"
   ]
  },
  {
   "cell_type": "code",
   "execution_count": null,
   "metadata": {
    "collapsed": true
   },
   "outputs": [],
   "source": [
    "n = 42  \n",
    "m = n + 25  \n",
    "print(m)  "
   ]
  },
  {
   "cell_type": "markdown",
   "metadata": {},
   "source": [
    "A **statement** is a unit of code that has an effect, like creating a variable or displaying a value (there are three statements in the code block above). When you type a statement, the interpreter **executes** it, which means that it does whatever the statement says.  \n",
    "  \n",
    "**Operators** are one of the ways we can manipulate the data referenced by our variables. The usual mathematical operators are omnipresent, but things get interesting when we start applying operations to non-numeric objects. In Python, we could _e.g._ multiply a string by an integer, or in Matlab divide a 2D _matrix_ of numbers by a 1D _vector_ to obtain the least-squares estimate of the solution to a set of linear equations! But we digress...  "
   ]
  },
  {
   "cell_type": "markdown",
   "metadata": {},
   "source": [
    " \n",
    "## Data types  "
   ]
  },
  {
   "cell_type": "markdown",
   "metadata": {},
   "source": [
    "### Integers  \n",
    "  \n",
    "_a.k.a._ whole numbers. Recall that everything in a computer system is represented in _bits_, corresponding to successive powers of 2. The largest integer that can be represented in a single 64-bit memory register is $2^{63} - 1$:"
   ]
  },
  {
   "cell_type": "code",
   "execution_count": null,
   "metadata": {},
   "outputs": [],
   "source": [
    "pow(2, 63) - 1"
   ]
  },
  {
   "cell_type": "markdown",
   "metadata": {},
   "source": [
    "which is called: \"nine quintillion two hundred twenty-three quadrillion three hundred seventy-two trillion thirty-six billion eight hundred fifty-four million seven hundred seventy-five thousand eight hundred seven\" (in case you were wondering).\n",
    "\n",
    "In practice, computers can perform arithmetic on arbitrarily large integers, as long as the language implemeting the computing suitably keeps track of what's going on in memory"
   ]
  },
  {
   "cell_type": "markdown",
   "metadata": {},
   "source": [
    "### Floating point numbers\n",
    "\n",
    "_a.k.a_ real numbers, or just \"floats\". What is the powers-of-two representation of the real number `0.1`? What about the value of $\\pi$ (an irrational number)? There are none! If you're interested precisely how floating point numbers are represented in binary form, check out [this wiki page on the topic](https://en.wikipedia.org/wiki/IEEE_754), but bewarned: it's hairy!\n",
    "\n",
    "The most relevant parameter for floats is not its size, but its _precision_. \n",
    "\n",
    "<img src=\"imgs/float_precision.jpg\" width=400>\n",
    ">[Image source.](https://image.slidesharecdn.com/3-numbersystemsfloatingpoint-150305164257-conversion-gate01/95/3-number-systemsfloatingpoint-4-638.jpg?cb=1425573795)\n",
    "\n",
    "You can think of floating point precision as the number of digits after the decimal comma. For example:\n",
    "\n",
    "$\\frac{2}{3} \\sim 0.6667$ is a more precise representation than $\\frac{2}{3} \\sim 0.7$\n",
    "\n",
    "Like integers, real number need to be stored using some number of bits (and a scheme for representing it, as discussed above). You are likely to come across the terms ‘float’ and ‘single’: these refer to real numbers represented using 32-bit resolution. A ‘double’ refers to a 64-bit representation of a number. It is beyond the scope of this course to go into the details of under which conditions one representation/precision is more appropriate than the other. Suffice it to say: it’s better to err on the side of caution and use doubles. This is indeed what all mainstream interpreted languages do.\n",
    "\n",
    "We'll return to the issue of floats vs. doubles [below](#Large-datasets-and-the-limits-of-memory) in the context of the limits of memory (not yours, the computer's)."
   ]
  },
  {
   "cell_type": "markdown",
   "metadata": {},
   "source": [
    "### Characters and strings  \n",
    "  \n",
    "A string is an ordered sequence of (one or more) characters. In python, strings are particularly nimble (don’t try this in other languages!):"
   ]
  },
  {
   "cell_type": "code",
   "execution_count": null,
   "metadata": {
    "collapsed": true
   },
   "outputs": [],
   "source": [
    "a_character = '*'  # a single character\n",
    "one_string = 'I am a '  # several characters in a row = a string\n",
    "another_string = \"Snowflake\"  # single or double quotes work in Python\n",
    "print(one_string + another_string)\n",
    "print(3 * another_string + a_character)"
   ]
  },
  {
   "cell_type": "markdown",
   "metadata": {},
   "source": [
    "There is all manner of mayhem associated with character strings in programming languages. The thorniest issue is related to __encoding__: just like floats need to be represented as a sequence of bits, so do characters.\n",
    "\n",
    "The most simple character encoding scheme is [ASCII](https://en.wikipedia.org/wiki/ASCII): an 8-bit translation table between a number between one and 255 ($=2^8-1$), and the corresponding character."
   ]
  },
  {
   "cell_type": "code",
   "execution_count": null,
   "metadata": {},
   "outputs": [],
   "source": [
    "print(\"The binary representation of the letter 'G' is:\", bin(ord('G'))[2:])"
   ]
  },
  {
   "cell_type": "code",
   "execution_count": null,
   "metadata": {},
   "outputs": [],
   "source": [
    "print(\"The ASCII character representation of the binary code 1001000 is:\", chr(int('1001000', 2)))"
   ]
  },
  {
   "cell_type": "markdown",
   "metadata": {},
   "source": [
    "### Lists and other collections  \n",
    "  \n",
    "A list is an ordered sequence of elements of another type. In python, we can assign a list to a variable using the following syntax"
   ]
  },
  {
   "cell_type": "code",
   "execution_count": null,
   "metadata": {
    "collapsed": true
   },
   "outputs": [],
   "source": [
    "one_to_five = [1, 2, 3, 4, 5]  "
   ]
  },
  {
   "cell_type": "markdown",
   "metadata": {},
   "source": [
    "Depending on the language, the power of lists ranges from great to humongous."
   ]
  },
  {
   "cell_type": "code",
   "execution_count": null,
   "metadata": {
    "collapsed": true
   },
   "outputs": [],
   "source": [
    "# lists can contain any objects, including other lists...  \n",
    "a_crazy_list_in_python = ['one', 2, 3.0, one_to_five]\n",
    "print(a_crazy_list_in_python)"
   ]
  },
  {
   "cell_type": "markdown",
   "metadata": {},
   "source": [
    "The word ‘list’ is usually reserved for an _ordered_ set of elements. Some languages also have the concept of a ‘collection’ of (unordered) elements (in Python, this is known as a ‘set’).  "
   ]
  },
  {
   "cell_type": "markdown",
   "metadata": {},
   "source": [
    "### Dictionaries, hashes, etc.  \n",
    "  \n",
    "The use of more advanced structures often enables efficient implementation of complex computations (such as signal-processing operations on large datasets). The types of data structures available are highly language-dependent, and using them becomes natural if and when the domain-specific problem calls for it. No need to learn something you won’t use, however...\n",
    "\n",
    "### Vectors and arrays\n",
    "\n",
    "When operating with real-world _measurements_ of some physical process or phenomenon (MRI, EEG, DNA/protein microarrays, ...), each individual _data point_ usually has a meaningful _positional relationship_ to other points. For example, a voxel in an MR image shares a face with 6 neighbouring voxels. The data point of a single EEG channel acquired at time _t_ is \"to the left of\" that acquired at time _t+1_. Column 563 of a microarray plate is associated with the expression level of gene _AbC-123_. Etc. The relationship between data points can be highly non-trivial and, most importantly, the _processing tasks_ applied to the data both expect a particular structure __and__ exploit it during computations.\n",
    "\n",
    "Numerical computations on measurement data are often (in practice: always) performed on optimised data types known as _arrays_. Arrays are _N_-dimensional cartesian \"blocks\" of data, sampled along some dimension (space, time, frequency, gene/protein ID, subject ID, ...).\n",
    "\n",
    "<img src=\"imgs/numpy_array_dims.png\" width=200>\n",
    "\n",
    "_Vector_ is just a special name given for a 1-dimensional array. Common to all arrays, and the programming languages that implement them (Matlab, the `NumPy`-module in Python, ...), is that the data they contain are laid out _efficiently_ in memory: data belonging to an array are stored in a cluster of memory, instead of being randomly spread out over all possible addresses. The (huge) advantage of this approach is that whenever the data is to be operated on, the CPU only needs to know where (in memory) the array starts, and what it's dimensions are; there is no time wasted on _locating_ each element of the array before operating on them."
   ]
  },
  {
   "cell_type": "markdown",
   "metadata": {},
   "source": [
    "## Exercises\n",
    "  \n",
    "### Syntax  \n",
    "  \n",
    "Try running these code blocks. Some of them have syntax appropriate to the Python programming language, others are invalid; can you predict which is which?"
   ]
  },
  {
   "cell_type": "code",
   "execution_count": null,
   "metadata": {
    "collapsed": true
   },
   "outputs": [],
   "source": [
    "3 + 2"
   ]
  },
  {
   "cell_type": "code",
   "execution_count": null,
   "metadata": {
    "collapsed": true
   },
   "outputs": [],
   "source": [
    "Add together the numbers 3 and 2  "
   ]
  },
  {
   "cell_type": "code",
   "execution_count": null,
   "metadata": {
    "collapsed": true
   },
   "outputs": [],
   "source": [
    "sum(3, 2)  # this is tricky, we’ll return to it later  "
   ]
  },
  {
   "cell_type": "code",
   "execution_count": null,
   "metadata": {
    "collapsed": true
   },
   "outputs": [],
   "source": [
    "3 + -2  "
   ]
  },
  {
   "cell_type": "code",
   "execution_count": null,
   "metadata": {
    "collapsed": true
   },
   "outputs": [],
   "source": [
    "3 + 2 .  "
   ]
  },
  {
   "cell_type": "code",
   "execution_count": null,
   "metadata": {
    "collapsed": true
   },
   "outputs": [],
   "source": [
    "3 +* 2  "
   ]
  },
  {
   "cell_type": "code",
   "execution_count": null,
   "metadata": {
    "collapsed": true
   },
   "outputs": [],
   "source": [
    "3 ** 2  "
   ]
  },
  {
   "cell_type": "markdown",
   "metadata": {},
   "source": [
    "### Variables  \n",
    "  \n",
    "* Assign some numerical values to variables `x` and `y`. In math notation you can multiply `x` and `y` like this: `xy`. What happens if you try that in Python? Why?  \n",
    "* Suppose the cover price of a book is 229 kr, but bookstores get a 40% discount. Shipping costs 49 kr for the first copy and 3 kr for each additional copy. What is the total wholesale cost for 60 copies? _Write a sequence of statements, using variable assignments and expressions/operators, and print the answer._  "
   ]
  },
  {
   "cell_type": "code",
   "execution_count": null,
   "metadata": {},
   "outputs": [],
   "source": []
  },
  {
   "cell_type": "markdown",
   "metadata": {},
   "source": [
    "### Data types  "
   ]
  },
  {
   "cell_type": "code",
   "execution_count": null,
   "metadata": {},
   "outputs": [],
   "source": []
  },
  {
   "cell_type": "markdown",
   "metadata": {},
   "source": [
    "### When the duration of each operation counts\n",
    "\n",
    "You've implemented an analysis for quantifying the \"functional connectivity\" between brain regions, based on fMRI scans. Your plan is to compute the connectivity of each voxel in the brain, to each other voxel. The image dimension is $128 \\times 128 \\times 50$ voxels. How long will your analysis take to run if the time required for a _single voxel_ is just 1 second?"
   ]
  },
  {
   "cell_type": "code",
   "execution_count": null,
   "metadata": {},
   "outputs": [],
   "source": [
    "nof_voxels = 128*128*50\n",
    "time_per_voxel = 1  # seconds\n",
    "seconds_per_day = 60 * 60 * 24\n",
    "\n",
    "time_in_days =  # write expression here!\n",
    "print('Come back in', time_in_days, 'days')"
   ]
  },
  {
   "cell_type": "markdown",
   "metadata": {},
   "source": [
    "In situations like these, a combination of re-thinking the problem (domain knowledge) and optimising the implementation (_e.g._ using array containers for the data) is usually called for."
   ]
  },
  {
   "cell_type": "markdown",
   "metadata": {},
   "source": [
    "### Large datasets and the limits of memory\n",
    "\n",
    "The following example is shamelessly ripped off from [this source](https://medium.com/precision-medicine/how-big-is-the-human-genome-e90caa3409b0).\n",
    "\n",
    "Let's assume you work with human genome data. Even an engineer knows that the genome consists of four \"bases\": A, C, T and G. Four is a great number: 1-4 can be represented (encoded) using just two bits, for example: A=00, C=01, T=10 and G=11. Assuming the genome consists of a sequence of 3 billion letters, how many _million bytes_ do we need to represent them all?"
   ]
  },
  {
   "cell_type": "code",
   "execution_count": null,
   "metadata": {},
   "outputs": [],
   "source": [
    "nof_bases = 3000000000  # better: 3e9\n",
    "bits_per_base = 2\n",
    "megabytes_in_bits = 1024 * 1024 * 8\n",
    "\n",
    "genome_size_MB = \n",
    "print('Raw genome size:', genome_size_MB, 'MB')"
   ]
  },
  {
   "cell_type": "markdown",
   "metadata": {},
   "source": [
    "A \"clean\" genome would thus fit into the memory of your laptop, but only just, and you wouldn't have much memory left to operate on it. However, in reality things are a lot worse than that, since real experimental data coming off sequencers are anything but \"clean\"! To get stable readings off the samples used, sequencers intentionally over-sample the genome by a large factor, as well as including quality-control meta-information in the data files created. _The raw sequencing data for a single genome can be as large as 200 GB._ Can you fit that into your laptop memory?"
   ]
  }
 ],
 "metadata": {
  "hide_input": false,
  "kernelspec": {
   "display_name": "Python 3",
   "language": "python",
   "name": "python3"
  },
  "language_info": {
   "codemirror_mode": {
    "name": "ipython",
    "version": 3
   },
   "file_extension": ".py",
   "mimetype": "text/x-python",
   "name": "python",
   "nbconvert_exporter": "python",
   "pygments_lexer": "ipython3",
   "version": "3.6.2"
  }
 },
 "nbformat": 4,
 "nbformat_minor": 2
}
