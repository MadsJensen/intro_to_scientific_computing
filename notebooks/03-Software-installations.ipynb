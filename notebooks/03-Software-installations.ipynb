{
 "cells": [
  {
   "cell_type": "markdown",
   "metadata": {},
   "source": [
    "# Linux Mint (via VirtualBox)\n",
    "\n",
    "__This is strictly speaking only required for Windows-users, but will work on a Mac too.__ A virtual machine is a common way for academic software developers to distribute their work for, _e.g._, training purposes: they are certain that no time needs to be spent on installation problems. That is precisely our motivation too, in addition to the fact that data science is, and will continue to be, performed on non-Windows platforms...\n",
    "\n",
    "## Installation of the C238/10 disk image\n",
    "\n",
    "Open the VirtualBox application, then\n",
    "\n",
    "* select \"New\", name the virtual OS as you please, make it of \"Type: Linux\" and \"Version: Other Linux (64-bit)\".\n",
    "* choose an amount of RAM to allocate (no more than half of the total on your machine, around 2048 MB should be OK)\n",
    "* under Hard disk, select \"Use and existing virtual hard disk file\" and browse to the file `linuxmint.vdi`\n",
    "* select the newly-created virtual machine, select \"Settings\" and \"Shared folders\"\n",
    "    * click on the plus-folder-sign\n",
    "    * set folder path to Other...\n",
    "    * create a folder called \"shared\" somewhere on your drive and hit \"Select Folder\"\n",
    "    * let the \"Folder Name\" remain as it is (\"shared\"), and tick the box \"Auto-mount\"\n",
    "* start the VM\n",
    "    * the `sh_shared`-folder on the desktop gives access to the host PC file system\n",
    "\n",
    "# Miniconda\n",
    "\n",
    "What is it? From the [project webpage](https://conda.io/docs/):\n",
    "\n",
    ">Conda is an open source package management system and environment management system that runs on Windows, macOS and Linux. Conda quickly installs, runs and updates packages and their dependencies. Conda easily creates, saves, loads and switches between environments on your local computer. It was created for Python programs, but it can package and distribute software for any language.\n",
    "\n",
    "_Keywords: package; environment; management system; dependencies_\n",
    "\n",
    "## System requirements\n",
    "\n",
    "Does your 'system' comply? \n",
    "\n",
    "## Installation\n",
    "\n",
    "Follow instructions on the [downloads page](https://conda.io/miniconda.html). __Choose the 64-bit version of the Python 3.6 installer.__ After download completes, install the package. Choose default \"advanced\" installation options.\n",
    "\n",
    "_Tested on Win 10, 4 Sep; v. 4.3.21_"
   ]
  },
  {
   "cell_type": "code",
   "execution_count": null,
   "metadata": {},
   "outputs": [],
   "source": []
  }
 ],
 "metadata": {
  "kernelspec": {
   "display_name": "Python 3",
   "language": "python",
   "name": "python3"
  },
  "language_info": {
   "codemirror_mode": {
    "name": "ipython",
    "version": 3
   },
   "file_extension": ".py",
   "mimetype": "text/x-python",
   "name": "python",
   "nbconvert_exporter": "python",
   "pygments_lexer": "ipython3",
   "version": "3.6.2"
  }
 },
 "nbformat": 4,
 "nbformat_minor": 2
}
