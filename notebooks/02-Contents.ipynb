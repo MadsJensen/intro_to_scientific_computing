{
 "cells": [
  {
   "cell_type": "markdown",
   "metadata": {},
   "source": [
    "# Contents"
   ]
  },
  {
   "cell_type": "markdown",
   "metadata": {},
   "source": [
    "## Day 1: The anatomy of a computer and data\n",
    "\n",
    "### [What is a computer?](what-is-a-computer.ipynb)\n",
    "\n",
    "What is it \"made of\"? How can it play Youtube videos of kittens?\n",
    "\n",
    "> _Wait a second, why should I give a rat's hiney? I couldn't care less how it's done, I like black boxes!_\n",
    "\n",
    "Sorry, that's not going to work, and we'll explain why.\n",
    "\n",
    "### [Install Miniconda](install-miniconda.ipynb)\n",
    "\n",
    "Blaah.\n",
    "\n",
    "### [Files and file systems]()\n",
    "\n",
    "Incl. network file systems"
   ]
  },
  {
   "cell_type": "markdown",
   "metadata": {},
   "source": [
    "### [Computer programs and data types](computer-programs-and-data-types.ipynb)\n",
    "\n",
    "Computers are _really_ dumb, but they can be _instructed_ (by clever people) to do clever things. We call this \"programming\".\n",
    "\n",
    "Programming is a distinctly different activity from writing in a word processor or entering values into a spreadsheet. Besides the obvious distinction (someone needed to program the applications you use for those tasks), when you are \"using\" a computer, you are operating within the bounds of whatever the program was designed to do (as a counter-example, try adding two values together in Word...). On the contrary, a _programmer_ designs new applications for specific needs.\n",
    "\n",
    "Now \"programmer\" may seem like a mouthful, but for there is no ready-made application for _data-driven health science_! And even within the specialities (_e.g._ genetic sequencing), only in very few cases can you hope to double-click on a data file and have something reasonable happen. Instead, it is up to you as the domain-expert to guide the flow of bits in order to gain insight.\n",
    "\n",
    "Programming is not a monolithic concept, it can mean a bunch of things. In this course we will be dealing with what could be described as _high-level_ programming, which has the characteristic of being quite abstract with respect to the underlying hardware implementing the programs. In other words, we will leave as much as the _low-level_ hardware optimisation to the \"real\" programmers as possible, and instead focus on learning how to join together existing _routines_ for implementing specific tasks.\n",
    "\n",
    "As already mentioned [above](what-is-a-computer.ipynb), this by no means implies that we can treat the computer as a black box! Ultimately, it is up to you to ensure that the operations that you line up are _reasonable_ with respect to the specifications of the computers performing them (especially: CPU time and memory requirements)."
   ]
  },
  {
   "cell_type": "markdown",
   "metadata": {},
   "source": [
    "## The anatomy and building blocks of a computer program\n",
    "\n",
    "We already touched upon the basic DNA of a program, and how this relates to the hardware it runs on.\n",
    "\n",
    "* basic data types\n",
    "    - `int`, `float`, `string`, `boolean`\n",
    "* string manipulation\n",
    "    - substring match (logfile from subjid)\n",
    "    - `os.path.join`\n",
    "    - split string (get 0001_ABC from file name)\n",
    "    - get STIM value: **is it a letter or a digit?**\n",
    "       - `'a' in string.ascii_letters` (generally in Python: `element in list` returns Boolean)\n",
    "    - get RESP value: **does it match?**\n",
    "* for loop\n",
    "    - iterate over various `list`s\n",
    "* conditionals\n",
    "    - _e.g._, `if stim_val == 'letter' and resp_val == 1: answer = True; else answer = False`, _etc._\n",
    "* read/write textual files (in Python)\n",
    "    - don't use `with open() as fp:`-idiom, rather simple procedural approach (like one would in Matlab)\n",
    "    - match starting hash (`#`) for comments\n",
    "    - newline-character (`\\n`)!!\n",
    "* functions\n",
    "    - previous exercise: write `find_file_matching_wildcard` ([see this notebook](Z1-Outline-of-topics.ipynb)), then use it here!\n",
    "        * `glob` folder contents into `list` object\n",
    "    - parse single log file & calculate summary stats\n"
   ]
  }
 ],
 "metadata": {
  "kernelspec": {
   "display_name": "Python 3",
   "language": "python",
   "name": "python3"
  },
  "language_info": {
   "codemirror_mode": {
    "name": "ipython",
    "version": 3
   },
   "file_extension": ".py",
   "mimetype": "text/x-python",
   "name": "python",
   "nbconvert_exporter": "python",
   "pygments_lexer": "ipython3",
   "version": "3.6.2"
  }
 },
 "nbformat": 4,
 "nbformat_minor": 2
}
