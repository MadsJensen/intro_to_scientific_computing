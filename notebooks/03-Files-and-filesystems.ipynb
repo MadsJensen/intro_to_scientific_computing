{
 "cells": [
  {
   "cell_type": "markdown",
   "metadata": {},
   "source": [
    "# Files and file systems\n",
    "\n",
    "The following overview relies heavily on materials freely available on the web. Follow the provided links to specific pages for more information/background."
   ]
  },
  {
   "cell_type": "markdown",
   "metadata": {},
   "source": [
    "# Files contain data\n",
    "\n",
    "We've already discussed [what 'data' is](02-What-is-a-computer.ipynb), and that to store the bits it consists of _persistently_ requires a _physical medium_. Writing a string of bits to a medium is obviously only one part of the picture: ___you also need to find the data again when you need it!___.\n",
    "\n",
    "This is where files and file systems come in.\n",
    "\n",
    "## What is required of a data container?\n",
    "\n",
    "What sort of meta-information is required in order to _locate and access_ data that has been stored onto a medium? These are some of the constituents of the fundamental unit of data containerisation: ___a file___:\n",
    "\n",
    "* File type\n",
    "    * is this a 'regular' file, _e.g._, an image, text document, application\n",
    "    * or perhaps a special one, such as a __directory__ a.k.a. __folder__ that may act as a container for other files?\n",
    "* Owner and group owner of the file.\n",
    "    * depending on OS, 'ownership' of data can be strongly (Unix) or weakly (Windows) enforced\n",
    "* Permissions on the file\n",
    "    * which user(s) may read, write or execute the file?\n",
    "* Date and time of creation, last read and change.\n",
    "* File size\n",
    "* ___An address defining the actual location of the file data.___\n",
    "    * just like RAM has an address space, so do physical media, _e.g._ Head 7, Track 38, Sector 230, ...\n",
    "    \n",
    "[Reference](http://www.tldp.org/LDP/intro-linux/html/sect_03_01.html)\n",
    "\n",
    "## Types of files: Textual or binary?\n",
    "\n",
    "In the [next notebook](05-Command-line-interface-A.ipynb) we will learn how to determine the _type_ of a file. Roughly speaking, 'regular' files can _only be one of two types: textual or binary_. The former is human-readable, the latter is not."
   ]
  },
  {
   "cell_type": "markdown",
   "metadata": {},
   "source": [
    "By 'textual' we mean any data that is stored in files using a _character encoding_ suited for our brains. This could mean a novel (_e.g._, for language analysis), but more generally textual file formats are used as the container for both unstructured and structured data (the [Twitter firehose](http://support.gnip.com/sources/twitter/data_format.html) is an example of the latter on massive scale)."
   ]
  },
  {
   "cell_type": "markdown",
   "metadata": {},
   "source": [
    "### Comma-Separated Values (CSV)\n",
    "\n",
    "One the most used textual data formats is [CSV](https://en.wikipedia.org/wiki/Comma-separated_values). It is suitable for data that can be _tabulated_ into rows and columns (think: _Excel_). More generally, CSV is a suitable container for data in a [relational database](https://en.wikipedia.org/wiki/Relational_database). Amongst (many, many) organisations, the [WHO](http://www.who.int/tb/country/data/download/en/) shares health-related datasets in CSV-format.\n",
    "\n",
    "The name `csv` refers to the default _field separator_ character: the comma (,). You need to be aware of this, _e.g._, if using the comma as the decimal separator in floating point numbers (Danes beware). The field separator can most often be freely chosen to be another character, such as the _tab key_ (spaces); files using this strategy are sometimes saved with the `tsv`-extension. "
   ]
  },
  {
   "cell_type": "markdown",
   "metadata": {},
   "source": [
    "### Binary data formats\n",
    "\n",
    "File types such as `mp3`, `jpeg`, `zip`, `doc`, `mat`, _etc._ are associated with a _decoding key_ that enables reading the _payload_ of the file correctly. Depending on the file format, the decoding information may be saved in the file itself, according to a documented order of how bytes in the file are to be interpreted.\n",
    "\n",
    "Another common strategy for binary data storage is to save only measurement data in a binary file, whereas meta-information on the data structure are saved into a _header file_ that is often textual (_e.g._, EEG header files contain information on the sampling rate, number of channels, _etc._). "
   ]
  },
  {
   "cell_type": "markdown",
   "metadata": {},
   "source": [
    "[Demo: raw bytes manipulations](raw_bytes_manipulations.ipynb)"
   ]
  },
  {
   "cell_type": "markdown",
   "metadata": {},
   "source": [
    "# Files are organised into [file systems](https://en.wikipedia.org/wiki/File_system)\n",
    "\n",
    ">In computing, a file system or filesystem is used to control how data is stored and retrieved. Without a file system, information placed in a storage medium would be one large body of data with no way to tell where one piece of information stops and the next begins. By separating the data into pieces and giving each piece a name, the information is easily isolated and identified. Taking its name from the way paper-based information systems are named, each group of data is called a \"file\". The structure and logic rules used to manage the groups of information and their names is called a \"file system\". _(Wikipedia)_\n",
    "\n",
    "The OS takes care of interacting with the file system when the user issues a command to, _e.g._, read or write (to) a file. The user can therefore remain agnostic as to the _physical location_ on the storage medium of the data you are accessing.\n",
    "\n",
    "## Types of file systems\n",
    "\n",
    "Many different types of file systems exist, each with their use cases.\n",
    "\n",
    "### [Disk file system](https://en.wikipedia.org/wiki/File_system#Disk_file_systems)\n",
    "\n",
    "This is the most common type a user will be confronted with. As the name implies, disk file systems are used on the storage media physically connected to a computer, such as the internal hard drive, and USB thumb drive (or other removable medium). Examples of disk file systems include\n",
    "\n",
    "* NTFS (Windows)\n",
    "* HFS+ (Mac OS Extended)\n",
    "* ext4 (Linux)\n",
    "* FAT/exFAT\n",
    "* ISO 9660 (CD/DVD disk)\n",
    "\n",
    "The common scenario in which a user will experience file system-related problems is when trying to use a USB thumb drive initialised on one OS (_e.g._ Windows) on another (_e.g._ Mac): _unless the OS includes 'drivers' for a specific file systen, it will not be able to read the data on it_. In some cases, reading may be possible, but not writing.\n",
    "\n",
    "__Hint:__ Use the exFAT file system for USB drives, this will make it possible to read from and write to them on both Windows and Mac hosts (though not Linux).\n",
    "\n",
    "### Initialisation of a disk file system: [partitioning and formatting](https://en.wikipedia.org/wiki/Disk_formatting)\n",
    "\n",
    "Consider an 'empty' 16GB USB drive, in which all bits are zero (this is an extremely unlikely scenario, but the point is: its has 'nothing' on it). The first thing to do is to define _partitions_ on the physical disk. Consider these the hard boundaries outside which files cannot be written. On personal computers, it is common to have a single large partition for the OS and all user files. However, several 'hidden' partitions typically exist too, related to the initial startup (_boot_) process of the OS, and the possibility to _'recover'_ from certain unwanted situations. \n",
    "\n",
    "Once a physical disk is partitioned, it needs to be _formatted_: this is the point at which a file system is initialised and the partition can be referred to by a name (_e.g._ \"C:\" on Windows or \"Macintosh HD\" on Mac). \n",
    "\n",
    "### [Network file system](https://en.wikipedia.org/wiki/File_system#Network_file_systems)\n",
    "\n",
    "A common data science scenario is that of a centralised server infrastructure on which data is stored. Although at the server-level, physical disks are partitioned and file systems initialised on them just as on our PCs, we the users cannot directly access the remote disks. Instead, the server makes some specific location (_e.g._ directory) on its drives available on the local network. This is done using one of many _access protocols_: usually a user needs to _authenticate_ herself before access is granted by providing a valid username and password.\n",
    "\n",
    "From the point of view of access, network file systems have changes the way people use devices. Using one of the many (free and non-free) 'syncing' services, we can have access to a file regardless of which device we are currently using. Privacy and data-security issues are only beginning to be considered.\n",
    "\n",
    "In the context of working on data, _e.g._ in health science, the large size of many datasets necessitates the use of high-capacity servers for performing analyses. Another reason for the need for remote data access and processing is related to data security: patient data must never be compromised by moving it out of secure server environments. Our data is therefore often non-local, which may have implications on how we can interact with it. For example, whereas data can be read into memory from a modern SSD hard drive at rates of hundreds of megabytes per second, transfer over a network may be _two orders of magnitude slower_."
   ]
  },
  {
   "cell_type": "markdown",
   "metadata": {},
   "source": [
    "# Exercises\n",
    "\n",
    "## Make a folder for course-related files\n",
    "\n",
    "If you didn't already... \n",
    "\n",
    "## Make a CSV-file\n",
    "\n",
    "Open the ___text editor___ of your choice. Why is MS Word not a text editor? In case you haven't already, you should consider an alternative to the Win/Mac defaults. Google has no shortage of 'best of' selections in this category, take your pick. To highlight two common options, you may consider:\n",
    "\n",
    "* [Atom](https://atom.io/) (multi-OS, in rapid development, OSS)\n",
    "* [Notepad++](https://notepad-plus-plus.org/) (Windows-only, _free_ software)\n",
    "\n",
    "Create a new file with the names, birth years and birth places of your parents, as well as any siblings or children. \n",
    "\n",
    "* use one line per person\n",
    "* separate the _data fields_ using a comma\n",
    "* name the _data columns_ on the first line of the file\n",
    "* save the file with the extension `.csv`\n",
    "\n",
    "The file you created above should appear in the Files-tab of JupyterLab. Check that the format of the file is correct by double-clicking on it: a new _view_ to it should open, showing you the contents in _tabular form_.\n",
    "\n",
    "## Partitions and file systems\n",
    "\n",
    "Find out how your hard drive is _partitioned_ and what _file system_ the main, system-drive is formatted with.\n",
    "\n",
    "### Windows\n",
    "\n",
    "- Open `Control Panel -> System and Security -> Administrative Tools`, right-click on `Computer Management` and select `Run as Administrator`.\n",
    "- Under `Storage`, select `Disk Management`\n",
    "\n",
    "### Mac\n",
    "\n",
    "The `Disk Utility` app will not show you hidden partitions (typical of macOS: if you know enough to ask this question, you can also handle the fact that no graphical utilities exist to view them!). Instead, you need to open the `Utilities -> Terminal` app, and into the window, type:\n",
    "\n",
    "```bash\n",
    "diskutil list\n",
    "```\n",
    "\n",
    "For more details on the disk(s) and partition(s), you can say _e.g._:\n",
    "\n",
    "```bash\n",
    "diskutil info disk1\n",
    "```\n",
    "\n",
    "### Linux\n",
    "\n",
    "```sudo fdisk -l```\n",
    "\n",
    "Yes, even the VM operates with the concept of partitions.\n",
    "\n",
    "## Network file system: Dropbox\n",
    "\n",
    "If you have the Dropbox desktop extension installed, you can place a file in a folder on your PC, after which that file will be accessible from other devices you have access to. Try to 'follow the bits' when you do this; what is _physically_ going on?"
   ]
  },
  {
   "cell_type": "markdown",
   "metadata": {},
   "source": [
    "## Next up: [The Command Line Interface (CLI)](05-Command-line-interface-A.ipynb)"
   ]
  }
 ],
 "metadata": {
  "kernelspec": {
   "display_name": "Bash",
   "language": "bash",
   "name": "bash"
  },
  "language_info": {
   "codemirror_mode": "shell",
   "file_extension": ".sh",
   "mimetype": "text/x-sh",
   "name": "bash"
  }
 },
 "nbformat": 4,
 "nbformat_minor": 2
}
