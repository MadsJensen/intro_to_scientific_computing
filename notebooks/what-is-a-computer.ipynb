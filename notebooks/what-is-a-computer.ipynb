{
 "cells": [
  {
   "cell_type": "markdown",
   "metadata": {},
   "source": [
    "# What is a computer\n",
    "\n",
    "The main components: an overview ([image source](https://chortle.ccsu.edu/java5/Notes/chap01/ch01_4.html)).\n",
    "\n",
    "<img src=\"imgs/ComputerComponents.gif\">\n",
    "\n",
    "## Central Processing Unit (CPU) _a.k.a._ processor\n",
    "\n",
    "* control\n",
    "* arithmetic\n",
    "* I/O\n",
    "* ...\n",
    "\n",
    "Moves _data_ around on the _bus_, the \"highway system\" of the computer.\n",
    "\n",
    "<img src=\"imgs/SandyBridgeDieMap.jpg\">\n",
    "\n",
    "##  Data\n",
    "\n",
    "* binary-encoded information stored in chunks of 8 bits known as a byte"
   ]
  },
  {
   "cell_type": "markdown",
   "metadata": {},
   "source": [
    "##  RAM/memory\n",
    "\n",
    "* volatile store of data and instructions on what to do with it (just another form of data)\n",
    "\n",
    "<img src=\"imgs/RAM-block.jpg\" width=400>\n",
    "\n",
    "## Storage\n",
    "\n",
    "* hard disk, USB (thumb) drive, etc.\n",
    "* persistent store of data\n",
    "* data are saved as _files_, into a structure called a _file system_ (more on that later)\n",
    "\n",
    "## Input and output devices\n",
    "\n",
    "* monitor\n",
    "* keyboard\n",
    "* trackpad\n",
    "* network"
   ]
  },
  {
   "cell_type": "markdown",
   "metadata": {},
   "source": [
    "# More details"
   ]
  },
  {
   "cell_type": "markdown",
   "metadata": {},
   "source": [
    "## CPU\n",
    "\n",
    "\"Driven\" (only) by data in memory; only data in memory can be processed (limits on computations).\n",
    "\n",
    "### Instruction set\n",
    "\n",
    "* copy data from one address to another (possibly register on CPU)\n",
    "* arithmetic \n",
    "* comparison\n",
    "* more complex instructions available for specific use cases (SIMD)\n",
    "\n",
    "### Clock speed\n",
    "\n",
    "* instructions per second\n",
    "\n",
    "### Concurrency and parallelism\n",
    "\n",
    "The controller unit deciphering CPU instructions can only process one command per cycle/tick of the internal clock (today measured in GHz -> billion ops per sec). The feeling we have as users of fluidity of a UI is an illusion: the CPU  very rapidly switches between different tasks.\n",
    "\n",
    "_To first order, everything in a CPU happens in a serial fashion_ with rapid switching.\n",
    "\n",
    "The name for logically separate streams of serial tasks is a **thread**. Think of them as lines of thought of the CPU. A modern OS has dozens of open threads at any time, and it more or less cleverly splits its time between the threads in most need (e.g. the thread listening to data transfer on a USB port becomes active with incoming data, which the CPU needs to allocate \"cycles\" to move into memory as appropriate). But always: _just one thread at a time_!\n",
    "\n",
    "Today's CPUs are actually able to perform multiple instructions per clock tick, but to leverage that requires the programmer to think about the problem being solved. It's not something normal users need to consider.\n",
    "\n",
    "A more significant evolution of the CPU is that today's consist of multiple _cores_. Fundamentally each core can process a thread independently and concurrently with other cores, leading to a form of _parallelism_."
   ]
  },
  {
   "cell_type": "markdown",
   "metadata": {},
   "source": [
    "<img src=\"imgs/multicore.png\" width=400>\n",
    "\n",
    "<img src=\"imgs/multithreading.png\" width=400>\n",
    "\n",
    "[Image source](https://www.cse.wustl.edu/~jain/cse567-11/ftp/multcore/)"
   ]
  },
  {
   "cell_type": "markdown",
   "metadata": {},
   "source": [
    "## Memory\n",
    "\n",
    "* Random access\n",
    "    * CPU sees it like a massive ordered collection of addresses, each containing one byte of data\n",
    "* Modern OSs are 64-bit\n",
    "    * lots of addresses \n",
    "    * higher floating point precision \n",
    "\n",
    "## Data \n",
    "\n",
    "More or less structured collection of information, always encoded in bits\n",
    "Data _represents_ something \n",
    "* text\n",
    "* Image\n",
    "* Measurements (numbers: integers or floats)\n",
    "Data must be combined with a representation to enable extraction of information (example: image Lena)\n",
    "Data manipulation"
   ]
  },
  {
   "cell_type": "markdown",
   "metadata": {},
   "source": [
    "## A guessing game\n",
    "\n",
    "Here are a few lines of Python code, implementing a (rather stupid) guessing game."
   ]
  },
  {
   "cell_type": "code",
   "execution_count": 29,
   "metadata": {},
   "outputs": [
    {
     "name": "stdout",
     "output_type": "stream",
     "text": [
      "You guessed it!\n"
     ]
    }
   ],
   "source": [
    "import random\n",
    "secret_number = random.randint(0, 9)\n",
    "\n",
    "guessed = False\n",
    "while not guessed:\n",
    "    cur_guess = int(input('Guess the 1-digit number: '))\n",
    "    if cur_guess == secret_number:\n",
    "        guessed = True\n",
    "        print('You guessed it!')        "
   ]
  },
  {
   "cell_type": "markdown",
   "metadata": {},
   "source": [
    "What the CPU is actually doing is quite simple, shown below. The first column is a memory address (here just a running sequence). The second column is the contents of the memory address: an instruction or some data."
   ]
  },
  {
   "cell_type": "markdown",
   "metadata": {},
   "source": [
    "```\n",
    "1    BEGIN Guessing game\n",
    "2    LOAD secret number from memory address 743\n",
    "3    OUTput letter to screen\n",
    "4    G\n",
    "5    OUTput letter to screen\n",
    "6    u\n",
    "...\n",
    "51   GET keyboard input (blocking, execution halted)\n",
    "52   PUT keyboard input to address 1197\n",
    "53   COMPARE memory address 1197 to address 743\n",
    "54   IF comparison EQUAL, JUMP to memory address 104\n",
    "55   OUTput letter to screen\n",
    "56   G\n",
    "57   OUTput letter to screen\n",
    "58   u\n",
    "...(\"Guess again: \")\n",
    "103  JUMP to memory address 51\n",
    "104  OUTput...\n",
    "...\"You guessed it!\"\n",
    "152  END Guessing game\n",
    "...\n",
    "743  [some random number generated by other program/code]\n",
    "...\n",
    "1197 [input from subject placed in free portion of memory, somewhere]\n",
    "```"
   ]
  }
 ],
 "metadata": {
  "kernelspec": {
   "display_name": "Python 3",
   "language": "python",
   "name": "python3"
  },
  "language_info": {
   "codemirror_mode": {
    "name": "ipython",
    "version": 3
   },
   "file_extension": ".py",
   "mimetype": "text/x-python",
   "name": "python",
   "nbconvert_exporter": "python",
   "pygments_lexer": "ipython3",
   "version": "3.6.1"
  }
 },
 "nbformat": 4,
 "nbformat_minor": 2
}
