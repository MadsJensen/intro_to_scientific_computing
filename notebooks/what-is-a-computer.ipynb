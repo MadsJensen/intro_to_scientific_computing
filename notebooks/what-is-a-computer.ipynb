{
 "cells": [
  {
   "cell_type": "markdown",
   "metadata": {},
   "source": [
    "# What is a computer?\n",
    "\n",
    "The main components: an overview ([image source](https://chortle.ccsu.edu/java5/Notes/chap01/ch01_4.html)).\n",
    "\n",
    "<img src=\"imgs/ComputerComponents.gif\">\n",
    "\n",
    "## Central Processing Unit (CPU) _a.k.a._ processor\n",
    "\n",
    "* control (\"the brain\")\n",
    "* arithmetic (lots of it)\n",
    "* Input/Output (I/O)\n",
    "* ...\n",
    "\n",
    "Moves _data_ around on the _bus_, the \"highway system\" of the computer.\n",
    "\n",
    "<img src=\"imgs/SandyBridgeDieMap.jpg\">"
   ]
  },
  {
   "cell_type": "markdown",
   "metadata": {},
   "source": [
    "##  Data vs. Information\n",
    "\n",
    "* [__binary-encoded__](http://www.wisegeek.com/what-is-binary-encoding.htm) information stored in chunks of 8 bits known as a byte\n",
    "    * factors of 1000: mega-, giga-, tera-, peta-, exabyte, ...\n",
    "    * 1 TB: ~300 hours of good quality video\n",
    "    * 20 PB: the amount of data processed by Google daily\n",
    "    * 15 EB: the total amount of data held by Google (~15,000,000,000 GB)\n",
    "* to recover the information represented by data, it must be __decoded__ into some __representation__\n",
    "    * _e.g._ the bytes corresponding to an image must be decoded into colours of pixels on a screen\n",
    "\n",
    "<img src=\"imgs/binary-encoding.jpg\" width=400>"
   ]
  },
  {
   "cell_type": "markdown",
   "metadata": {},
   "source": [
    "##  RAM/memory\n",
    "\n",
    "* volatile store of data and instructions on what to do with it (just another form of data)\n",
    "\n",
    "<img src=\"imgs/RAM-block.jpg\" width=400>\n",
    "\n",
    "## Storage medium\n",
    "\n",
    "* hard disk, USB (thumb) drive, etc.\n",
    "* persistent store of data\n",
    "    * medium holding data physically modified to encode information\n",
    "    * CPU read- and write-operations 'move bits' in and out of memory\n",
    "* data are saved as _files_, into a structure called a _file system_ [(more on that later)](files-and-filesystems.ipynb)\n",
    "\n",
    "## Input and output devices\n",
    "\n",
    "* monitor\n",
    "* keyboard\n",
    "* trackpad\n",
    "* network\n",
    "\n",
    "## Operating system (OS)\n",
    "\n",
    "* user-facing interface to the components of the computer\n",
    "    * nitty-gritty details hidden\n",
    "* takes care of all housekeeping tasks relevant for keeping interface responsive\n",
    "* there so you don't need to be explicit about _everything_ you want a computer to do (see below for toy program and what the OS is having the CPU do).\n",
    "\n",
    "### Graphical vs. non-graphical interfaces\n",
    "\n",
    "Some OS's are really only intended to be used graphically, _i.e._ visually manipulating windows using the keyboard and mouse (notably: Microsoft Windows and Mac OS X). For scientific computing, non-graphical ['command-line' interfaces](Command-line-interface.ipynb) are potentially much more powerful, though a learning curve must be cleared: every single operation is instantiated using keyboard commands only, and the only feedback to the user comes in the form of text output in _terminal window_.\n",
    "\n",
    "### Virtual Machines (VMs)\n",
    "\n",
    "Where the Host OS 'directs' the computer in the tasks it is to perform, a _virtual machine_ is a Guest OS: it issues precisely the same commands it would if it were a 'proper' Host OS itself, but the commands are 'intercepted' by the Host before their delivered to the hardware. There are [many flavours of virtualisation](https://en.wikipedia.org/wiki/Virtual_machine), each with different optimal usage cases. We will be introduced to the strategy shown in this image, in which a sofware (VirtualBox) _emulates_ hardware, and enables us to run a Linux OS on Windows (and Mac) PCs.\n",
    "\n",
    "![Virtualisation via application](imgs/Guest_os_diagram.jpg)"
   ]
  },
  {
   "cell_type": "markdown",
   "metadata": {},
   "source": [
    "# More details\n",
    "\n",
    "Let's have a closer look at some of these constituents."
   ]
  },
  {
   "cell_type": "markdown",
   "metadata": {},
   "source": [
    "## CPU\n",
    "\n",
    "\"Driven\" (only) by data in memory; only data in memory can be processed (limits on computations).\n",
    "\n",
    "### Instruction set\n",
    "\n",
    "* copy data from one address to another (possibly register on CPU)\n",
    "* arithmetic \n",
    "* comparison\n",
    "* more complex instructions available for specific use cases (SIMD)\n",
    "\n",
    "### Clock speed\n",
    "\n",
    "* instructions per second"
   ]
  },
  {
   "cell_type": "markdown",
   "metadata": {},
   "source": [
    "### A guessing game\n",
    "\n",
    "Here are a few lines of Python code, implementing a (rather stupid) guessing game."
   ]
  },
  {
   "cell_type": "code",
   "execution_count": 1,
   "metadata": {},
   "outputs": [
    {
     "name": "stdout",
     "output_type": "stream",
     "text": [
      "You guessed it!\n"
     ]
    }
   ],
   "source": [
    "import random\n",
    "secret_number = random.randint(0, 9)\n",
    "\n",
    "guessed = False\n",
    "while not guessed:\n",
    "    cur_guess = int(input('Guess the 1-digit number: '))\n",
    "    if cur_guess == secret_number:\n",
    "        guessed = True\n",
    "        print('You guessed it!')        "
   ]
  },
  {
   "cell_type": "markdown",
   "metadata": {},
   "source": [
    "What the CPU is actually doing is quite simple, shown below in charicature-form. The first column is a memory address (here just a running sequence). The second column is the contents of the memory address: an instruction or some data."
   ]
  },
  {
   "cell_type": "markdown",
   "metadata": {},
   "source": [
    "```\n",
    "1    BEGIN Guessing game\n",
    "2    LOAD secret number from memory address 743\n",
    "3    OUTput letter to screen\n",
    "4    G\n",
    "5    OUTput letter to screen\n",
    "6    u\n",
    "...\n",
    "51   GET keyboard input (blocking, execution halted)\n",
    "52   PUT keyboard input to address 1197\n",
    "53   COMPARE memory address 1197 to address 743\n",
    "54   IF comparison EQUAL, JUMP to memory address 104\n",
    "55   OUTput letter to screen\n",
    "56   G\n",
    "57   OUTput letter to screen\n",
    "58   u\n",
    "...(\"Guess again: \")\n",
    "103  JUMP to memory address 51\n",
    "104  OUTput...\n",
    "...\"You guessed it!\"\n",
    "152  END Guessing game\n",
    "...\n",
    "743  [some random number generated by other program/code]\n",
    "...\n",
    "1197 [input from subject placed in free portion of memory, somewhere]\n",
    "```"
   ]
  },
  {
   "cell_type": "markdown",
   "metadata": {},
   "source": [
    "### Concurrency and parallelism\n",
    "\n",
    "The controller unit deciphering CPU instructions can only process one command per cycle/tick of the internal clock (today measured in GHz -> billion ops per sec). The feeling we have as users of fluidity of a UI is an illusion: the CPU  very rapidly switches between different tasks.\n",
    "\n",
    "_To first order, everything in a CPU happens in a serial fashion_ with rapid switching.\n",
    "\n",
    "The name for logically separate streams of serial tasks is a **thread**. Think of them as lines of thought of the CPU. A modern OS has dozens of open threads at any time, and it more or less cleverly splits its time between the threads in most need (e.g. the thread listening to data transfer on a USB port becomes active with incoming data, which the CPU needs to allocate \"cycles\" to move into memory as appropriate). But always: _just one thread at a time_!\n",
    "\n",
    "Today's CPUs are actually able to perform multiple instructions per clock tick, but to leverage that requires the programmer to think about the problem being solved. It's not something normal users need to consider.\n",
    "\n",
    "A more significant evolution of the CPU is that today's consist of multiple _cores_. Fundamentally each core can process a thread independently and concurrently with other cores, leading to a form of _parallelism_."
   ]
  },
  {
   "cell_type": "markdown",
   "metadata": {},
   "source": [
    "<img src=\"imgs/multicore.png\" width=400>\n",
    "\n",
    "<img src=\"imgs/multithreading.png\" width=400>\n",
    "\n",
    "[Image source](https://www.cse.wustl.edu/~jain/cse567-11/ftp/multcore/)"
   ]
  },
  {
   "cell_type": "markdown",
   "metadata": {},
   "source": [
    "## 'Data' ...\n",
    "\n",
    "* more or less structured collection of information\n",
    "* in computers, always encoded in bits (binary)\n",
    "* _represents_ something \n",
    "    * text\n",
    "    * Image\n",
    "    * Measurements (numbers: integers or floats)\n",
    "* can be manipulated\n",
    "* must be combined with a representation to enable extraction of information ([Demo: raw bytes manipulations](raw_bytes_manipulations.ipynb))\n",
    "\n",
    "## ... and its persistent storage\n",
    "\n",
    "* data still exists after power cycle\n",
    "* bits written onto a physical medium (DVD, hard drive, USB thumb drive, ...)\n",
    "\n",
    "![HD](imgs/spinning_hard_drive.jpg)\n",
    "\n",
    "* lots of space (hundreds of GB), but hard for CPU to access\n",
    "    * requires physically finding data, then transferring it to memory for manipulation\n",
    "    * _slow_ (thought modern SSD hard drives make big difference)"
   ]
  },
  {
   "cell_type": "markdown",
   "metadata": {},
   "source": [
    "## (Computer) Memory\n",
    "\n",
    "* limited in size (some GB)\n",
    "* random access, RAM\n",
    "    * CPU sees it like a massive ordered collection of addresses, each containing one byte of data\n",
    "* _fast_\n",
    "* _volatile_\n",
    "    \n",
    "## 'Swapping'\n",
    "\n",
    "* when no more physical memory is available, the operating system can make room by temporarily moving \"inactive\" portions of the memory address space into physical storage; this is known as _swapping_\n",
    "* once a \"swapped\" chunk of memory is requested by a program, the OS will try to read it back into memory\n",
    "    * space allowing\n",
    "* reading/writing from/to disk and back is _orders of magnitude_ slower than keeping everything in memory"
   ]
  },
  {
   "cell_type": "markdown",
   "metadata": {},
   "source": [
    "# Exercise: Know thy PC!\n",
    "\n",
    "Write down the CPU name and clock rate, as well as the amount of RAM installed and the size of the hard disk. Compare these to the values of your neighbour."
   ]
  }
 ],
 "metadata": {
  "kernelspec": {
   "display_name": "Python 3",
   "language": "python",
   "name": "python3"
  },
  "language_info": {
   "codemirror_mode": {
    "name": "ipython",
    "version": 3
   },
   "file_extension": ".py",
   "mimetype": "text/x-python",
   "name": "python",
   "nbconvert_exporter": "python",
   "pygments_lexer": "ipython3",
   "version": "3.6.2"
  }
 },
 "nbformat": 4,
 "nbformat_minor": 2
}
