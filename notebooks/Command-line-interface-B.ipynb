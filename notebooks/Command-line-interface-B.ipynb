{
 "cells": [
  {
   "cell_type": "markdown",
   "metadata": {},
   "source": [
    "# Working on the command line\n",
    "\n",
    "The few commands you've learned [so far](Command-line-interface-A.ipynb) obviously won't get you far, we need more."
   ]
  },
  {
   "cell_type": "markdown",
   "metadata": {},
   "source": [
    "## Copying and moving/renaming\n",
    "\n",
    "[These two operations (`cp` and `mv`)](https://www.davidbaumgold.com/tutorials/command-line/#basic-utilities) are probably amongst the top 5 you will ever use!\n",
    "\n",
    "__NB__ There is no separate concept/utility of _renaming_ a file or folder: this is achieved using a move.\n",
    "\n",
    "* For VirtualBox-users\n",
    "\n",
    "    * In your Host OS (Windows or Mac), locate a textual file and copy-paste it into the folder you [previously shared with the virtual machine](03-Software-installations.ipynb). Then, in the VM\n",
    "\n",
    "    * (in Terminal) __Change directory to `/media/sf_shared`, list its contents and view (`less`) the contents of the file.__\n",
    "* For Mac-users\n",
    "    * If you didn't already, make a new `shared` folder using Finder, then\n",
    "    * (in Terminal) __Change directory to it, list its contents and view (`less`) the contents of the file.__\n",
    "\n",
    "### Exercise: making a folder and copying into it\n",
    "\n",
    "* make a new folder using the command `mkdir` (use `man` for syntax, name it as you like)\n",
    "* copy the file to the new directory\n",
    "* use `ls` ___and___ `Explorer` (Windows) or `Finder` (Mac) to make sure you got a copy\n",
    "* use `less` to read the copy"
   ]
  },
  {
   "cell_type": "markdown",
   "metadata": {},
   "source": [
    "### Exercise: Removing files and folders\n",
    "\n",
    "* The command `rmdir` will remove a folder; __Try to remove the folder you just copied into.__\n",
    "* The command `rm` will remove files; __Remove the copy of the file you created above.__\n",
    "* __Try to remove the folder again__"
   ]
  },
  {
   "cell_type": "markdown",
   "metadata": {},
   "source": [
    "## Wildcards"
   ]
  },
  {
   "cell_type": "markdown",
   "metadata": {},
   "source": [
    "# Exercises\n",
    "\n",
    "## How are executables found "
   ]
  },
  {
   "cell_type": "markdown",
   "metadata": {},
   "source": [
    "Select a conda environment, open a Terminal and execute the commands\n",
    "\n",
    "```\n",
    "which python\n",
    "echo $PATH\n",
    "```\n",
    "\n",
    "Then select another environment and repeat. Where is the Python-executable located in the two cases? How is this reflected in the `PATH` environment variable?"
   ]
  },
  {
   "cell_type": "markdown",
   "metadata": {},
   "source": [
    "### Why spaces in directory names are a _Bad Idea_"
   ]
  },
  {
   "cell_type": "markdown",
   "metadata": {},
   "source": [
    "Find the folder called `directory name with spaces` and change directory into it. What goes wrong?"
   ]
  },
  {
   "cell_type": "code",
   "execution_count": null,
   "metadata": {},
   "outputs": [],
   "source": []
  }
 ],
 "metadata": {
  "kernelspec": {
   "display_name": "Python 3",
   "language": "python",
   "name": "python3"
  },
  "language_info": {
   "codemirror_mode": {
    "name": "ipython",
    "version": 3
   },
   "file_extension": ".py",
   "mimetype": "text/x-python",
   "name": "python",
   "nbconvert_exporter": "python",
   "pygments_lexer": "ipython3",
   "version": "3.6.2"
  }
 },
 "nbformat": 4,
 "nbformat_minor": 2
}
