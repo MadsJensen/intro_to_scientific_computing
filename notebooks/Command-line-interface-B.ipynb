{
 "cells": [
  {
   "cell_type": "markdown",
   "metadata": {},
   "source": [
    "# Working on the command line"
   ]
  },
  {
   "cell_type": "markdown",
   "metadata": {},
   "source": [
    "## The PATH\n",
    "\n",
    "* executable vs. non-executable?\n",
    "   * does the data in the file contain _instructions_ for the CPU?\n",
    "   * can the instructions be _interpreted_ as CPU operations?\n",
    "* where should the OS look for instruction-containing data?\n",
    "   * OS X: `/Applications`\n",
    "   * Windows: `C:\\Program Files\\`\n",
    "   * Linux: `/bin`, `/sbin`, `/usr/local/bin`, ......."
   ]
  },
  {
   "cell_type": "markdown",
   "metadata": {},
   "source": [
    "# Exercises\n",
    "\n",
    "## How are executables found "
   ]
  },
  {
   "cell_type": "markdown",
   "metadata": {},
   "source": [
    "Select a conda environment, open a Terminal and execute the commands\n",
    "\n",
    "```\n",
    "which python\n",
    "echo $PATH\n",
    "```\n",
    "\n",
    "Then select another environment and repeat. Where is the Python-executable located in the two cases? How is this reflected in the `PATH` environment variable?"
   ]
  },
  {
   "cell_type": "markdown",
   "metadata": {},
   "source": [
    "### Why spaces in directory names are a _Bad Idea_"
   ]
  },
  {
   "cell_type": "markdown",
   "metadata": {},
   "source": [
    "Find the folder called `directory name with spaces` and change directory into it. What goes wrong?"
   ]
  },
  {
   "cell_type": "code",
   "execution_count": null,
   "metadata": {},
   "outputs": [],
   "source": []
  }
 ],
 "metadata": {
  "kernelspec": {
   "display_name": "Python 3",
   "language": "python",
   "name": "python3"
  },
  "language_info": {
   "codemirror_mode": {
    "name": "ipython",
    "version": 3
   },
   "file_extension": ".py",
   "mimetype": "text/x-python",
   "name": "python",
   "nbconvert_exporter": "python",
   "pygments_lexer": "ipython3",
   "version": "3.6.2"
  }
 },
 "nbformat": 4,
 "nbformat_minor": 2
}
