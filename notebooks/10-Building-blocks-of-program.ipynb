{
 "cells": [
  {
   "cell_type": "markdown",
   "metadata": {},
   "source": [
    "# Building blocks of a computer program"
   ]
  },
  {
   "cell_type": "markdown",
   "metadata": {},
   "source": [
    "## Reading and writing files (in programs)\n",
    "\n",
    "The first step towards gaining access to your data is being able to read it into memory. Writing subsets of processed results out to disk is often preferrable to performing an entire analysis in one shot.\n",
    "\n",
    "### Conceptually\n",
    "\n",
    "When we list (`ls`) and `find` files in the file system, we are referring to the _names of the data containers_. For reading the contents of an _existing_ file, we must ask the OS to ___open the file for reading___. When instead we wish to write to file _with a specific name_, we must ask the OS to ___open the file for writing___ (possibly _creating the file_, if one did not already exist). We can also ___open the file for appending___.\n",
    "\n",
    "Once we're done with I/O-operations on a file, ___we must remember to close it___.\n",
    "\n",
    "### Programmatically\n",
    "\n",
    "Each language has its own syntax for file I/O, but the basic idiom is:\n",
    "\n",
    "1. open a file ('r', 'w', or 'a'), receive a _file pointer_ in the process\n",
    "2. read from or write to the file pointer\n",
    "3. close the file pointer, thus closing the file I/O-process\n",
    "\n",
    "### In Python\n",
    "\n",
    "The built-in function `open` opens a file, and returns a file pointer object to it. The pointer has methods for reading/writing, and a `close`-method for finishing up.\n",
    "\n",
    "(_Matlab has a slightly different syntax, but the ideas are the same._)"
   ]
  },
  {
   "cell_type": "code",
   "execution_count": null,
   "metadata": {},
   "outputs": [],
   "source": [
    "fp = open('dickens.txt', 'rt')  # note the 'rt': 'Read as Text'\n",
    "payload = fp.read()  # assign entire contents to a variable\n",
    "fp.close()  # close the file\n",
    "print(payload)  # print the contents"
   ]
  },
  {
   "cell_type": "markdown",
   "metadata": {},
   "source": [
    "## Control flow: conditionals and iteration  \n",
    "  \n",
    "See Chapters 5 and 7 in (Downey, 2015) and [this notebook](control_flow.ipynb)."
   ]
  },
  {
   "cell_type": "markdown",
   "metadata": {},
   "source": [
    "## Functions  \n",
    "  \n",
    "\"In the context of programming, a **function** is a named sequence of statements that performs a computation. When you define a function, you specify the name and the sequence of statements. Later, you can 'call' the function by name.   \n",
    "  \n",
    "A function call is like a detour in the flow of execution. Instead of going to the next statement, the flow jumps to the body of the function, runs the statements there, and then comes back to pick up where it left off.  \n",
    "  \n",
    "That sounds simple enough, until you remember that one function can call another. While in the middle of one function, the program might have to run the statements in another function. Then, while running that new function, the program might have to run yet another function!  \n",
    "  \n",
    "In summary, when you read a program, you don’t always want to read from top to bottom. Sometimes it makes more sense if you follow the flow of execution.” (Downey, 2015; Chapter 3)  \n",
    "  \n",
    "### Arguments  \n",
    "\n",
    "Some functions just do their 'thing', but most take _input arguments_. These can either be in the form of _parameters_ that modify what the function actually does, and/or in the form of _data to operate on_. (This is merely a conceptual distinction: parameters are also a form of data, of course!).\n",
    "\n",
    "### Why functions?  \n",
    "  \n",
    "But is there a deeper point/advantage in using functions instead of just writing out the code you want to have executed? One reason is that:\n",
    "\n",
    ">Creating a new function gives you an opportunity to name a group of statements, which makes your program easier to read and debug. [and] Well-designed functions are often useful for many programs. Once you write [...] one, you can reuse it.\n",
    "\n",
    "A third example relates to efficiency:\n",
    "\n",
    ">Functions can make a program smaller by eliminating repetitive code. Later, if you make a change, you only have to make it in one place.” (Downey, 2015)  \n",
    "  \n",
    "### Defining functions\n",
    "\n",
    "Before a function can be used in a programme, it must be _defined_. In the Python-language, this is achieved using the `def` keyword, arguments in parentheses and a colon (:)\n",
    "\n",
    "```python\n",
    "def a_new_function(param1, param2, meaningful_name=2):\n",
    "    code...\n",
    "    return(return_value)\n",
    "```\n",
    "\n",
    "In another common interpreted language, _Matlab_, the keyword to use is `function`, and the value of the variable `return_value` must be set in the code\n",
    "\n",
    "```Matlab\n",
    "function return_value = a_new_function(param1, param2, param3)\n",
    "    code...\n",
    "```\n",
    "\n",
    "### Example the book price from Tuesday\n",
    "\n",
    "One solution was:\n",
    "```python\n",
    "cp=60\n",
    "b=229\n",
    "dc=0.4\n",
    "sh=49\n",
    "ad=3\n",
    "print(cp*b*(1-dc) + sh + (cp-1)*ad)\n",
    "```\n",
    "\n",
    "Now if we want to know the price for N amount of books, we can turn it into a function that take number of books as a parameter."
   ]
  },
  {
   "cell_type": "code",
   "execution_count": 30,
   "metadata": {},
   "outputs": [],
   "source": [
    "def book_price(N=60):\n",
    "    cp=N\n",
    "    b=229\n",
    "    dc=0.4\n",
    "    sh=49\n",
    "    ad=3\n",
    "    return (cp*b*(1-dc) + sh + (cp-1)*ad)\n",
    "\n"
   ]
  },
  {
   "cell_type": "markdown",
   "metadata": {},
   "source": [
    "Now we can call the function with any amount of books"
   ]
  },
  {
   "cell_type": "code",
   "execution_count": 32,
   "metadata": {},
   "outputs": [
    {
     "name": "stdout",
     "output_type": "stream",
     "text": [
      "8470.0\n",
      "7066.0\n"
     ]
    }
   ],
   "source": [
    "print(book_price(60))  # first the number where we know the result, just to check it works\n",
    "print(book_price(50))"
   ]
  },
  {
   "cell_type": "markdown",
   "metadata": {},
   "source": [
    "We can make a loop that calls the functions to see the prize for a large amount of books"
   ]
  },
  {
   "cell_type": "code",
   "execution_count": 49,
   "metadata": {},
   "outputs": [],
   "source": [
    "import numpy as np\n",
    "\n",
    "N = 250  # number of books \n",
    "\n",
    "books = np.empty(N)\n",
    "for i in range(N):\n",
    "    #print(i)\n",
    "    books[i] = book_price(i+1)"
   ]
  },
  {
   "cell_type": "code",
   "execution_count": 50,
   "metadata": {},
   "outputs": [
    {
     "data": {
      "image/png": "[encoded data removed]",
      "text/plain": [
       "<matplotlib.figure.Figure at 0x10b99a908>"
      ]
     },
     "metadata": {},
     "output_type": "display_data"
    }
   ],
   "source": [
    "%matplotlib inline  \n",
    "import matplotlib.pyplot as plt  # import the python library \n",
    "plt.style.use(\"seaborn\")  # specify the aesthetics properties of the plot \n",
    "\n",
    "plt.figure()  # make a new figure\n",
    "plt.plot(books);  # plot the books\n",
    "plt.ylabel(\"Price of the books in DKK\");  # set the y-axiss text\n",
    "plt.xlabel(\"Number of books\");  # set the x-axiss text\n",
    "plt.title(\"Price of books\");  # set the title text"
   ]
  },
  {
   "cell_type": "markdown",
   "metadata": {},
   "source": [
    "## Functions vs loops: When to use what?\n",
    "\n"
   ]
  },
  {
   "cell_type": "markdown",
   "metadata": {},
   "source": [
    "## Debugging  \n",
    "  \n",
    "Errors and mistakes inevitably find their way into code. The execution (or compilation) of a program stops at an error, after which it is your job to fix the code.\n",
    "  \n",
    "By ‘mistake’, we here refer to something less than an ‘error’, _i.e._, the program may run to completion, but the output will be 'off' in some more-or-less obvious fashion. \n",
    "\n",
    "For both errors and mistakes, sorting out where in the code the 'bug' is hiding, often requires _examining the contents_ of a variable: at which stage does the program behave differently from what we expect/intend?\n",
    "\n",
    "Debugging is essentially the act of _stepping through_ each (relevant) line of code, until the culprit is found. Some coding software (_Integrated Development Environment_, IDE) allow you to set a **break point** at a specific line in the code. When the program is run, the interpreter simply _halts_ at the line, and waits for you to continue. Before doing so, you can 'inspect' the contents of variables to identify the problematic spot.\n",
    "\n",
    "The most simple form of debugging, and by far the one used most in 'casual' programming, is **adding print-statements in the code**."
   ]
  },
  {
   "cell_type": "markdown",
   "metadata": {},
   "source": [
    "## Version Control Systems (VCS)\n",
    "\n",
    "Developing programs and analysis pipelines is _iterative_, and sometimes you make mistakes. Using a VCS is the _only_ way to survive situations like:\n",
    "\n",
    "* \"The code worked yesterday, now it's broken; why?\"\n",
    "* \"Please redo the analysis from 4 months back\"\n",
    "* Asger and Alma are working on the same project, even on the same file; how should their work be _merged_?\n",
    "\n",
    "[The basic idea is](https://git-scm.com/video/what-is-version-control):\n",
    "\n",
    "1. Create\n",
    "2. Save the changes you make\n",
    "3. Modify\n",
    "4. In case of troubles at step `N`\n",
    "    * revert back to `N-1`\n",
    "    * fix problem & continue\n",
    "\n",
    "At the time of writing, the only VCS in practical use is `git` (with `mercurial` being a closely-related but distant second).\n",
    "\n",
    "We do not have time to go into the details of `git`-based version control, but will gladly recommend additional resouces, such as: [Try git in 15 minutes](https://try.github.io/levels/1/challenges/1) and the definitive (free) [Pro Git-book](https://git-scm.com/book/en/v2).\n",
    "\n",
    "### GitHub\n",
    "\n",
    "Most open-source code development is hosted at the [GitHub website](https://github.com/). GitHub is a place on the internet you can upload your version-controlled code."
   ]
  },
  {
   "cell_type": "markdown",
   "metadata": {},
   "source": [
    "# Exercises"
   ]
  },
  {
   "cell_type": "markdown",
   "metadata": {},
   "source": [
    "## File I/O\n",
    "\n",
    "### Read and print the contents of the CSV-file you created previously (with birth dates)"
   ]
  },
  {
   "cell_type": "markdown",
   "metadata": {},
   "source": [
    "## Functions"
   ]
  },
  {
   "cell_type": "markdown",
   "metadata": {},
   "source": [
    "### Follow the flow of execution\n",
    "\n",
    "**Before running it!**, figure out what the output of this code block will be:"
   ]
  },
  {
   "cell_type": "code",
   "execution_count": null,
   "metadata": {},
   "outputs": [],
   "source": [
    "def double_the_input(input):  \n",
    "    return(2 * input)  \n",
    "  \n",
    "def add_two_items(item_a, item_b):  \n",
    "    return(item_a + item_b)\n",
    "  \n",
    "a = 4.5  \n",
    "b = 7  \n",
    "  \n",
    "print(add_two_items(double_the_input(a), b))"
   ]
  },
  {
   "cell_type": "markdown",
   "metadata": {},
   "source": [
    "### Function arguments\n",
    "\n",
    "Write a function that takes 2 arguments and raises the first input to the power of the second input, _e.g._, $3^{4}$, and `return`s the output. If the user only enter one argument, assume that the power to raise to should be 2 (_i.e._ use a keyword argument with a default value of 2)."
   ]
  },
  {
   "cell_type": "code",
   "execution_count": null,
   "metadata": {},
   "outputs": [],
   "source": [
    "# define your function here\n"
   ]
  },
  {
   "cell_type": "markdown",
   "metadata": {},
   "source": [
    "Test your function below"
   ]
  },
  {
   "cell_type": "code",
   "execution_count": null,
   "metadata": {},
   "outputs": [],
   "source": []
  },
  {
   "cell_type": "markdown",
   "metadata": {},
   "source": [
    "Run the following cell to check your function! Just write the name of your function on the first line"
   ]
  },
  {
   "cell_type": "code",
   "execution_count": null,
   "metadata": {},
   "outputs": [],
   "source": [
    "f_to_test =   # write your function name after the = sign\n",
    "assert f_to_test(2) == 4, '2^2 should be 4!'\n",
    "assert f_to_test(3, 2) == 9, '3^2 should be 9!'"
   ]
  },
  {
   "cell_type": "markdown",
   "metadata": {},
   "source": [
    "### Mean and median\n",
    "\n",
    "Write two functions. Both take a list of numbers as input (argument), one returns the mean of the numbers while the other returns the median."
   ]
  }
 ],
 "metadata": {
  "hide_input": false,
  "kernelspec": {
   "display_name": "Python 3",
   "language": "python",
   "name": "python3"
  },
  "language_info": {
   "codemirror_mode": {
    "name": "ipython",
    "version": 3
   },
   "file_extension": ".py",
   "mimetype": "text/x-python",
   "name": "python",
   "nbconvert_exporter": "python",
   "pygments_lexer": "ipython3",
   "version": "3.6.2"
  }
 },
 "nbformat": 4,
 "nbformat_minor": 2
}
