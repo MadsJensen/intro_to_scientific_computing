{
 "cells": [
  {
   "cell_type": "markdown",
   "metadata": {},
   "source": [
    "# Demo: raw byte manipulations\n",
    "\n",
    "What is data? It depends on how you (choose to) intepret it! There may be more than one way..."
   ]
  },
  {
   "cell_type": "code",
   "execution_count": null,
   "metadata": {},
   "outputs": [],
   "source": [
    "%matplotlib inline"
   ]
  },
  {
   "cell_type": "code",
   "execution_count": null,
   "metadata": {},
   "outputs": [],
   "source": [
    "import numpy as np\n",
    "import matplotlib.pyplot as plt\n",
    "show_as_hex = np.vectorize(hex)"
   ]
  },
  {
   "cell_type": "markdown",
   "metadata": {},
   "source": [
    "## The data\n",
    "\n",
    "We are given a file called `binary_image_file`, and the task to visualise it. Unfortunately, the file suffix has been lost, and the only thing our supervisor recalls is that the image size is 324 x 324 pixels. \n",
    "\n",
    "\"No problem\", you say, and present your supervisor with the image:"
   ]
  },
  {
   "cell_type": "code",
   "execution_count": null,
   "metadata": {},
   "outputs": [],
   "source": [
    "img_file = 'binary_image_file'\n",
    "img_size = (324, 324)\n",
    "n_values = img_size[0] * img_size[1]\n",
    "with open(img_file, 'rb') as fp:\n",
    "    image = np.fromfile(fp, dtype=np.uint8, count=n_values).reshape(*img_size)\n",
    "\n",
    "plt.imshow(image)"
   ]
  },
  {
   "cell_type": "markdown",
   "metadata": {},
   "source": [
    "__THAT'S NOT RIGHT!!__, your supervisor exclaims, __FIX IT!__."
   ]
  },
  {
   "cell_type": "markdown",
   "metadata": {},
   "source": [
    "## Information is only accessible if data structure is known\n",
    "\n",
    "What went wrong? You realise that first of all, the colour of each pixel on a computer screen is represented by a mixture of the three primary colours: red, green and blue. On a hunch, you decide to try reading the data as RGB-triplets instead."
   ]
  },
  {
   "cell_type": "code",
   "execution_count": null,
   "metadata": {},
   "outputs": [],
   "source": [
    "img_size = (324, 324, 3)\n",
    "n_values = img_size[0] * img_size[1] * img_size[2]\n",
    "with open(img_file, 'rb') as fp:\n",
    "    image = np.fromfile(fp, dtype=np.uint8, count=n_values).reshape(*img_size)\n",
    "    \n",
    "plt.imshow(image)"
   ]
  },
  {
   "cell_type": "markdown",
   "metadata": {},
   "source": [
    "__BETTER! But the colours are off and there's a weird offset in the image; fix it!__"
   ]
  },
  {
   "cell_type": "markdown",
   "metadata": {},
   "source": [
    "## Binary data formats are usually augmented by meta-information known as the 'header'\n",
    "\n",
    "In this particular toy example, the image file is of format TIFF. A TIFF file contains information on its contents both before and after the actual pixel colour information. In this particular case (after some investigating), we find that the header of the file consists of precisely 166 bytes of data. After taking this offset into consideration, things look right."
   ]
  },
  {
   "cell_type": "markdown",
   "metadata": {},
   "source": [
    "### Load the file header and the data corresponding to the image."
   ]
  },
  {
   "cell_type": "code",
   "execution_count": null,
   "metadata": {},
   "outputs": [],
   "source": [
    "header_size = 166\n",
    "\n",
    "with open(img_file, 'rb') as fp:\n",
    "    header = np.fromfile(fp, dtype=np.uint8, count=header_size)\n",
    "    raw_bytes = np.fromfile(fp, dtype=np.uint8, count=n_values)"
   ]
  },
  {
   "cell_type": "markdown",
   "metadata": {},
   "source": [
    "### Print the header contents, assuming all of it is human-readable ASCII text\n",
    "\n",
    "(some of it's not!)"
   ]
  },
  {
   "cell_type": "code",
   "execution_count": null,
   "metadata": {},
   "outputs": [],
   "source": [
    "for c in header:\n",
    "    print(str(chr(c)), end='')"
   ]
  },
  {
   "cell_type": "markdown",
   "metadata": {},
   "source": [
    "### Print some of the image data in hexadecimal notation\n",
    "\n",
    "* first 10 bytes\n",
    "* 10 bytes somewhere 'deeper' inside the file"
   ]
  },
  {
   "cell_type": "code",
   "execution_count": null,
   "metadata": {},
   "outputs": [],
   "source": [
    "print(show_as_hex(raw_bytes[:10]))\n",
    "print(show_as_hex(raw_bytes[40440:40450]))"
   ]
  },
  {
   "cell_type": "markdown",
   "metadata": {},
   "source": [
    "### Print the same image data segments, now interpreted as integers"
   ]
  },
  {
   "cell_type": "code",
   "execution_count": null,
   "metadata": {},
   "outputs": [],
   "source": [
    "print(raw_bytes[:10])\n",
    "print(raw_bytes[40440:40450])"
   ]
  },
  {
   "cell_type": "markdown",
   "metadata": {},
   "source": [
    "Each of the colour-channels is one byte 'wide', _i.e._, the amount of each of the primary colours in every pixels is in the range $0 \\rightarrow 2^{8} = 255$."
   ]
  },
  {
   "cell_type": "markdown",
   "metadata": {},
   "source": [
    "### Reshape the 300-thousand-or-so values back into the shape of the image"
   ]
  },
  {
   "cell_type": "code",
   "execution_count": null,
   "metadata": {},
   "outputs": [],
   "source": [
    "reshaped_bytes = raw_bytes.reshape(*img_size)"
   ]
  },
  {
   "cell_type": "code",
   "execution_count": null,
   "metadata": {},
   "outputs": [],
   "source": [
    "reshaped_bytes.shape"
   ]
  },
  {
   "cell_type": "markdown",
   "metadata": {},
   "source": [
    "### Plot"
   ]
  },
  {
   "cell_type": "code",
   "execution_count": null,
   "metadata": {},
   "outputs": [],
   "source": [
    "plt.imshow(reshaped_bytes)"
   ]
  },
  {
   "cell_type": "markdown",
   "metadata": {},
   "source": [
    "### Plot each of the colour channes separately"
   ]
  },
  {
   "cell_type": "code",
   "execution_count": null,
   "metadata": {},
   "outputs": [],
   "source": [
    "fig, axs = plt.subplots(1,3)\n",
    "chans = ['red', 'green', 'blue']\n",
    "for ii in range(3):\n",
    "    im = axs[ii].imshow(reshaped_bytes[:, :, ii], cmap='gray')\n",
    "    axs[ii].set_title(chans[ii])\n",
    "fig.subplots_adjust(right=0.8)\n",
    "cbar_ax = fig.add_axes([0.85, 0.3, 0.05, 0.4])\n",
    "fig.colorbar(im, cax=cbar_ax)"
   ]
  }
 ],
 "metadata": {
  "kernelspec": {
   "display_name": "Python 3",
   "language": "python",
   "name": "python3"
  },
  "language_info": {
   "codemirror_mode": {
    "name": "ipython",
    "version": 3
   },
   "file_extension": ".py",
   "mimetype": "text/x-python",
   "name": "python",
   "nbconvert_exporter": "python",
   "pygments_lexer": "ipython3",
   "version": "3.6.2"
  }
 },
 "nbformat": 4,
 "nbformat_minor": 2
}
