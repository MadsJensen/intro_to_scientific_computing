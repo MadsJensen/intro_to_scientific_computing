{
 "cells": [
  {
   "cell_type": "markdown",
   "metadata": {},
   "source": [
    "# Demo: raw byte manipulations\n",
    "\n",
    "What is data? It depends on how you (choose to) intepret it! There may be more than one way..."
   ]
  },
  {
   "cell_type": "code",
   "execution_count": null,
   "metadata": {},
   "outputs": [],
   "source": [
    "%matplotlib inline"
   ]
  },
  {
   "cell_type": "code",
   "execution_count": null,
   "metadata": {},
   "outputs": [],
   "source": [
    "import numpy as np\n",
    "import matplotlib.pyplot as plt\n",
    "show_as_hex = np.vectorize(hex)"
   ]
  },
  {
   "cell_type": "markdown",
   "metadata": {},
   "source": [
    "## The data\n",
    "\n",
    "We know the data is an image of size 324 x 324 pixels, and that each pixel is represented by 3 colour channel values, one each for R, G & B. Each of the channels is one byte 'wide', _i.e._, the amount of each of the primary colours in every pixels is in the range $0 \\rightarrow 2^{8} = 255$."
   ]
  },
  {
   "cell_type": "code",
   "execution_count": null,
   "metadata": {},
   "outputs": [],
   "source": [
    "img_file = 'binary_image_file.tiff'\n",
    "img_size = (324, 324, 3)\n",
    "n_pixels = img_size[0]*img_size[1]*img_size[2]\n",
    "header_size = 166\n",
    "print('There image consists of {} values (bytes).'.format(n_pixels))"
   ]
  },
  {
   "cell_type": "markdown",
   "metadata": {},
   "source": [
    "### Load the file header and the data corresponding to the image."
   ]
  },
  {
   "cell_type": "code",
   "execution_count": null,
   "metadata": {},
   "outputs": [],
   "source": [
    "fp = open('binary_image_file.tiff', 'rb')\n",
    "header = np.fromfile(fp, dtype=np.uint8, count=header_size)\n",
    "raw_bytes = np.fromfile(fp, dtype=np.uint8, count=n_pixels)\n",
    "fp.close()"
   ]
  },
  {
   "cell_type": "markdown",
   "metadata": {},
   "source": [
    "### Print the header contents, assuming all of it is human-readable ASCII text\n",
    "\n",
    "(some of it's not!)"
   ]
  },
  {
   "cell_type": "code",
   "execution_count": null,
   "metadata": {},
   "outputs": [],
   "source": [
    "for c in header:\n",
    "    print(str(chr(c)), end='')"
   ]
  },
  {
   "cell_type": "markdown",
   "metadata": {},
   "source": [
    "### Print some of the image data in hexadecimal notation\n",
    "\n",
    "* first 10 bytes\n",
    "* 10 bytes somewhere 'deeper' inside the file"
   ]
  },
  {
   "cell_type": "code",
   "execution_count": null,
   "metadata": {},
   "outputs": [],
   "source": [
    "print(show_as_hex(raw_bytes[:10]))\n",
    "print(show_as_hex(raw_bytes[40440:40450]))"
   ]
  },
  {
   "cell_type": "markdown",
   "metadata": {},
   "source": [
    "### Print the same image data segments, now interpreted as integers"
   ]
  },
  {
   "cell_type": "code",
   "execution_count": null,
   "metadata": {},
   "outputs": [],
   "source": [
    "print(raw_bytes[:10])\n",
    "print(raw_bytes[40440:40450])"
   ]
  },
  {
   "cell_type": "markdown",
   "metadata": {},
   "source": [
    "### Reshape the 300-thousand-or-so values back into the shape of the image"
   ]
  },
  {
   "cell_type": "code",
   "execution_count": null,
   "metadata": {},
   "outputs": [],
   "source": [
    "reshaped_bytes = raw_bytes.reshape(*img_size)"
   ]
  },
  {
   "cell_type": "markdown",
   "metadata": {},
   "source": [
    "### Plot"
   ]
  },
  {
   "cell_type": "code",
   "execution_count": null,
   "metadata": {},
   "outputs": [],
   "source": [
    "plt.imshow(reshaped_bytes)"
   ]
  },
  {
   "cell_type": "markdown",
   "metadata": {},
   "source": [
    "### Plot each of the colour channes separately"
   ]
  },
  {
   "cell_type": "code",
   "execution_count": null,
   "metadata": {},
   "outputs": [],
   "source": [
    "fig, axs = plt.subplots(1,3)\n",
    "chans = ['red', 'green', 'blue']\n",
    "for ii in range(3):\n",
    "    im = axs[ii].imshow(reshaped_bytes[:, :, ii], cmap='gray')\n",
    "    axs[ii].set_title(chans[ii])\n",
    "fig.subplots_adjust(right=0.8)\n",
    "cbar_ax = fig.add_axes([0.85, 0.3, 0.05, 0.4])\n",
    "fig.colorbar(im, cax=cbar_ax)"
   ]
  }
 ],
 "metadata": {
  "kernelspec": {
   "display_name": "Python 3",
   "language": "python",
   "name": "python3"
  },
  "language_info": {
   "codemirror_mode": {
    "name": "ipython",
    "version": 3
   },
   "file_extension": ".py",
   "mimetype": "text/x-python",
   "name": "python",
   "nbconvert_exporter": "python",
   "pygments_lexer": "ipython3",
   "version": "3.6.2"
  }
 },
 "nbformat": 4,
 "nbformat_minor": 2
}
