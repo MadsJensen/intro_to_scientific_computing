{
 "cells": [
  {
   "cell_type": "markdown",
   "metadata": {},
   "source": [
    "# Solution to assignment\n",
    "\n",
    "_By: Your Name_\n",
    "\n",
    "_Date: _"
   ]
  },
  {
   "cell_type": "markdown",
   "metadata": {},
   "source": [
    "It is considered _good practice_ to import all the modules you use in a notebook in the beginning, so we'll start with that:"
   ]
  },
  {
   "cell_type": "code",
   "execution_count": 24,
   "metadata": {},
   "outputs": [],
   "source": [
    "import string"
   ]
  },
  {
   "cell_type": "markdown",
   "metadata": {},
   "source": [
    "## Read lines of a single log-file into a list\n",
    "\n",
    "Assign the _path to one of the logfiles_ to the variable `logfile_name`. You will need to adjust the path to wherever you placed the `logs`-directory containing them!"
   ]
  },
  {
   "cell_type": "code",
   "execution_count": 2,
   "metadata": {},
   "outputs": [],
   "source": [
    "logfile_name = '../src/logs/0023_UZD_2017-02-04.log'"
   ]
  },
  {
   "cell_type": "markdown",
   "metadata": {},
   "source": [
    "Open the file, read the lines & close the file."
   ]
  },
  {
   "cell_type": "code",
   "execution_count": 3,
   "metadata": {},
   "outputs": [],
   "source": [
    "fp = open(logfile_name, 'r')\n",
    "all_lines = fp.readlines()\n",
    "fp.close()"
   ]
  },
  {
   "cell_type": "markdown",
   "metadata": {},
   "source": [
    "Display the _first ten lines_. For this, you can use the slice-syntax `[:10]`, which reads: 'from the start to index 10'."
   ]
  },
  {
   "cell_type": "code",
   "execution_count": 6,
   "metadata": {},
   "outputs": [
    {
     "data": {
      "text/plain": [
       "['# Original filename: 0023_UZD_2017-02-04.log\\n',\n",
       " '# Time unit: 100 us\\n',\n",
       " '# RARECAT=digit\\n',\n",
       " '#\\n',\n",
       " '# Time\\tHHGG\\tEvent\\n',\n",
       " '28558\\t42\\tSTIM=d\\n',\n",
       " '38397\\t42\\tRESP=1\\n',\n",
       " '46843\\t42\\tSTIM=q\\n',\n",
       " '54687\\t42\\tRESP=1\\n',\n",
       " '63719\\t42\\tSTIM=7\\n']"
      ]
     },
     "execution_count": 6,
     "metadata": {},
     "output_type": "execute_result"
    }
   ],
   "source": [
    "all_lines[:10]"
   ]
  },
  {
   "cell_type": "markdown",
   "metadata": {},
   "source": [
    "The first five lines are comments, which we'll want to skip over. How many events are there in the file (how many rows after the comments)?"
   ]
  },
  {
   "cell_type": "code",
   "execution_count": 8,
   "metadata": {},
   "outputs": [
    {
     "data": {
      "text/plain": [
       "2560"
      ]
     },
     "execution_count": 8,
     "metadata": {},
     "output_type": "execute_result"
    }
   ],
   "source": [
    "len(all_lines[5:])"
   ]
  },
  {
   "cell_type": "markdown",
   "metadata": {},
   "source": [
    "## Splitting the lines\n",
    "\n",
    "From the above, determine the field-separator character used in the file."
   ]
  },
  {
   "cell_type": "code",
   "execution_count": 7,
   "metadata": {},
   "outputs": [],
   "source": [
    "field_sep = '\\t'"
   ]
  },
  {
   "cell_type": "markdown",
   "metadata": {},
   "source": [
    "Split the 6th line and display:"
   ]
  },
  {
   "cell_type": "code",
   "execution_count": 25,
   "metadata": {},
   "outputs": [
    {
     "name": "stdout",
     "output_type": "stream",
     "text": [
      "['28558', '42', 'STIM=d\\n']\n"
     ]
    }
   ],
   "source": [
    "line = all_lines[5]\n",
    "split_line = line.split(field_sep)\n",
    "print(split_line)"
   ]
  },
  {
   "cell_type": "markdown",
   "metadata": {},
   "source": [
    "The 1st value of the split list is the time, the 3rd value contains information on whether the _event_ was a _stimulus presentation_, or a _response_. Since the data is consistent, to get the actual stimulus presented (letter or digit), we can simply count how many characters 'in' the equal-sign is: the index of the stimulus is:"
   ]
  },
  {
   "cell_type": "code",
   "execution_count": 34,
   "metadata": {},
   "outputs": [
    {
     "data": {
      "text/plain": [
       "'S'"
      ]
     },
     "execution_count": 34,
     "metadata": {},
     "output_type": "execute_result"
    }
   ],
   "source": [
    "# what is the index of the stimulus?\n",
    "# Try changing the relevant value below until you get 'd'\n",
    "split_line[2][2]"
   ]
  },
  {
   "cell_type": "code",
   "execution_count": 29,
   "metadata": {},
   "outputs": [],
   "source": [
    "idx = 5"
   ]
  },
  {
   "cell_type": "markdown",
   "metadata": {},
   "source": [
    "Note that this index is also the one we need for getting to the response (1 or 2).\n",
    "\n",
    "* split the 6th line & print the stimulus delivery time and stimulus presented\n",
    "* split the 7th line & print the response time and button number pressed\n",
    "* assign the reaction time to a variable ('`RT`') and print it"
   ]
  },
  {
   "cell_type": "code",
   "execution_count": 30,
   "metadata": {},
   "outputs": [
    {
     "name": "stdout",
     "output_type": "stream",
     "text": [
      "['28558', '42', 'STIM=d\\n']\n",
      "28558 d\n",
      "['38397', '42', 'RESP=1\\n']\n",
      "38397 1\n",
      "reaction time:  0.9839\n"
     ]
    }
   ],
   "source": [
    "# 6th line: STIM\n",
    "line = all_lines[5]\n",
    "split_line = line.split(field_sep)\n",
    "print(split_line)\n",
    "\n",
    "stim_time = split_line[0]\n",
    "cur_stim = split_line[2][idx]\n",
    "print(stim_time, cur_stim)\n",
    "    \n",
    "# 7th line: RESP\n",
    "line = all_lines[6]\n",
    "split_line = line.split(field_sep)\n",
    "print(split_line)\n",
    "    \n",
    "resp_time = split_line[0]\n",
    "cur_resp = split_line[2][idx]\n",
    "print(resp_time, cur_resp)\n",
    "\n",
    "# calculate RT\n",
    "RT = int(resp_time) - int(stim_time)\n",
    "print('reaction time: ', RT*100e-6)    "
   ]
  },
  {
   "cell_type": "markdown",
   "metadata": {},
   "source": [
    "## Loop over the lines\n",
    "\n",
    "Convert the above into something that can be used to _loop over_ the list. You'll need logic for determining whether the current line _starts with the string_ `STIM`. Strings have a method `startswith` for this!"
   ]
  },
  {
   "cell_type": "code",
   "execution_count": 36,
   "metadata": {},
   "outputs": [
    {
     "name": "stdout",
     "output_type": "stream",
     "text": [
      "28558 d\n",
      "38397 1\n",
      "reaction time:  0.9839\n"
     ]
    }
   ],
   "source": [
    "for line in all_lines[5:7]:\n",
    "    split_line = line.split(field_sep)\n",
    "\n",
    "    if split_line[2].startswith('STIM'):\n",
    "        stim_time = split_line[0]\n",
    "        cur_stim = split_line[2][idx]\n",
    "        print(stim_time, cur_stim)\n",
    "\n",
    "    else:\n",
    "        split_line = line.split(field_sep)\n",
    "\n",
    "        resp_time = split_line[0]\n",
    "        cur_resp = split_line[2][idx]\n",
    "        print(resp_time, cur_resp)\n",
    "\n",
    "        # calculate RT\n",
    "        RT = int(resp_time) - int(stim_time)\n",
    "        print('reaction time: ', RT*100e-6)    "
   ]
  },
  {
   "cell_type": "code",
   "execution_count": null,
   "metadata": {},
   "outputs": [],
   "source": []
  }
 ],
 "metadata": {
  "kernelspec": {
   "display_name": "Python 3",
   "language": "python",
   "name": "python3"
  },
  "language_info": {
   "codemirror_mode": {
    "name": "ipython",
    "version": 3
   },
   "file_extension": ".py",
   "mimetype": "text/x-python",
   "name": "python",
   "nbconvert_exporter": "python",
   "pygments_lexer": "ipython3",
   "version": "3.6.2"
  }
 },
 "nbformat": 4,
 "nbformat_minor": 2
}
