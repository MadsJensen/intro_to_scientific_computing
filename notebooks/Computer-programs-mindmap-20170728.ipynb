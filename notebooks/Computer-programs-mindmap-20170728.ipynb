{
 "cells": [
  {
   "cell_type": "markdown",
   "metadata": {},
   "source": [
    "**NB** The order of the notebook is not logical, simply dump of the mindmap, followed by `notedown` conversion to `ipynb`!"
   ]
  },
  {
   "cell_type": "markdown",
   "metadata": {},
   "source": [
    "# Computer programs  \n",
    "  \n",
    "“A **program** is a sequence of instructions that specifies how to perform a computation. The computation might be something mathematical, such as solving a system of equations or finding the roots of a polynomial, but it can also be a symbolic computation, such as searching and replacing text in a document or something graphical, like processing an image or playing a video.” (Downey, 2015) "
   ]
  },
  {
   "cell_type": "markdown",
   "metadata": {},
   "source": [
    "![Mindmap](Computer-programs-mindmap-20170728.png)"
   ]
  },
  {
   "cell_type": "markdown",
   "metadata": {},
   "source": [
    " \n",
    "## Data types  \n",
    "  \n",
    "### Dictionaries, hashes, arrays, etc.  \n",
    "  \n",
    "The use of more advanced structures often enables efficient implementation of complex computations (such as signal-processing operations on large datasets). The types of data structures available are highly language-dependent, and using them becomes natural if and when the domain-specific problem calls for it. No need to learn something you won’t use...  \n",
    "  \n",
    "### Lists and other collections  \n",
    "  \n",
    "A list is an ordered sequence of elements of another type. In python, we can assign a list to a variable using the following syntax"
   ]
  },
  {
   "cell_type": "code",
   "execution_count": null,
   "metadata": {
    "collapsed": true
   },
   "outputs": [],
   "source": [
    "one_to_five = [1, 2, 3, 4, 5]  "
   ]
  },
  {
   "cell_type": "markdown",
   "metadata": {},
   "source": [
    "Depending on the language, the power of lists ranges from great to humongous."
   ]
  },
  {
   "cell_type": "code",
   "execution_count": null,
   "metadata": {
    "collapsed": true
   },
   "outputs": [],
   "source": [
    "a_crazy_list_in_python = [‘one’, 2, 3.0, one_to_five]  # lists can contain any objects, including other lists...  "
   ]
  },
  {
   "cell_type": "markdown",
   "metadata": {},
   "source": [
    "The word ‘list’ is usually reserved for an _ordered_ set of elements. Some languages also have the concept of a ‘collection’ of (unordered) elements (in Python, this is known as a ‘set’).  \n",
    "  \n",
    "### Characters and strings  \n",
    "  \n",
    "A string is an ordered sequence of (one or more) characters. There is all manner of mayhem associated with strings in programming languages (‘encoding’ is a thorny issue), but we don’t need to get into those here.  \n",
    "  \n",
    "In python, strings are particularly nimble (don’t try this in other languages!):"
   ]
  },
  {
   "cell_type": "code",
   "execution_count": null,
   "metadata": {
    "collapsed": true
   },
   "outputs": [],
   "source": [
    "one_string = ‘I am a ’  \n",
    "another_string = ‘Horse’  \n",
    "one_string + another_string  \n",
    "3 * another_string  "
   ]
  },
  {
   "cell_type": "markdown",
   "metadata": {},
   "source": [
    "### Floating point numbers  \n",
    "  \n",
    "Like integers, decimal number need to be stored using some number of bits. ‘Float’ and ‘single’ refer to decimal numbers saved using 32-bit resolution, whereas a ‘double’ refers to a 64-bit representation of a decimal number. It is beyond the scope of this course to go into the details of under which conditions one representation/resolution is more appropriate than the other. Suffice it to say: it’s better to err on the side of caution and use doubles. This is indeed what all mainstream interpreted languages do.  \n",
    "  \n",
    "### Integers  \n",
    "  \n",
    "Whole numbers, the maximum size of which depends on how many _bits_ are used to store the number (in memory and/or on disk).  \n",
    "  \n",
    "## Variables, expressions and statements  \n",
    "  \n",
    "Following Chapter 2 in (Downey, 2015).  \n",
    "  \n",
    "### Assignment & variables  \n",
    "  \n",
    "\" One of the most powerful features of a programming language is the ability to manipulate **variables**. A variable is a name that refers to a value.” (Downey, 2015)  \n",
    "  \n",
    "Variables are **assigned** values; in _most_ programming languages, the assignment **operator** is the equal-sign (`=`). **Assignment statements** are read from left-to-right, here are a couple of `python`-assignments:"
   ]
  },
  {
   "cell_type": "code",
   "execution_count": null,
   "metadata": {
    "collapsed": true
   },
   "outputs": [],
   "source": [
    "message = “Is it time for a break yet?”  \n",
    "n = 42  \n",
    "electron_mass_MeV = 0.511  "
   ]
  },
  {
   "cell_type": "markdown",
   "metadata": {},
   "source": [
    "The programmer is free to choose the _names_ of the variables she wishes to use in the code, as long as they do not violate the language’s syntactic rules. Common to most languages is that the following variable names are _syntactically incorrect_.  \n",
    "  \n",
    "_Never_ begin the name of a variable with a digit, or pretty much any other non-letter character (there are a few exceptions, such as _underscore_, `_`):"
   ]
  },
  {
   "cell_type": "code",
   "execution_count": null,
   "metadata": {
    "collapsed": true
   },
   "outputs": [],
   "source": [
    "2fast = 140  \n",
    "@home = False  "
   ]
  },
  {
   "cell_type": "markdown",
   "metadata": {},
   "source": [
    "Note that _a variable name is like a pointer to whatever data the assignment operation dictates_. In interpreted languages, one does not need to pre-define what the variable is to contain: the interpreter figures this out on-the-fly. Similarly, the assignment to a variable can happen multiple times in the ‘lifetime’ of a program: each assignment simply moves the pointer to a new data object.  \n",
    "  \n",
    "In Python, to see what a variable contains (maybe we forgot!), we can simply write the name of the variable on a line and execute it, or use the built-in `print`-command"
   ]
  },
  {
   "cell_type": "code",
   "execution_count": null,
   "metadata": {
    "collapsed": true
   },
   "outputs": [],
   "source": [
    "n  \n",
    "print(message)  "
   ]
  },
  {
   "cell_type": "markdown",
   "metadata": {},
   "source": [
    "### Keywords  \n",
    "  \n",
    "Each programming language ‘reserves’ some portion of typically the English (natural) language as **keywords** that are associated with specific (typically low-level) computational operations.  \n",
    "  \n",
    "Practically all languages use the keywords `if``, `else` and `for` for ‘control flow’ of program execution. In Python, `not`, `True`, `False` and `None` are used to define logic:"
   ]
  },
  {
   "cell_type": "code",
   "execution_count": null,
   "metadata": {
    "collapsed": true
   },
   "outputs": [],
   "source": [
    "two_greater_than_one = (2 > 1)  \n",
    "print(two_greater_than_one)  \n",
    "if two_greater_than_one:  \n",
    "\tprint(‘Correct’)  "
   ]
  },
  {
   "cell_type": "markdown",
   "metadata": {},
   "source": [
    "**NB** Keywords cannot be used as variable names! Try, and you will get a Syntax Error.  \n",
    "  \n",
    "### Expressions and operators  \n",
    "  \n",
    "An **expression** is a combination of values, variables, and operators. An expression gets **evaluated** when it is executed, and a value is found for it:"
   ]
  },
  {
   "cell_type": "code",
   "execution_count": null,
   "metadata": {
    "collapsed": true
   },
   "outputs": [],
   "source": [
    "n = 42  \n",
    "m = n + 25  \n",
    "print(m)  "
   ]
  },
  {
   "cell_type": "markdown",
   "metadata": {},
   "source": [
    "A **statement** is a unit of code that has an effect, like creating a variable or displaying a value (there are three statements in the code block above). When you type a statement, the interpreter **executes** it, which means that it does whatever the statement says.  \n",
    "  \n",
    "**Operators** are one of the ways we can manipulate the data referenced by our variables. The usual mathematical operators are omnipresent, but things get interesting when we start applying operations to non-numeric objects. In Python, we could _e.g._ multiply a string by an integer, or in Matlab divide a 2D _matrix_ of numbers by a 1D _vector_ to obtain the least-squares estimate of the solution to a set of linear equations! But we digress...  \n",
    "  \n",
    "## Programming languages (Downey, 2015)  \n",
    "  \n",
    "**Natural languages** are the languages people speak, such as English, Spanish, and French. They were not designed by people (although people try to impose some order on them); they evolved naturally.   \n",
    "  \n",
    "**Formal languages** are languages that are designed by people for specific applications. For example, the notation that mathematicians use is a formal language that is particularly good at denoting relationships among numbers and symbols. Chemists use a formal language to represent the chemical structure of molecules. And most importantly:   \n",
    "  \n",
    "**Programming languages are formal languages that have been designed to express computations.**  \n",
    "  \n",
    "### Textual “code” files  \n",
    "  \n",
    "The set of formal statements that constitute a program are known as **code**. The programmer writes code into _files_ that are saved using a file extension that indicates the language the code is written in; examples include:  \n",
    "  \n",
    "* _.py_ for Python  \n",
    "* _.c_ for C  \n",
    "* _.m_ for Matlab  \n",
    "  \n",
    "Note that they are **textual**, _i.e._, human-readable format (as opposed to machine code).  \n",
    "  \n",
    "### Syntax  \n",
    "  \n",
    "The formal programming languages have associated _syntax rules_ that come in two flavors: one pertaining to **tokens** and another to **structure** [how tokens may be combined]. Tokens are the basic elements of the language, such as words, numbers, and chemical elements. Programming languges differ greatly in both the specific form of the tokens used and the structures they may form.  \n",
    "  \n",
    "One of the most common error messages a programmer encounters when beginning to use a new language is the infamous: `Syntax Error`! For learners of natural languages, structural errors much more common are ;)  \n",
    "  \n",
    "### Unambiguous and literal  \n",
    "  \n",
    "“The meaning of a computer program is unambiguous and literal, and can be understood entirely by analysis of the tokens and structure.  \n",
    "  \n",
    "Formal languages are more dense than natural languages, so it takes longer to read them. Also, the structure is important, so it is not always best to read from top to bottom, left to right. Instead, learn to parse the program in your head, identifying the tokens and interpreting the structure. Finally, the details matter. Small errors in spelling and punctuation, which you can get away with in natural languages, can make a big difference in a formal language.” (Downey, 2015)  \n",
    "  \n",
    "### Comments  \n",
    "  \n",
    "Partly because programming languages have rather terse syntax (some are worse than others!), it is considered a _good custom_ to annotate the computational “business”-portions of programs with __comments__. Comments are portions of the _code_ that are not **parsed** by either the interpreter or the compiler, _i.e._, these are “left out” from the translation to machine instructions. Comments are thus exempt of syntax-checking and meaning-parsing applied to all other code.  \n",
    "  \n",
    "Here is an example of a comment in the Python language. Whenever the hash-sign (‘#’) is encountered, parsing of the current line is stopped and the parser (interpreter or compiler) moves to the next line."
   ]
  },
  {
   "cell_type": "code",
   "execution_count": null,
   "metadata": {
    "collapsed": true
   },
   "outputs": [],
   "source": [
    "2  # this is the number two  "
   ]
  },
  {
   "cell_type": "markdown",
   "metadata": {},
   "source": [
    "## Compiled programs/languages  \n",
    "  \n",
    "This is the ‘traditional’ way of thinking about programming: a two-stage process of execution  \n",
    "  \n",
    "1. a **compiler** (_e.g._, gcc) passes through _all code_, checks it (for syntax & structure), then writes out **machine code**  \n",
    "1. the **non-human-readable** machine code can be executed as a ‘program’  \n",
    "  \n",
    "The ‘compilation’ stage allows, amongst other things, the compiler to _optimize_ the execution of the CPU-level instructions with respect to more-or-less detailed knowledge of the processor and memory layout of the computer performing the computations. Note also that once a program has been compiled to be executable, it is no longer human-readable.  \n",
    "  \n",
    "Examples of (important) compiled languages include:  \n",
    "  \n",
    "- Fortran  \n",
    "- Java  \n",
    "- C / C++ / C#  \n",
    "  \n",
    "## Interpreted programs/languages  \n",
    "  \n",
    "These are executed line-by-line (fail-on-error)  \n",
    "  \n",
    "### Javascript  \n",
    "  \n",
    "- used to make webpages interactive and provide online programs, including video games.  \n",
    "  \n",
    "### Matlab  \n",
    "  \n",
    "- GUI by Mathworks (costly license)  \n",
    "- Numerical algorithms public domain  \n",
    "  \n",
    "### Python / IPython  \n",
    "  \n",
    "- command-line interface  \n",
    "- open-source, free software  \n",
    "  \n",
    "### Jupyter notebook  \n",
    "  \n",
    "\"The Jupyter Notebook is an open-source web application that allows you to create and share documents that contain live code, equations, visualizations and explanatory text. Uses include: data cleaning and transformation, numerical simulation, statistical modeling, machine learning and much more.  \n",
    "  \n",
    "The Notebook has support for over 40 programming languages, including those popular in Data Science such as Python, R, Julia and Scala.” ([jupyter.org][1])  \n",
    "  \n",
    "Common to them all is the interactive, _interpreted_ nature.  \n",
    "  \n",
    "## References  \n",
    "  \n",
    "Allen Downey, _How to think like a computer scientist_, 2nd edition, Green Tea Press, 2015. URL:    \n",
    "  \n",
    "Quotes from the book, which may be freely downloaded [here](thinkpython2.com), are used under the terms of the Creative Commons Attribution-NonCommercial 3.0 Unported License, which is available at http://creativecommons.org/licenses/by-nc/3.0/.  \n",
    "  \n",
    "## Exercises  \n",
    "  \n",
    "#### Syntax  \n",
    "  \n",
    "### Syntax  \n",
    "  \n",
    "Try running these code blocks. Some of them have syntax appropriate to the Python programming language, others are invalid; can you predict which is which?"
   ]
  },
  {
   "cell_type": "code",
   "execution_count": null,
   "metadata": {
    "collapsed": true
   },
   "outputs": [],
   "source": [
    "3 + 2  \n",
    "Add together the numbers 3 and 2  \n",
    "sum(3, 2)  # this is tricky, we’ll return to it later  \n",
    "3 + -2  \n",
    "3 + 2 .  \n",
    "3 +* 2  \n",
    "3 ** 2  "
   ]
  },
  {
   "cell_type": "markdown",
   "metadata": {},
   "source": [
    "### Variables  \n",
    "  \n",
    "* In math notation you can multiply `x` and `y` like this: `xy`. What happens if you try that in Python? Why?  \n",
    "* Suppose the cover price of a book is 229 kr, but bookstores get a 40% discount. Shipping costs 49 kr for the first copy and 3 kr for each additional copy. What is the total wholesale cost for 60 copies? _Write a sequence of statements, using variable assignments and expressions/operators, and print the answer._  \n",
    "  \n",
    "### Data types  \n",
    "  \n",
    "### Functions  \n",
    "  \n",
    "**Before running it!**, figure out what the output of this code block will be:"
   ]
  },
  {
   "cell_type": "code",
   "execution_count": null,
   "metadata": {
    "collapsed": true
   },
   "outputs": [],
   "source": [
    "def double_the_input(input):  \n",
    "\treturn(2 * input)  \n",
    "  \n",
    "def add_two_items(item_a, item_b):  \n",
    "\treturn(item_a + item_b)  \n",
    "  \n",
    "a = 4.5  \n",
    "b = 7  \n",
    "  \n",
    "print(add_two_items(double_the_input(a), b)  "
   ]
  },
  {
   "cell_type": "markdown",
   "metadata": {},
   "source": [
    "### Debugging  \n",
    "  \n",
    "#### Debugging errors  \n",
    "  \n",
    "Fix the code below until it runs through without error. Hint: use the `print`-function to inspect the contents of variables. You should be able make the code run even without understanding what it is doing!"
   ]
  },
  {
   "cell_type": "code",
   "execution_count": null,
   "metadata": {
    "collapsed": true
   },
   "outputs": [],
   "source": [
    "from glob import glob  \n",
    "import numpy as np  "
   ]
  },
  {
   "cell_type": "markdown",
   "metadata": {},
   "source": [
    "## Debuggng  \n",
    "  \n",
    "Errors and mistakes inevitably find their way into code. The execution (or compilation) of a program stops at an error, after which it is your job to   \n",
    "  \n",
    "By ‘mistake’, we here refer to something less than an ‘error’, _i.e._, the program may  \n",
    "  \n",
    "## Conditionals and iteration  \n",
    "  \n",
    "See Chapters 5 and 7 in (Downey, 2015)  \n",
    "  \n",
    "## Functions  \n",
    "  \n",
    "\" In the context of programming, a **function** is a named sequence of statements that performs a computation. When you define a function, you specify the name and the sequence of statements. Later, you can “call” the function by name.   \n",
    "  \n",
    "A function call is like a detour in the flow of execution. Instead of going to the next statement, the flow jumps to the body of the function, runs the statements there, and then comes back to pick up where it left off.  \n",
    "  \n",
    "That sounds simple enough, until you remember that one function can call another. While in the middle of one function, the program might have to run the statements in another function. Then, while running that new function, the program might have to run yet another function!  \n",
    "  \n",
    "In summary, when you read a program, you don’t always want to read from top to bottom. Sometimes it makes more sense if you follow the flow of execution.” (Downey, 2015; Chapter 3)  \n",
    "  \n",
    "### Arguments  \n",
    "  \n",
    "### Why functions?  \n",
    "  \n",
    "But is there a deeper point/advantage in using functions instead of just writing out the code you want to have executed? One reason is that: “Creating a new function gives you an opportunity to name a group of statements, which makes your program easier to read and debug. [and] Well-designed functions are often useful for many programs. Once you write [...] one, you can reuse it.” A third example relates to efficiency: \"Functions can make a program smaller by eliminating repetitive code. Later, if you make a change, you only have to make it in one place.” (Downey, 2015)  \n",
    "  \n",
    "### Namespaces  \n",
    "  \n",
    "## Scripts  \n",
    "  \n",
    "When working in a field with computational elements, you are likely to come across the term *script*.  \n",
    "  \n",
    "  \n",
    "[1]: http://jupyter.org"
   ]
  }
 ],
 "metadata": {
  "hide_input": false,
  "kernelspec": {
   "display_name": "Python 3",
   "language": "python",
   "name": "python3"
  },
  "language_info": {
   "codemirror_mode": {
    "name": "ipython",
    "version": 3
   },
   "file_extension": ".py",
   "mimetype": "text/x-python",
   "name": "python",
   "nbconvert_exporter": "python",
   "pygments_lexer": "ipython3",
   "version": "3.6.1"
  }
 },
 "nbformat": 4,
 "nbformat_minor": 2
}
