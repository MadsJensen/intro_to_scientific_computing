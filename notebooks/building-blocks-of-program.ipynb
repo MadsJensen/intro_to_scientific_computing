{
 "cells": [
  {
   "cell_type": "markdown",
   "metadata": {},
   "source": [
    "# Building blocks of a computer program"
   ]
  },
  {
   "cell_type": "markdown",
   "metadata": {},
   "source": [
    "## Conditionals and iteration  \n",
    "  \n",
    "See Chapters 5 and 7 in (Downey, 2015)"
   ]
  },
  {
   "cell_type": "markdown",
   "metadata": {},
   "source": [
    "## Functions  \n",
    "  \n",
    "\"In the context of programming, a **function** is a named sequence of statements that performs a computation. When you define a function, you specify the name and the sequence of statements. Later, you can 'call' the function by name.   \n",
    "  \n",
    "A function call is like a detour in the flow of execution. Instead of going to the next statement, the flow jumps to the body of the function, runs the statements there, and then comes back to pick up where it left off.  \n",
    "  \n",
    "That sounds simple enough, until you remember that one function can call another. While in the middle of one function, the program might have to run the statements in another function. Then, while running that new function, the program might have to run yet another function!  \n",
    "  \n",
    "In summary, when you read a program, you don’t always want to read from top to bottom. Sometimes it makes more sense if you follow the flow of execution.” (Downey, 2015; Chapter 3)  \n",
    "  \n",
    "### Arguments  \n",
    "\n",
    "Some functions just do their 'thing', but most take _input arguments_. These can either be in the form of _parameters_ that modify what the function actually does, and/or in the form of _data to operate on_. (This is merely a conceptual distinction: parameters are also a form of data, of course!).\n",
    "\n",
    "### Why functions?  \n",
    "  \n",
    "But is there a deeper point/advantage in using functions instead of just writing out the code you want to have executed? One reason is that: “Creating a new function gives you an opportunity to name a group of statements, which makes your program easier to read and debug. [and] Well-designed functions are often useful for many programs. Once you write [...] one, you can reuse it.” A third example relates to efficiency: \"Functions can make a program smaller by eliminating repetitive code. Later, if you make a change, you only have to make it in one place.” (Downey, 2015)  \n",
    "  \n",
    "### Defining functions\n",
    "\n",
    "Before a function can be used in a programme, it must be _defined_. In the Python-language, this is achieved using the `def` keyword, arguments in parentheses and a colon (:)\n",
    "\n",
    "```python\n",
    "def a_new_function(param1, param2, meaningful_name=2):\n",
    "    code...\n",
    "    return(return_value)\n",
    "```\n",
    "\n",
    "In another common interpreted language, _Matlab_, the keyword to use is `function`, and the value of the variable `return_value` must be set in the code\n",
    "\n",
    "```Matlab\n",
    "function return_value = a_new_function(param1, param2, param3)\n",
    "    code...\n",
    "```"
   ]
  },
  {
   "cell_type": "markdown",
   "metadata": {},
   "source": [
    "## Debugging  \n",
    "  \n",
    "Errors and mistakes inevitably find their way into code. The execution (or compilation) of a program stops at an error, after which it is your job to fix the code.\n",
    "  \n",
    "By ‘mistake’, we here refer to something less than an ‘error’, _i.e._, the program may run to completion, but the output will be 'off' in some more-or-less obvious fashion. \n",
    "\n",
    "For both errors and mistakes, sorting out where in the code the 'bug' is hiding, often requires _examining the contents_ of a variable: at which stage does the program behave differently from what we expect/intend?\n",
    "\n",
    "Debugging is essentially the act of _stepping through_ each (relevant) line of code, until the culprit is found. Some coding software (_Integrated Development Environment_, IDE) allow you to set a **break point** at a specific line in the code. When the program is run, the interpreter simply _halts_ at the line, and waits for you to continue. Before doing so, you can 'inspect' the contents of variables to identify the problematic spot.\n",
    "\n",
    "The most simple form of debugging, and by far the one used most in 'casual' programming, is **adding print-statements in the code**. See exercises below."
   ]
  },
  {
   "cell_type": "markdown",
   "metadata": {},
   "source": [
    "## Version Control Systems (VCS)\n",
    "\n",
    "Developing programs and analysis pipelines is _iterative_, and sometimes you make mistakes. Using a VCS is the _only_ way to [survive](https://git-scm.com/video/what-is-version-control). The basic idea is:\n",
    "\n",
    "1. Write code\n",
    "2. 'Commit' the changes you make\n",
    "3. Iterate\n",
    "4. In case of troubles at step `N`th iteration, revert back to `N-1`, fix problem, continue\n",
    "\n",
    "At the time of writing, the only VCS in practical use is `git` (with `mercurial` being a closely-related distant second).\n",
    "\n",
    "We do not have time to go into the details of `git`-based version control, but will gladly recommend additional resouces, such as: [Try git in 15 minutes](https://try.github.io/levels/1/challenges/1).\n",
    "\n",
    "### GitHub\n",
    "\n",
    "Most open-source code development is hosted at the [GitHub](https://github.com/) website. GitHub is a place on the internet you can upload your version-controlled code."
   ]
  },
  {
   "cell_type": "markdown",
   "metadata": {},
   "source": [
    "## Exercises"
   ]
  },
  {
   "cell_type": "code",
   "execution_count": null,
   "metadata": {
    "collapsed": true
   },
   "outputs": [],
   "source": []
  },
  {
   "cell_type": "markdown",
   "metadata": {},
   "source": [
    "### Functions  \n",
    "\n",
    "#### Follow the flow of execution\n",
    "\n",
    "**Before running it!**, figure out what the output of this code block will be:"
   ]
  },
  {
   "cell_type": "code",
   "execution_count": 1,
   "metadata": {},
   "outputs": [
    {
     "name": "stdout",
     "output_type": "stream",
     "text": [
      "16.0\n"
     ]
    }
   ],
   "source": [
    "def double_the_input(input):  \n",
    "    return(2 * input)  \n",
    "  \n",
    "def add_two_items(item_a, item_b):  \n",
    "    return(item_a + item_b)\n",
    "  \n",
    "a = 4.5  \n",
    "b = 7  \n",
    "  \n",
    "print(add_two_items(double_the_input(a), b))"
   ]
  },
  {
   "cell_type": "markdown",
   "metadata": {},
   "source": [
    "#### Function arguments\n",
    "\n",
    "Write a function that takes 2 arguments and raises the first input to the power of the second input, _e.g._, $3^{4}$, and `return`s the output. If the user only enter one argument, assume that the power to raise to should be 2 (_i.e._ use a keyword argument with a default value of 2)."
   ]
  },
  {
   "cell_type": "code",
   "execution_count": 9,
   "metadata": {},
   "outputs": [],
   "source": [
    "# define your function here\n"
   ]
  },
  {
   "cell_type": "markdown",
   "metadata": {},
   "source": [
    "Test your function below"
   ]
  },
  {
   "cell_type": "code",
   "execution_count": null,
   "metadata": {},
   "outputs": [],
   "source": []
  },
  {
   "cell_type": "markdown",
   "metadata": {},
   "source": [
    "Run the following cell to check your function! Just write the name of your function on the first line"
   ]
  },
  {
   "cell_type": "code",
   "execution_count": 10,
   "metadata": {},
   "outputs": [],
   "source": [
    "f_to_test =   # write your function name after the = sign\n",
    "assert f_to_test(2) == 4, '2^2 should be 4!'\n",
    "assert f_to_test(3, 2) == 9, '3^2 should be 9!'"
   ]
  },
  {
   "cell_type": "markdown",
   "metadata": {},
   "source": [
    "### Debugging  \n",
    "  \n",
    "#### Debugging errors  \n",
    "  \n",
    "Fix the code below until it runs through without error. Hint: use the `print`-function to inspect the contents of variables. You should be able make the code run even without understanding what it is doing!"
   ]
  },
  {
   "cell_type": "code",
   "execution_count": 1,
   "metadata": {
    "collapsed": true
   },
   "outputs": [],
   "source": [
    "from glob import glob  \n",
    "import numpy as np  "
   ]
  },
  {
   "cell_type": "markdown",
   "metadata": {},
   "source": [
    "## References  \n",
    "  \n",
    "Allen Downey, _How to think like a computer scientist_, 2nd edition, Green Tea Press, 2015. URL:    \n",
    "  \n",
    "Quotes from the book, which may be freely downloaded [here](thinkpython2.com), are used under the terms of the Creative Commons Attribution-NonCommercial 3.0 Unported License, which is available at http://creativecommons.org/licenses/by-nc/3.0/.  "
   ]
  }
 ],
 "metadata": {
  "hide_input": false,
  "kernelspec": {
   "display_name": "Python 3",
   "language": "python",
   "name": "python3"
  },
  "language_info": {
   "codemirror_mode": {
    "name": "ipython",
    "version": 3
   },
   "file_extension": ".py",
   "mimetype": "text/x-python",
   "name": "python",
   "nbconvert_exporter": "python",
   "pygments_lexer": "ipython3",
   "version": "3.6.2"
  }
 },
 "nbformat": 4,
 "nbformat_minor": 2
}
