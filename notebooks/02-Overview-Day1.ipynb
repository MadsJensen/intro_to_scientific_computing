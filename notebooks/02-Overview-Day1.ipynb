{
 "cells": [
  {
   "cell_type": "markdown",
   "metadata": {},
   "source": [
    "# The anatomy of a computer and data\n",
    "\n",
    "## What is 'data'?\n",
    "\n",
    "Conceptually? Operationally?"
   ]
  },
  {
   "cell_type": "markdown",
   "metadata": {},
   "source": [
    "## Data-driven health science\n",
    "\n",
    "What is _data science_? And what does it mean to _drive_ health care/science?\n",
    "\n",
    "### Obtain, Scrub, Explore, Model, and iNterpret&mdash;the OSEMN-model\n",
    "\n",
    "In [A Taxonomy of Data Science](http://www.dataists.com/2010/09/a-taxonomy-of-data-science/), Mason & Wiggins outline the following elements of actually 'doing science' with data:\n",
    "\n",
    "1. Obtain: pointing and clicking does not scale.\n",
    "2. Scrub: the world is a messy place\n",
    "    * a.k.a. '_data munging'_\n",
    "3. Explore: You can see a lot by looking\n",
    "4. Models: always bad, sometimes ugly\n",
    "   * alternatively: \"All models are wrong but some are useful\" [(_George Box_)](https://en.wikipedia.org/wiki/All_models_are_wrong)\n",
    "5. iNterpret: “The purpose of computing is insight, not numbers.”\n",
    "6. (Iterate: see comments to the post)\n",
    "   \n",
    "Each of the 'steps' above require specific skills, some more specialised than others. The present course will lay some of the foundations to actually begin working as a _data scientist_.\n",
    "\n",
    "### Hang on!\n",
    "\n",
    ">I'm not a statistician or a hacker and I don't know what 'munging' is. In fact, I don't give a rat's hiney about what a computer is or how it works, I just want 'The Results', please, so I can do the iNterpretation-bit and become famous!\n",
    "\n",
    "### Motivation for the course\n",
    "\n",
    "The addition of the I(teration)-step to the OSEMN-model above is critical: __not one single analysis pipeline ever created was a linear process from data acquisition to publication!__ Correspondingly, each of the steps leading to any given _'result'_ have direct impact on the possible _interpretations_ one can make.\n",
    "\n",
    "It is therefore imperative that everyone involved in a data science workflow, _perhaps particularly those whose actions potentially have immediate concequences on human lives_, has a conceptual understanding of how results are obtained.\n",
    "\n",
    "* the O- and S-steps entail choices of how to 'pre-process' data, including the choice to _discard_ data due to some (more-or-less _ad hoc_) criteria\n",
    "    * _are we basing our actions on some non-representative subset of data?_\n",
    "* the E-step is often practically difficult and time-consuming\n",
    "    * _why is it difficult?_ (what sort of practical challenges do face when 'computing'?)\n",
    "* the M-step is often 'someone else's expertise'\n",
    "    * _absolutely, but can you really use a tool without understanding how it's built?_\n",
    "    * [\"What I cannot create, I do not understand\" (Richard Feynman)](http://archives-dc.library.caltech.edu/islandora/object/ct1:483)"
   ]
  },
  {
   "cell_type": "markdown",
   "metadata": {},
   "source": [
    "One of the most important points to make related to [this diagram (copyright Drew Conway)](http://drewconway.com/zia/2013/3/26/the-data-science-venn-diagram) is that _Substantive Expertise_, a.k.a. _Domain Knowledge_ is a crucial element of _data science_, without which the 'data' and the 'science' will never meet! Cross-domain communication at the intersection can be improved by elevating everyone's cross-domain understanding. \n",
    "\n",
    "<img src=\"imgs/Data_Science_VD.png\" width=400>"
   ]
  },
  {
   "cell_type": "markdown",
   "metadata": {},
   "source": [
    "## When is data ['BIG'](http://www.bbc.com/news/business-26383058)?\n",
    "\n",
    "A pragmatic definition of 'bigness' of data could be:\n",
    "\n",
    ">If it crashes your computer, or takes a lifetime to process, it's big\n",
    "\n",
    "_Know thyself!_, and [know your computer](what-is-a-computer.ipynb), too.\n",
    "\n",
    "### [1.3 billion NYC taxi trips](https://medium.com/towards-data-science/if-taxi-trips-were-fireflies-1-3-billion-nyc-taxi-trips-plotted-b34e89f96cfa)\n",
    "\n",
    ">The NYC Taxi and Limousine Commission (TLC) has publicly released a dataset of taxi trips from January 2009 — June 2016 with GPS coordinates for starting and endpoints [, as well as fare and tip totals]\n",
    "\n",
    "* \"a moderate 400GB size\"\n",
    "\n",
    "### Not all data is created equal\n",
    "\n",
    "'Bigness' refers not only to the fact that there may be _boatloads_ of data associated with a given context, but also that much of the data produced today is _unstructured_, produced almost automatically by our digital interactions. In the context of health care, Electronic Health Record (EHR; danish \"EPJ\") systems are becoming a reality, with associated new challenges:\n",
    "\n",
    ">Unstructured data is the information that typically requires a human touch to read, capture and interpret properly. It includes machine-written and handwritten information on unstructured paper forms, audio voice dictations, email messages and attachments, and typed transcriptions--to name a few. [(Reference)](http://insights.datamark.net/white-papers/unstructured-data-in-electronic-health-record-systems-challenges-and-solutions)\n",
    "\n",
    "The combination of the volume and unstructured nature of medical data make dealing with it a Big Data problem.\n",
    "\n",
    "### The (dystopian?) Dream\n",
    "\n",
    "Can you be treated based on equations?\n",
    "\n",
    "* [How Big Data Could Transform The Health Care Industry](https://youtu.be/_mXrZEIpNMw)\n",
    "\n",
    "Or would you rather be treated based on recommendations from an AI?\n",
    "\n",
    "* [IBM Watson](https://youtu.be/_Xcmh1LQB9I)"
   ]
  },
  {
   "cell_type": "markdown",
   "metadata": {},
   "source": [
    "## [What is a computer?](what-is-a-computer.ipynb)\n",
    "\n",
    "What is it \"made of\"? How can it play Youtube videos of kittens?"
   ]
  },
  {
   "cell_type": "markdown",
   "metadata": {},
   "source": [
    "## [Files and file systems](files-and-filesystems.ipynb)\n",
    "\n",
    "How is data 'contained', and how can we find it when we need it?\n",
    "\n",
    "## [Software installation](03-Software-installation.ipynb)\n",
    "\n",
    "For now, let's define 'software' as _that which is executed by the hardware of the computer when you are using it_.\n",
    "\n",
    "What's going on at the level of files and file systems when we 'install' software?\n",
    "\n",
    "## [The Command Line Interface (CLI)](Command-line-interface-A.ipynb)\n",
    "\n",
    "Talk to your PC"
   ]
  },
  {
   "cell_type": "markdown",
   "metadata": {},
   "source": [
    "## [Computer programs and data types](computer-programs-and-data-types.ipynb)\n",
    "\n",
    "Computers are _really_ dumb, but they can be _instructed_ (by clever people) to do clever things. We call this \"programming\".\n",
    "\n",
    "Programming is a distinctly different activity from writing in a word processor or entering values into a spreadsheet. Besides the obvious distinction (someone needed to program the applications you use for those tasks), when you are \"using\" a computer, you are operating within the bounds of whatever the program was designed to do (as a counter-example, try adding two values together in Word...). On the contrary, a _programmer_ designs new applications for specific needs.\n",
    "\n",
    "Now \"programmer\" may seem like a mouthful, but for there is no ready-made application for _data-driven health science_! And even within the specialities (_e.g._ genetic sequencing), only in very few cases can you hope to double-click on a data file and have something reasonable happen. Instead, it is up to you as the domain-expert to guide the flow of bits in order to gain insight.\n",
    "\n",
    "Programming is not a monolithic concept, it can mean a bunch of things. In this course we will be dealing with what could be described as _high-level_ programming, which has the characteristic of being quite abstract with respect to the underlying hardware implementing the programs. In other words, we will leave as much as the _low-level_ hardware optimisation to the \"real\" programmers as possible, and instead focus on learning how to join together existing _routines_ for implementing specific tasks.\n",
    "\n",
    "As already mentioned [above](what-is-a-computer.ipynb), this by no means implies that we can treat the computer as a black box! Ultimately, it is up to you to ensure that the operations that you line up are _reasonable_ with respect to the specifications of the computers performing them (especially: CPU time and memory requirements)."
   ]
  }
 ],
 "metadata": {
  "kernelspec": {
   "display_name": "Python 3",
   "language": "python",
   "name": "python3"
  },
  "language_info": {
   "codemirror_mode": {
    "name": "ipython",
    "version": 3
   },
   "file_extension": ".py",
   "mimetype": "text/x-python",
   "name": "python",
   "nbconvert_exporter": "python",
   "pygments_lexer": "ipython3",
   "version": "3.6.2"
  }
 },
 "nbformat": 4,
 "nbformat_minor": 2
}
