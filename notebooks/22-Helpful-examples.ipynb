{
 "cells": [
  {
   "cell_type": "markdown",
   "metadata": {},
   "source": [
    "# Helpful examples\n",
    "\n",
    "These should come in handy when completing the assignment."
   ]
  },
  {
   "cell_type": "markdown",
   "metadata": {},
   "source": [
    "## Test reading a `csv`-file\n",
    "\n",
    "* make a folder in the `notebooks`-directory called: `assignment`\n",
    "* copy the `csv`-file containing your family's birth dates into it"
   ]
  },
  {
   "cell_type": "code",
   "execution_count": 1,
   "metadata": {},
   "outputs": [],
   "source": [
    "# assign the path to the csv-file to the variable 'path_to_csv'\n",
    "path_to_csv = 'assignment/birth.csv'"
   ]
  },
  {
   "cell_type": "code",
   "execution_count": 9,
   "metadata": {},
   "outputs": [],
   "source": [
    "# open the csv-file for reading\n",
    "# fp is a \"file pointer\" to the data payload of the file (text)\n",
    "fp = open(path_to_csv, 'r')"
   ]
  },
  {
   "cell_type": "code",
   "execution_count": 10,
   "metadata": {},
   "outputs": [],
   "source": [
    "# read the contents of the file into a new variable, \n",
    "file_cont = fp.read()\n",
    "\n",
    "# REMEMBER TO CLOSE the file (more critical when writing)\n",
    "fp.close()"
   ]
  },
  {
   "cell_type": "code",
   "execution_count": 12,
   "metadata": {},
   "outputs": [
    {
     "data": {
      "text/plain": [
       "'name,birthdate,birthplace\\nMichael Bailey,1948,Bishop Auckland (UK)\\nPirkko Veijola-Bailey,1953,Oulu (FIN)\\nJennifer Bailey,1981,Helsinki (FIN)\\nAlbert Pallesen,2002,Helsinki (FIN)\\nLinus Pallesen,2006,Aarhus (DK)\\nRosa Pallesen,2008,Aarhus (DK)\\n'"
      ]
     },
     "execution_count": 12,
     "metadata": {},
     "output_type": "execute_result"
    }
   ],
   "source": [
    "# see what we got\n",
    "file_cont"
   ]
  },
  {
   "cell_type": "code",
   "execution_count": 13,
   "metadata": {},
   "outputs": [
    {
     "data": {
      "text/plain": [
       "str"
      ]
     },
     "execution_count": 13,
     "metadata": {},
     "output_type": "execute_result"
    }
   ],
   "source": [
    "type(file_cont)"
   ]
  },
  {
   "cell_type": "markdown",
   "metadata": {},
   "source": [
    "### Read file line-by-line"
   ]
  },
  {
   "cell_type": "code",
   "execution_count": 15,
   "metadata": {},
   "outputs": [],
   "source": [
    "fp = open(path_to_csv, 'r')"
   ]
  },
  {
   "cell_type": "markdown",
   "metadata": {},
   "source": [
    "Exute the following cell repeatedly until you no longer get anything out of the file (Control-Enter will be useful)"
   ]
  },
  {
   "cell_type": "code",
   "execution_count": 27,
   "metadata": {},
   "outputs": [
    {
     "name": "stdout",
     "output_type": "stream",
     "text": [
      "\n"
     ]
    }
   ],
   "source": [
    "line = fp.readline()\n",
    "print(line)"
   ]
  },
  {
   "cell_type": "code",
   "execution_count": 28,
   "metadata": {},
   "outputs": [],
   "source": [
    "fp.close()"
   ]
  },
  {
   "cell_type": "markdown",
   "metadata": {},
   "source": [
    "### Read the file into a list of lines"
   ]
  },
  {
   "cell_type": "code",
   "execution_count": 29,
   "metadata": {},
   "outputs": [],
   "source": [
    "fp = open(path_to_csv, 'r')\n",
    "all_lines = fp.readlines()\n",
    "fp.close()"
   ]
  },
  {
   "cell_type": "code",
   "execution_count": 30,
   "metadata": {},
   "outputs": [
    {
     "data": {
      "text/plain": [
       "list"
      ]
     },
     "execution_count": 30,
     "metadata": {},
     "output_type": "execute_result"
    }
   ],
   "source": [
    "type(all_lines)"
   ]
  },
  {
   "cell_type": "code",
   "execution_count": 37,
   "metadata": {},
   "outputs": [
    {
     "data": {
      "text/plain": [
       "['name,birthdate,birthplace\\n',\n",
       " 'Michael Bailey,1948,Bishop Auckland (UK)\\n',\n",
       " 'Pirkko Veijola-Bailey,1953,Oulu (FIN)\\n',\n",
       " 'Jennifer Bailey,1981,Helsinki (FIN)\\n',\n",
       " 'Albert Pallesen,2002,Helsinki (FIN)\\n',\n",
       " 'Linus Pallesen,2006,Aarhus (DK)\\n',\n",
       " 'Rosa Pallesen,2008,Aarhus (DK)\\n']"
      ]
     },
     "execution_count": 37,
     "metadata": {},
     "output_type": "execute_result"
    }
   ],
   "source": [
    "all_lines  # show them"
   ]
  },
  {
   "cell_type": "code",
   "execution_count": 36,
   "metadata": {},
   "outputs": [
    {
     "data": {
      "text/plain": [
       "str"
      ]
     },
     "execution_count": 36,
     "metadata": {},
     "output_type": "execute_result"
    }
   ],
   "source": [
    "type(all_lines[1])  # what type is the 2nd element of the list?"
   ]
  },
  {
   "cell_type": "code",
   "execution_count": 34,
   "metadata": {},
   "outputs": [
    {
     "data": {
      "text/plain": [
       "'Michael Bailey,1948,Bishop Auckland (UK)\\n'"
      ]
     },
     "execution_count": 34,
     "metadata": {},
     "output_type": "execute_result"
    }
   ],
   "source": [
    "all_lines[1]  # hi Dad!"
   ]
  },
  {
   "cell_type": "markdown",
   "metadata": {},
   "source": [
    "## Split a string at a character\n",
    "\n",
    "Let's make a list of all birth dates. For this, we want to\n",
    "\n",
    "* loop over all lines, _starting from the 2nd line_ (1st is the column names)\n",
    "* split each line on the comma (`,`)\n",
    "    * this creates a list of length 3 for name, date and place\n",
    "* print the 2nd element of the split-list"
   ]
  },
  {
   "cell_type": "code",
   "execution_count": 38,
   "metadata": {},
   "outputs": [
    {
     "data": {
      "text/plain": [
       "['Michael Bailey', '1948', 'Bishop Auckland (UK)\\n']"
      ]
     },
     "execution_count": 38,
     "metadata": {},
     "output_type": "execute_result"
    }
   ],
   "source": [
    "# test the split-method\n",
    "all_lines[1].split(',')"
   ]
  },
  {
   "cell_type": "code",
   "execution_count": 40,
   "metadata": {},
   "outputs": [
    {
     "name": "stdout",
     "output_type": "stream",
     "text": [
      "1948\n",
      "1953\n",
      "1981\n",
      "2002\n",
      "2006\n",
      "2008\n"
     ]
    }
   ],
   "source": [
    "# loop from the 2nd element, to the end\n",
    "# use the 'slice'-notation [1:], meaning \"from index 1 to end\"\n",
    "for li in all_lines[1:]:\n",
    "    split_line = li.split(',')\n",
    "    print(split_line[1])"
   ]
  },
  {
   "cell_type": "markdown",
   "metadata": {},
   "source": [
    "## Strings can be _sliced_: they're _lists of characters_\n",
    "\n",
    "Repeat the above, but now only print the _third and fourth_ digits of the birth year!"
   ]
  },
  {
   "cell_type": "code",
   "execution_count": 41,
   "metadata": {},
   "outputs": [
    {
     "name": "stdout",
     "output_type": "stream",
     "text": [
      "48\n",
      "53\n",
      "81\n",
      "02\n",
      "06\n",
      "08\n"
     ]
    }
   ],
   "source": [
    "for li in all_lines[1:]:\n",
    "    split_line = li.split(',')\n",
    "    print(split_line[1][2:])  # NB: [1][2:]"
   ]
  },
  {
   "cell_type": "markdown",
   "metadata": {},
   "source": [
    "Since `split_line[1]` is a string, `split_line[1][2:]` reads:\n",
    "\n",
    ">show the characters from the third element of the string `split_line[1]` to the end"
   ]
  }
 ],
 "metadata": {
  "kernelspec": {
   "display_name": "Python 3",
   "language": "python",
   "name": "python3"
  },
  "language_info": {
   "codemirror_mode": {
    "name": "ipython",
    "version": 3
   },
   "file_extension": ".py",
   "mimetype": "text/x-python",
   "name": "python",
   "nbconvert_exporter": "python",
   "pygments_lexer": "ipython3",
   "version": "3.6.2"
  }
 },
 "nbformat": 4,
 "nbformat_minor": 2
}
