{
 "cells": [
  {
   "cell_type": "markdown",
   "metadata": {},
   "source": [
    "# Helpful examples\n",
    "\n",
    "These should come in handy when completing the assignment."
   ]
  },
  {
   "cell_type": "markdown",
   "metadata": {},
   "source": [
    "## Test reading a `csv`-file\n",
    "\n",
    "* make a folder in the `notebooks`-directory called: `assignment`\n",
    "* copy the `csv`-file containing your family's birth dates into it"
   ]
  },
  {
   "cell_type": "code",
   "execution_count": null,
   "metadata": {},
   "outputs": [],
   "source": [
    "# assign the path to the csv-file to the variable 'path_to_csv'\n",
    "path_to_csv = 'assignment/birth.csv'"
   ]
  },
  {
   "cell_type": "code",
   "execution_count": null,
   "metadata": {},
   "outputs": [],
   "source": [
    "# open the csv-file for reading\n",
    "# fp is a \"file pointer\" to the data payload of the file (text)\n",
    "fp = open(path_to_csv, 'r')"
   ]
  },
  {
   "cell_type": "code",
   "execution_count": null,
   "metadata": {},
   "outputs": [],
   "source": [
    "# read the contents of the file into a new variable, \n",
    "file_cont = fp.read()\n",
    "\n",
    "# REMEMBER TO CLOSE the file (more critical when writing)\n",
    "fp.close()"
   ]
  },
  {
   "cell_type": "code",
   "execution_count": null,
   "metadata": {},
   "outputs": [],
   "source": [
    "# see what we got\n",
    "file_cont"
   ]
  },
  {
   "cell_type": "code",
   "execution_count": null,
   "metadata": {},
   "outputs": [],
   "source": [
    "type(file_cont)"
   ]
  },
  {
   "cell_type": "markdown",
   "metadata": {},
   "source": [
    "### Read file line-by-line"
   ]
  },
  {
   "cell_type": "code",
   "execution_count": null,
   "metadata": {},
   "outputs": [],
   "source": [
    "fp = open(path_to_csv, 'r')"
   ]
  },
  {
   "cell_type": "markdown",
   "metadata": {},
   "source": [
    "Exute the following cell repeatedly until you no longer get anything out of the file (Control-Enter will be useful)"
   ]
  },
  {
   "cell_type": "code",
   "execution_count": null,
   "metadata": {},
   "outputs": [],
   "source": [
    "line = fp.readline()\n",
    "print(line)"
   ]
  },
  {
   "cell_type": "code",
   "execution_count": null,
   "metadata": {},
   "outputs": [],
   "source": [
    "fp.close()"
   ]
  },
  {
   "cell_type": "markdown",
   "metadata": {},
   "source": [
    "### Read the file into a list of lines"
   ]
  },
  {
   "cell_type": "code",
   "execution_count": null,
   "metadata": {},
   "outputs": [],
   "source": [
    "fp = open(path_to_csv, 'r')\n",
    "all_lines = fp.readlines()\n",
    "fp.close()"
   ]
  },
  {
   "cell_type": "code",
   "execution_count": null,
   "metadata": {},
   "outputs": [],
   "source": [
    "type(all_lines)"
   ]
  },
  {
   "cell_type": "code",
   "execution_count": null,
   "metadata": {},
   "outputs": [],
   "source": [
    "all_lines  # show them"
   ]
  },
  {
   "cell_type": "code",
   "execution_count": null,
   "metadata": {},
   "outputs": [],
   "source": [
    "type(all_lines[1])  # what type is the 2nd element of the list?"
   ]
  },
  {
   "cell_type": "code",
   "execution_count": null,
   "metadata": {},
   "outputs": [],
   "source": [
    "all_lines[1]  # hi Dad!"
   ]
  },
  {
   "cell_type": "markdown",
   "metadata": {},
   "source": [
    "## Split a string at a character\n",
    "\n",
    "Let's make a list of all birth dates. For this, we want to\n",
    "\n",
    "* loop over all lines, _starting from the 2nd line_ (1st is the column names)\n",
    "* split each line on the comma (`,`)\n",
    "    * this creates a list of length 3 for name, date and place\n",
    "* print the 2nd element of the split-list"
   ]
  },
  {
   "cell_type": "code",
   "execution_count": null,
   "metadata": {},
   "outputs": [],
   "source": [
    "# test the split-method\n",
    "all_lines[1].split(',')"
   ]
  },
  {
   "cell_type": "code",
   "execution_count": null,
   "metadata": {},
   "outputs": [],
   "source": [
    "# loop from the 2nd element, to the end\n",
    "# use the 'slice'-notation [1:], meaning \"from index 1 to end\"\n",
    "for li in all_lines[1:]:\n",
    "    split_line = li.split(',')\n",
    "    print(split_line[1])"
   ]
  },
  {
   "cell_type": "markdown",
   "metadata": {},
   "source": [
    "## Strings can be _sliced_: they're _lists of characters_\n",
    "\n",
    "Repeat the above, but now only print the _third and fourth_ digits of the birth year!"
   ]
  },
  {
   "cell_type": "code",
   "execution_count": null,
   "metadata": {},
   "outputs": [],
   "source": [
    "for li in all_lines[1:]:\n",
    "    split_line = li.split(',')\n",
    "    print(split_line[1][2:])  # NB: [1][2:]"
   ]
  },
  {
   "cell_type": "markdown",
   "metadata": {},
   "source": [
    "Since `split_line[1]` is a string, `split_line[1][2:]` reads:\n",
    "\n",
    ">show the characters from the third element of the string `split_line[1]` to the end"
   ]
  },
  {
   "cell_type": "markdown",
   "metadata": {},
   "source": [
    "## Lists can be _appended_ to\n",
    "\n",
    "Starting with a list of values, add a new item (to the end) using the `.append`-method:"
   ]
  },
  {
   "cell_type": "code",
   "execution_count": null,
   "metadata": {},
   "outputs": [],
   "source": [
    "my_list = ['apple', 'orange']\n",
    "print('My list is', len(my_list), 'elements long.')\n",
    "\n",
    "my_list.append('banana')\n",
    "print('My list is', len(my_list), 'elements long.')\n",
    "print(my_list)"
   ]
  },
  {
   "cell_type": "markdown",
   "metadata": {},
   "source": [
    "Often it's useful to start with an _empty list_ and append to it:"
   ]
  },
  {
   "cell_type": "code",
   "execution_count": null,
   "metadata": {},
   "outputs": [],
   "source": [
    "new_list = []  # an empty list: nothing between the hard brackets\n",
    "print('Before append:', new_list)\n",
    "new_list.append(42)\n",
    "print('After append:', new_list)"
   ]
  },
  {
   "cell_type": "markdown",
   "metadata": {},
   "source": [
    "## Is `x` in a list? Use the `in`-operator\n",
    "\n",
    "In Python, we have a handy boolean operator for finding out whether an item exists in a list:"
   ]
  },
  {
   "cell_type": "code",
   "execution_count": null,
   "metadata": {},
   "outputs": [],
   "source": [
    "print(my_list)  # ['apple', 'orange', 'banana']\n",
    "print('orange' in my_list)\n",
    "print('kiwi' in my_list)\n",
    "print('Orange' in my_list)  # case-sensitive!"
   ]
  },
  {
   "cell_type": "markdown",
   "metadata": {},
   "source": []
  }
 ],
 "metadata": {
  "kernelspec": {
   "display_name": "Python 3",
   "language": "python",
   "name": "python3"
  },
  "language_info": {
   "codemirror_mode": {
    "name": "ipython",
    "version": 3
   },
   "file_extension": ".py",
   "mimetype": "text/x-python",
   "name": "python",
   "nbconvert_exporter": "python",
   "pygments_lexer": "ipython3",
   "version": "3.6.2"
  }
 },
 "nbformat": 4,
 "nbformat_minor": 2
}
