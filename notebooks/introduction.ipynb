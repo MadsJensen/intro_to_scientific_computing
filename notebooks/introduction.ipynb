{
 "cells": [
  {
   "cell_type": "markdown",
   "metadata": {},
   "source": [
    "# Foundations of data-driven health science"
   ]
  },
  {
   "cell_type": "markdown",
   "metadata": {},
   "source": [
    "## Intro\n",
    "\n",
    "Special issue of MIT Technology Review on [Data-Driven Health Care](https://www.technologyreview.com/business-report/data-driven-health-care/)\n",
    "\n",
    "[Can Technology Fix Medicine?](https://www.technologyreview.com/s/529011/can-technology-fix-medicine/)\n"
   ]
  },
  {
   "cell_type": "markdown",
   "metadata": {},
   "source": [
    "## The anatomy of a computer and data\n",
    "\n",
    "### [What is a computer?](what-is-a-computer.ipynb)\n",
    "\n",
    "What is it \"made of\"? How can it play Youtube videos of kittens?\n",
    "\n",
    "### [Files and file systems]()\n",
    "\n",
    "Incl. network file systems\n",
    "\n",
    "### [Computer programs and data types](computer-programs-and-data-types.ipynb)\n",
    "\n",
    "Computers are _really_ dumb, but they can be _instructed_ (by clever people) to do clever things. We call this \"programming\"."
   ]
  },
  {
   "cell_type": "markdown",
   "metadata": {},
   "source": [
    "## The anatomy and building blocks of a computer program\n",
    "\n",
    "We already touched upon the basic DNA of a program, and how this relates to the hardware it runs on.\n",
    "\n",
    "* basic data types\n",
    "    - `int`, `float`, `string`, `boolean`\n",
    "* string manipulation\n",
    "    - substring match (logfile from subjid)\n",
    "    - `os.path.join`\n",
    "    - split string (get 0001_ABC from file name)\n",
    "    - get STIM value: **is it a letter or a digit?**\n",
    "       - `'a' in string.ascii_letters` (generally in Python: `element in list` returns Boolean)\n",
    "    - get RESP value: **does it match?**\n",
    "* for loop\n",
    "    - iterate over various `list`s\n",
    "* conditionals\n",
    "    - _e.g._, `if stim_val == 'letter' and resp_val == 1: answer = True; else answer = False`, _etc._\n",
    "* read/write textual files (in Python)\n",
    "    - don't use `with open() as fp:`-idiom, rather simple procedural approach (like one would in Matlab)\n",
    "    - match starting hash (`#`) for comments\n",
    "    - newline-character (`\\n`)!!\n",
    "* functions\n",
    "    - previous exercise: write `find_file_matching_wildcard` ([see this notebook](Z1-Outline-of-topics.ipynb)), then use it here!\n",
    "        * `glob` folder contents into `list` object\n",
    "    - parse single log file & calculate summary stats\n"
   ]
  },
  {
   "cell_type": "code",
   "execution_count": null,
   "metadata": {},
   "outputs": [],
   "source": []
  }
 ],
 "metadata": {
  "kernelspec": {
   "display_name": "Python 3",
   "language": "python",
   "name": "python3"
  },
  "language_info": {
   "codemirror_mode": {
    "name": "ipython",
    "version": 3
   },
   "file_extension": ".py",
   "mimetype": "text/x-python",
   "name": "python",
   "nbconvert_exporter": "python",
   "pygments_lexer": "ipython3",
   "version": "3.6.1"
  }
 },
 "nbformat": 4,
 "nbformat_minor": 2
}
