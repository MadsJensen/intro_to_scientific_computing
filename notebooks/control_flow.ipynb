{
 "cells": [
  {
   "cell_type": "markdown",
   "metadata": {},
   "source": [
    "# Control flow\n",
    "In a nutshell: Allow for a control over a computer program. \n",
    "\n",
    "## Types of control \n",
    "\n",
    "* If/else statements\n",
    "* Loops \n",
    "* Boolean statements\n",
    "* Logical statements"
   ]
  },
  {
   "cell_type": "markdown",
   "metadata": {},
   "source": [
    "\n",
    "# The anatomy of if/else statements\n",
    "\n",
    "1. Statement to be evaluated\n",
    "2. Statement of what will happen if (1) is true\n",
    "3. Statement of what will happen if (1) is not true\n",
    "\n",
    "### Example\n",
    "*If* the last digit of a social security number is even then subject is female, *else* the subject is male\n",
    "\n",
    "```python\n",
    "social_security_number = \"123456-1234\"\n",
    "if (social_security_number[9] % 2 == 0):\n",
    "    print(\"subject is female\")\n",
    "else:\n",
    "    print(\"subject is female\")\n",
    "```\n",
    "\n"
   ]
  },
  {
   "cell_type": "markdown",
   "metadata": {},
   "source": [
    "## Exercises: if/else statements\n",
    "\n",
    "* Write a python if/else that evaluate if a number is even or odd and print \n",
    "    - try different numbers and different of numbers of digits in the number.\n",
    "* Extend the if/else statement to *print* if the person is older or younger that 25 years old \n"
   ]
  },
  {
   "cell_type": "code",
   "execution_count": null,
   "metadata": {},
   "outputs": [],
   "source": [
    "# code goes here\n"
   ]
  },
  {
   "cell_type": "markdown",
   "metadata": {},
   "source": [
    "# Boolean expressions\n",
    "\n",
    "* x != y # x is not equal to y\n",
    "* x > y # x is greater than y\n",
    "* x < y # x is less than y\n",
    "* x >= y # x is greater than or equal to y\n",
    "* x <= y # x is less than or equal to y"
   ]
  },
  {
   "cell_type": "markdown",
   "metadata": {},
   "source": [
    "# Logical operators\n",
    "\n",
    "* and\n",
    "* or \n",
    "* not"
   ]
  },
  {
   "cell_type": "markdown",
   "metadata": {},
   "source": [
    "# The anatomy of a loop\n",
    "\n",
    "* Statement to be evaluated\n",
    "* *Counter*\n",
    "* Code to be executed (code block)"
   ]
  },
  {
   "cell_type": "markdown",
   "metadata": {},
   "source": [
    "![while loop](imgs/while-loop-if-else-even-vs-odd-animation-how-it-works.gif)"
   ]
  },
  {
   "cell_type": "markdown",
   "metadata": {},
   "source": [
    "## While loop example\n",
    "\n",
    "A while loop repeats until a condition is true or false\n",
    "\n",
    "```python\n",
    "n = 10\n",
    "counter = 1\n",
    "while counter < n:\n",
    "    print(counter)\n",
    "    counter += 1\n",
    "```"
   ]
  },
  {
   "cell_type": "markdown",
   "metadata": {},
   "source": [
    "### Exercises: while loops\n",
    "\n",
    "* Write a *while loop* that keeps feeding the panda until it is full.\n",
    "    - Use the panda code given below.\n",
    "    - add a counter to know how many times the pandas is fed.\n",
    "* Write a *while loop* that goes through the **Insert name here** data and adds the last digit to a variable."
   ]
  },
  {
   "cell_type": "code",
   "execution_count": null,
   "metadata": {},
   "outputs": [],
   "source": [
    "# code goes here."
   ]
  },
  {
   "cell_type": "markdown",
   "metadata": {},
   "source": [
    "## For loop example\n",
    "\n",
    "A for loop repeats a block of code a fixed amount of times."
   ]
  },
  {
   "cell_type": "code",
   "execution_count": 1,
   "metadata": {},
   "outputs": [
    {
     "name": "stdout",
     "output_type": "stream",
     "text": [
      "0\n",
      "1\n",
      "2\n",
      "3\n",
      "4\n",
      "5\n",
      "6\n",
      "7\n",
      "8\n",
      "9\n"
     ]
    }
   ],
   "source": [
    "n = 10\n",
    "i = 1\n",
    "for i in range(n):  # *i* = counter, *range(n)* the sequence\n",
    "    print(i)\n",
    "    i += 1\n",
    "    "
   ]
  },
  {
   "cell_type": "code",
   "execution_count": null,
   "metadata": {},
   "outputs": [],
   "source": []
  }
 ],
 "metadata": {
  "kernelspec": {
   "display_name": "Python 3",
   "language": "python",
   "name": "python3"
  },
  "language_info": {
   "codemirror_mode": {
    "name": "ipython",
    "version": 3
   },
   "file_extension": ".py",
   "mimetype": "text/x-python",
   "name": "python",
   "nbconvert_exporter": "python",
   "pygments_lexer": "ipython3",
   "version": "3.6.2"
  }
 },
 "nbformat": 4,
 "nbformat_minor": 2
}
