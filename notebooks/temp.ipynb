{
 "cells": [
  {
   "cell_type": "markdown",
   "metadata": {},
   "source": [
    "# Control flow\n",
    "In a nutshell: Allow for a control over a computer program. \n",
    "\n",
    "## Types of control \n",
    "\n",
    "* If/else statements\n",
    "* Loops \n",
    "* Boolean statements\n",
    "* Logical statements"
   ]
  },
  {
   "cell_type": "markdown",
   "metadata": {},
   "source": [
    "\n",
    "# The anatomy of if/else statements\n",
    "\n",
    "1. Statement to be evaluated\n",
    "2. Statement of what will happen if (1) is true\n",
    "3. Statement of what will happen if (1) is not true\n",
    "\n",
    "### Example\n",
    "*If* the last digit of a social security number is even then subject is female, *else* the subject is male\n",
    "\n",
    "```python\n",
    "social_security_number = \"123456-1234\"\n",
    "if (int(social_security_number[-1]) % 2 == 0):\n",
    "    print(\"subject is female\")\n",
    "else:\n",
    "    print(\"subject is male\")\n",
    "```\n",
    "\n"
   ]
  },
  {
   "cell_type": "code",
   "execution_count": 1,
   "metadata": {},
   "outputs": [
    {
     "data": {
      "text/plain": [
       "1"
      ]
     },
     "execution_count": 1,
     "metadata": {},
     "output_type": "execute_result"
    }
   ],
   "source": [
    "1 % 2"
   ]
  },
  {
   "cell_type": "markdown",
   "metadata": {},
   "source": [
    "## Exercises: if/else statements\n",
    "\n",
    "* Write a python if/else that evaluate if a number is even or odd and print \n",
    "    - try different numbers and different of numbers of digits in the number.\n",
    "* Extend the if/else statement to *print* if the person is older or younger that 25 years old \n"
   ]
  },
  {
   "cell_type": "code",
   "execution_count": null,
   "metadata": {},
   "outputs": [],
   "source": [
    "# code goes here\n"
   ]
  },
  {
   "cell_type": "markdown",
   "metadata": {},
   "source": [
    "# Boolean expressions\n",
    "\n",
    "* x != y # x is not equal to y\n",
    "* x > y # x is greater than y\n",
    "* x < y # x is less than y\n",
    "* x >= y # x is greater than or equal to y\n",
    "* x <= y # x is less than or equal to y"
   ]
  },
  {
   "cell_type": "markdown",
   "metadata": {},
   "source": [
    "# Logical operators\n",
    "\n",
    "* and\n",
    "* or \n",
    "* not"
   ]
  },
  {
   "cell_type": "markdown",
   "metadata": {},
   "source": [
    "# The anatomy of a loop\n",
    "\n",
    "* Statement to be evaluated\n",
    "* *Counter*\n",
    "* Code to be executed (code block)"
   ]
  },
  {
   "cell_type": "markdown",
   "metadata": {},
   "source": [
    "![while loop](./imgs/while-loop-if-else-even-vs-odd-animation-how-it-works.gif)"
   ]
  },
  {
   "cell_type": "markdown",
   "metadata": {},
   "source": [
    "## While loop example\n",
    "\n",
    "A while loop repeats until a condition is true or false\n",
    "\n",
    "```python\n",
    "n = 10\n",
    "counter = 1\n",
    "while counter < n:\n",
    "    print(counter)\n",
    "    counter += 1\n",
    "```"
   ]
  },
  {
   "cell_type": "markdown",
   "metadata": {},
   "source": [
    "### Exercises: while loops\n",
    "\n",
    "1. Write a *while loop* that keeps until after a random number of occurences.\n",
    "    - add a counter to know how many times it ran.\n",
    "2. Write a *while loop* that goes through the data generated below and adds one to the integer and assign it to a new variable."
   ]
  },
  {
   "cell_type": "code",
   "execution_count": null,
   "metadata": {},
   "outputs": [],
   "source": [
    "# code for 1\n",
    "\n",
    "import numpy as np\n",
    "random_number = np.random.randint(35, 76, 1)  \n",
    "\n",
    "# put your code below here\n",
    "\n"
   ]
  },
  {
   "cell_type": "code",
   "execution_count": null,
   "metadata": {},
   "outputs": [],
   "source": [
    "# code for 2\n",
    "\n",
    "import numpy as np\n",
    "data = np.random.randint(0, 10, 100)  # generate 100 integers between 0 & 10 (both included)\n",
    "\n",
    "# put your code below here\n"
   ]
  },
  {
   "cell_type": "code",
   "execution_count": null,
   "metadata": {},
   "outputs": [],
   "source": [
    "# Below is function, we get to them soon\n",
    "# Remember to change the last parameter of the \"check_while_loop\"\n",
    "def check_while_loop(orignial_data, new_data):\n",
    "    tmp = new_data - orignial_data\n",
    "    if tmp.max() != 1:\n",
    "        print(\"something went wrong\")\n",
    "    else:\n",
    "        print(\"success!\")\n",
    "        \n",
    "check_while_loop(data, your_data_here)"
   ]
  },
  {
   "cell_type": "markdown",
   "metadata": {},
   "source": [
    "## For loop example\n",
    "\n",
    "A for loop repeats a block of code a fixed amount of times."
   ]
  },
  {
   "cell_type": "code",
   "execution_count": 2,
   "metadata": {},
   "outputs": [
    {
     "name": "stdout",
     "output_type": "stream",
     "text": [
      "0\n",
      "1\n",
      "2\n",
      "3\n",
      "4\n",
      "5\n",
      "6\n",
      "7\n",
      "8\n",
      "9\n"
     ]
    }
   ],
   "source": [
    "n = 10\n",
    "for i in range(n):  # *i* = counter, *range(n)* the sequence\n",
    "    print(i)\n",
    "    "
   ]
  },
  {
   "cell_type": "markdown",
   "metadata": {},
   "source": [
    "### Exercises: for loops\n",
    "1. Write a *for loop* that keeps running until after a random number of occurences.\n",
    "    - add a counter to know how many times it ran.\n",
    "2. Write a *for loop* that goes through the data generated below and adds one to the integer and assign it to a new variable.\n"
   ]
  },
  {
   "cell_type": "code",
   "execution_count": null,
   "metadata": {},
   "outputs": [],
   "source": [
    "# code for 1\n",
    "\n",
    "import numpy as np\n",
    "random_number = np.random.randint(35, 76, 1)  \n",
    "\n",
    "# put your code below here\n",
    "\n"
   ]
  },
  {
   "cell_type": "code",
   "execution_count": null,
   "metadata": {},
   "outputs": [],
   "source": [
    "# code for 2\n",
    "\n",
    "import numpy as np\n",
    "data = np.random.randint(0, 10, 100)  # generate 100 integers between 0 & 10 (both included)\n",
    "\n",
    "# put your code below here\n"
   ]
  },
  {
   "cell_type": "code",
   "execution_count": null,
   "metadata": {},
   "outputs": [],
   "source": [
    "# Remember to change the last parameter of the \"check_for_loop\"\n",
    "def check_for_loop(orignial_data, new_data):\n",
    "    tmp = new_data - orignial_data\n",
    "    if tmp.max() != 1:\n",
    "        print(\"something went wrong\")\n",
    "    else:\n",
    "        print(\"success!\")\n",
    "        \n",
    "check_for_loop(data, your_data_here)"
   ]
  }
 ],
 "metadata": {
  "kernelspec": {
   "display_name": "Python 3",
   "language": "python",
   "name": "python3"
  },
  "language_info": {
   "codemirror_mode": {
    "name": "ipython",
    "version": 3
   },
   "file_extension": ".py",
   "mimetype": "text/x-python",
   "name": "python",
   "nbconvert_exporter": "python",
   "pygments_lexer": "ipython3",
   "version": "3.6.2"
  }
 },
 "nbformat": 4,
 "nbformat_minor": 2
}
