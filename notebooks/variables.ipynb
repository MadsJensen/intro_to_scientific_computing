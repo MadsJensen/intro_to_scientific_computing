{
 "cells": [
  {
   "cell_type": "markdown",
   "metadata": {},
   "source": [
    "# Variables"
   ]
  },
  {
   "cell_type": "markdown",
   "metadata": {},
   "source": [
    "* What is a variable? \n",
    "* What is the use of variable?\n",
    "\n",
    "\n",
    "## What is a variable? \n",
    "From Wikipedia:\n",
    "> In computer programming, a variable or scalar is a storage location paired with an associated symbolic name (an identifier), which contains some known or unknown quantity of information referred to as a value. The variable name is the usual way to reference the stored value; this separation of name and content allows the name to be used independently of the exact information it represents. The identifier in computer source code can be bound to a value during run time, and the value of the variable may thus change during the course of program execution.\n",
    "\n",
    "> [Wikipedia: Variable_(computer_science)](https://en.wikipedia.org/wiki/Variable_\\(computer_science%29)\n",
    "\n",
    "From Think python (Downey 2015, 2nd Edition):\n",
    "> **variable:** A name that refers to a value.\n",
    "\n",
    "\n",
    "## The use of variables\n",
    "\n",
    "Variables are placeholders.\n",
    "\n",
    "![utils](./imgs/utils_variables.jpg)\n",
    "\n",
    "## Common variable types:\n",
    "\n",
    "* Boolean (true or false) \n",
    "* String (texts)\n",
    "* Integer\n",
    "* Float\n",
    "\n",
    "\n"
   ]
  },
  {
   "cell_type": "markdown",
   "metadata": {},
   "source": [
    "## Exercise\n",
    "\n",
    "* Name some of the variables we have already seen:\n",
    "    - ???"
   ]
  },
  {
   "cell_type": "markdown",
   "metadata": {},
   "source": [
    "### Answers:\n",
    "\n",
    "\n"
   ]
  },
  {
   "cell_type": "markdown",
   "metadata": {},
   "source": [
    "### The use of Variables\n",
    "\n",
    "* Harddrive -> memory \n",
    "    - Anything in memory is \"in a varible\"\n",
    "* Memory -> harddrive\n",
    "\n"
   ]
  },
  {
   "cell_type": "markdown",
   "metadata": {},
   "source": [
    "# Variable names: \n",
    "### The Rules (for python, varies from language to language)\n",
    "\n",
    "* Variables names must start with a letter or an underscore, such as:\n",
    "    - _underscore\n",
    "    - underscore_\n",
    "* The remainder of your variable name may consist of letters, numbers and underscores.\n",
    "    * password1\n",
    "    * n00b\n",
    "    * un_der_scores\n",
    "* Names are case sensitive.\n",
    "    * case_sensitive,\n",
    "    * CASE_SENSITIVE,\n",
    "\n",
    "# Variable names: The Conventions\n",
    "\n",
    " * Readability is very important. Which of the following is easiest to read? I’m hoping you’ll say the first example.\n",
    "    * python_puppet\n",
    "    * pythonpuppet \n",
    "    * pythonPuppet\n",
    "* Descriptive names are very useful.\n",
    "    * total_bad_puns\n",
    "    * super_bad\n",
    "\n",
    "\n",
    "Avoid using the lowercase letter ‘l’, uppercase ‘O’, and uppercase ‘I’. Why? Because the l and the I look a lot like each other and the number 1. And O looks a lot like 0."
   ]
  },
  {
   "cell_type": "markdown",
   "metadata": {},
   "source": [
    "## Exercise:\n",
    "\n",
    "* Imagine you have a dataset that should be loaded into memory. It has information on *participant name*, *test day*, *gender*, *test type*, and *test result*. How would you:\n",
    "\n",
    "  * name the variebles in memory?\n",
    "  * What type would they be?\n",
    "  * and why?"
   ]
  },
  {
   "cell_type": "markdown",
   "metadata": {},
   "source": [
    "# Code examples\n",
    "\n",
    "1. make a variable called \"foo\" and assign it \"2\"\n",
    "2. make a variable called \"bar and assign \"foo\" to it (notice the \" before and after).\n",
    "3. add foo (the variable) to bar (the variable), what happens?\n",
    "\n",
    "4. make a variable called \n",
    "5. how to find out what variable type a given variable is? \n",
    "    "
   ]
  },
  {
   "cell_type": "markdown",
   "metadata": {},
   "source": [
    "# Manipulating variables\n",
    "\n",
    "The main objective of variables is that they cana be manipulated, i.e. change \n",
    "\n",
    "Typical manipulations:\n",
    "\n",
    "* addition\n",
    "* subtraction\n",
    "* multiplication \n",
    "* division"
   ]
  },
  {
   "cell_type": "markdown",
   "metadata": {},
   "source": [
    "## Excerises\n",
    "\n",
    "1. Code the riddle from above \n",
    "2. set **a** equal to 2, **b** equal 5\n",
    "    1. add **a** and **b**\n",
    "    2. multiply **a** by **b**\n",
    "    3. devide **b** by **a**\n",
    "    \n",
    "    \n",
    "3. Write a sequencs of more then 10 numbers, loop over the sequence and if it is a odd number add it to a summary variable, and if it is even subtract from the commen variable."
   ]
  },
  {
   "cell_type": "code",
   "execution_count": null,
   "metadata": {},
   "outputs": [],
   "source": [
    "# code goes here\n"
   ]
  },
  {
   "cell_type": "markdown",
   "metadata": {},
   "source": [
    "# Lists\n",
    "\n",
    "List are variables that hold multiple values, e.g. kicthen utilities = pot, pan, knives"
   ]
  },
  {
   "cell_type": "code",
   "execution_count": null,
   "metadata": {},
   "outputs": [],
   "source": [
    "kicthen_utilities = [\"pot\", \"pan\", \"knives\", \"forks\"]  # Notice the hard brackets\n",
    "print(kicthen_utilities[0]) # 0 for the first entry, use 1 or 2 for the other entries."
   ]
  },
  {
   "cell_type": "code",
   "execution_count": null,
   "metadata": {},
   "outputs": [],
   "source": [
    "List can be \"sliced\", i.e. take a some of the entries"
   ]
  },
  {
   "cell_type": "code",
   "execution_count": null,
   "metadata": {},
   "outputs": [],
   "source": [
    "kicthen_utilities = [\"pot\", \"pan\", \"knives\", \"forks\"]  # Notice the hard brackets\n",
    "print(kicthen_utilities[1:3]) # 0 for the first entry, use 1 or 2 for the other entries."
   ]
  },
  {
   "cell_type": "markdown",
   "metadata": {},
   "source": [
    "List can be mixed of different variable types, "
   ]
  },
  {
   "cell_type": "code",
   "execution_count": null,
   "metadata": {},
   "outputs": [],
   "source": [
    "mixed_list = [\"pot\", 2, \"knives\", 3, \"pan\"]\n",
    "print(mixed_list)"
   ]
  },
  {
   "cell_type": "markdown",
   "metadata": {},
   "source": [
    "## Excercises \n",
    "* Make a list of ten subject names and print one of them.\n",
    "* Change the subject you print.\n",
    "* Print several subjects at a time, i.e. slice"
   ]
  },
  {
   "cell_type": "markdown",
   "metadata": {},
   "source": [
    "# Multidimensional list\n",
    "\n",
    "Often sorting data in one dimension is not sufficient. \n",
    "\n"
   ]
  },
  {
   "cell_type": "code",
   "execution_count": null,
   "metadata": {},
   "outputs": [],
   "source": [
    "abc = [[\"a\", \"b\", \"c\"], [\"d\", \"e\", \"f\"]]\n",
    "\n",
    "print(\"abc is\", len(abc), \"long\")\n",
    "print(\"entries in the first list is\", len(abc[0]), \"long\")\n",
    "\n",
    "ABC = [[[\"A\", \"a\"], [\"B\", \"b\"], [\"C\", \"c\"]], [[\"D\", \"d\"], [\"E\", \"e\"], [\"F\"\"f\"]]]\n",
    "\n",
    "print(\"ABC is\", len(ABC), \"long\")\n",
    "print(\"entries in the first list is\", len(ABC[0]), \"long\")\n",
    "print(len(ABC[0][1]))"
   ]
  },
  {
   "cell_type": "code",
   "execution_count": null,
   "metadata": {},
   "outputs": [],
   "source": [
    "import numpy as np\n",
    "\n",
    "data = np.random.rand(10,10)\n",
    "\n",
    "print(data.shape)\n",
    "print(data)\n",
    "print(data[4, 2])\n"
   ]
  },
  {
   "cell_type": "code",
   "execution_count": null,
   "metadata": {},
   "outputs": [],
   "source": []
  }
 ],
 "metadata": {
  "kernelspec": {
   "display_name": "Python 3",
   "language": "python",
   "name": "python3"
  },
  "language_info": {
   "codemirror_mode": {
    "name": "ipython",
    "version": 3
   },
   "file_extension": ".py",
   "mimetype": "text/x-python",
   "name": "python",
   "nbconvert_exporter": "python",
   "pygments_lexer": "ipython3",
   "version": "3.6.2"
  }
 },
 "nbformat": 4,
 "nbformat_minor": 2
}
