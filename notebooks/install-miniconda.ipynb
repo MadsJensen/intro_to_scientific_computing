{
 "cells": [
  {
   "cell_type": "markdown",
   "metadata": {},
   "source": [
    "# Linux Mint (via VirtualBox)\n",
    "\n",
    "__This is strictly speaking only required for Windows-users, but will work on a Mac too.__\n",
    "\n",
    "Open the VirtualBox application, then\n",
    "\n",
    "* select \"New\", name the virtual OS as you please, make it of \"Type: Linux\" and \"Version: 2.6 / 3.x / 4.x (64-bit)\".\n",
    "* choose an amount of RAM to allocate (no more than half of the total on your machine, around 2 GB should be plenty)\n",
    "* under Hard disk, select \"Use and existing virtual hard disk file\" and browse to the file `linuxmint.vdi`\n",
    "\n",
    "# Miniconda\n",
    "\n",
    "What is it? From the [project webpage](https://conda.io/docs/):\n",
    "\n",
    ">Conda is an open source package management system and environment management system that runs on Windows, macOS and Linux. Conda quickly installs, runs and updates packages and their dependencies. Conda easily creates, saves, loads and switches between environments on your local computer. It was created for Python programs, but it can package and distribute software for any language.\n",
    "\n",
    "_Keywords: package; environment; management system; dependencies_\n",
    "\n",
    "## System requirements\n",
    "\n",
    "Does your 'system' comply? \n",
    "\n",
    "## Installation\n",
    "\n",
    "Follow instructions on the [downloads page](https://conda.io/miniconda.html). __Choose the 64-bit version of the Python 3.6 installer.__ After download completes, install the package. Choose default \"advanced\" installation options.\n",
    "\n",
    "_Tested on Win 10, 4 Sep; v. 4.3.21_"
   ]
  },
  {
   "cell_type": "code",
   "execution_count": null,
   "metadata": {},
   "outputs": [],
   "source": []
  }
 ],
 "metadata": {
  "kernelspec": {
   "display_name": "Python 3",
   "language": "python",
   "name": "python3"
  },
  "language_info": {
   "codemirror_mode": {
    "name": "ipython",
    "version": 3
   },
   "file_extension": ".py",
   "mimetype": "text/x-python",
   "name": "python",
   "nbconvert_exporter": "python",
   "pygments_lexer": "ipython3",
   "version": "3.6.2"
  }
 },
 "nbformat": 4,
 "nbformat_minor": 2
}
