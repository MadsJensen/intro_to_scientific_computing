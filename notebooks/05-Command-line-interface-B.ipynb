{
 "cells": [
  {
   "cell_type": "markdown",
   "metadata": {},
   "source": [
    "# Working on the command line\n",
    "\n",
    "The few commands you've learned [so far](05-Command-line-interface-A.ipynb) obviously won't get you far, we need more.\n",
    "\n",
    ">graphical user interfaces make easy tasks easy, while command line interfaces make difficult tasks possible—[William Shotts](http://linuxcommand.org/tlcl.php)\n",
    "\n",
    "As we start working on files and folders, follow along in Explorer/Finder: they will reflect the changes you make at the command line!"
   ]
  },
  {
   "cell_type": "markdown",
   "metadata": {},
   "source": [
    "## Copying and moving/renaming\n",
    "\n",
    "[These two operations (`cp` and `mv`)](https://www.davidbaumgold.com/tutorials/command-line/#basic-utilities) are probably amongst the top 5 you will ever use!\n",
    "\n",
    "__NB__ There is no separate concept/utility of _renaming_ a file or folder: this is achieved using a move.\n",
    "\n",
    "* For VirtualBox-users\n",
    "\n",
    "    * In your Host OS (Windows or Mac), locate a textual file and copy-paste it into the folder you [previously shared with the virtual machine](04-Software-installations.ipynb). Then, in the VM\n",
    "\n",
    "    * (in Terminal) __Change directory to `/media/sf_shared`, list its contents and view (`less`) the contents of the file.__\n",
    "* For Mac-users\n",
    "    * If you didn't already, make a new `shared` folder using Finder, then\n",
    "    * (in Terminal) __Change directory to it, list its contents and view (`less`) the contents of the file.__\n",
    "\n",
    "### Make a folder and copying into it\n",
    "\n",
    "```bash\n",
    "mkdir NEW_FOLDER\n",
    "cp FILE DESTINATION\n",
    "less FILE\n",
    "```\n",
    "\n",
    "* make a new folder using the command `mkdir` (use `man` for syntax, name it as you like)\n",
    "* copy the file to the new directory\n",
    "* use `ls` ___and___ `Explorer` (Windows) or `Finder` (Mac) to make sure you got a copy\n",
    "* use `less` to read the copy"
   ]
  },
  {
   "cell_type": "markdown",
   "metadata": {},
   "source": [
    "### Remove files and folders\n",
    "\n",
    "```bash\n",
    "rmdir DIRECTORY\n",
    "rm FILE\n",
    "```\n",
    "\n",
    "* The command `rmdir` will remove a folder; Try to remove the ___folder___ you just copied into. (You cannot, why?)\n",
    "* The command `rm` will remove files; __Remove the copy of the file you created above.__\n",
    "* __Now try to remove the folder again__"
   ]
  },
  {
   "cell_type": "markdown",
   "metadata": {},
   "source": [
    "### Move files and folders\n",
    "\n",
    "```bash\n",
    "mv OLD_LOCATION NEW_LOCATION\n",
    "```\n",
    "\n",
    "* create a new directory and move the text file to it\n",
    "* move the directory to a new directory (_i.e._, _rename_ the directory to something else)\n",
    "* create a new directory\n",
    "* move the _renamed_ directory into the _new_ directory (making it a subfolder)\n",
    "* _copy_ the text file from the subfolder back into the _current working directory_; recall the relevant [special notation](05-Command-line-interface-A.ipynb).\n",
    "    * 'here' is a very common place you'll want to copy/move to, _remember the dot!_"
   ]
  },
  {
   "cell_type": "markdown",
   "metadata": {},
   "source": [
    "### Recursive operations\n",
    "\n",
    "* copy can also be a rename; make a copy of the text file with a new name\n",
    "* try to make a copy (with a new name) of the directory (with the subfolder in it);\n",
    "    * what goes wrong the first time?\n",
    "    * `man cp`; try the `-r` flag for better luck\n",
    "    * ___'r' is for 'recursive'___, a very common flag; ___use it with caution___!\n",
    "* recall (or try) that you cannot use `rmdir` to remove a directory that is not empty\n",
    "* to remove the copy you just created, use the `-r` flag with `rm`\n",
    "\n",
    "### Here are dragons!!!!!!\n",
    "\n",
    "The combination of a careless `-r` flag with a poorly-considered (or typed) _wildcard_ expression (see below) ___will likely end in tears___!\n",
    "\n",
    "___There is no notion of a Trash bin; when you remove something, it's gone.___\n",
    "\n",
    "Another common Gotcha! is _overwriting_ existing _files_ with a `cp` or a `mv`:\n",
    "\n",
    "```bash\n",
    "cp file1 file2  # and the same for mv\n",
    "```\n",
    "\n",
    "will ___overwrite___ `file2` with the contents of `file1`!\n",
    "\n",
    "To those faint of heart, you can use the `-i` flag (for 'interactive'); `rm` will ask you to confirm ('y') or deconfirm ('n') each file or directory it is about to enter or delete. Similarly, `cp` and `mv` will ask before overwriting any files.\n",
    "\n",
    "#### Try the interactive-flag"
   ]
  },
  {
   "cell_type": "markdown",
   "metadata": {},
   "source": [
    "## Wildcards: where things get interesting\n",
    "\n",
    ">Using wildcards (which is also known as globbing) allows you to select filenames based on patterns of characters—[William Shotts](http://linuxcommand.org/tlcl.php)\n",
    "\n",
    "### Prelude: initialise a nested directory structure\n",
    "\n",
    "* change directory to the `notebooks`-folder\n",
    "* make sure the `fddsh`-environment is selected, then execute the line\n",
    "\n",
    "```bash\n",
    "python -m fddsh\n",
    "```\n",
    "\n",
    "* take a look at what has appeared in the `notebooks/exercises`-folder!\n",
    "    * use a graphical file browser (either the one on your _host_ or in the _guest_) \n",
    "\n",
    "### 'Anything'\n",
    "\n",
    "See pp. 26-27 in [The Linux Command Line](http://linuxcommand.org/tlcl.php) for a list of the most common wildcards. By far the one most used is __the asterisk__: `*` matches ___any characters___. Let's practice:\n",
    "\n",
    "* change directory to `level0`\n",
    "* list the contents of the directory `level1A`\n",
    "* repeat the above, but only show the files that have a dot in them\n",
    "    * hint: use the asterisk wildcard to implement \"anything-dot-anything\"\n",
    "* now only list the files ending in `.txt` (there may not be any!)\n",
    "* now list files ending in `.htm`, with any number of characters after `htm`\n",
    "* now __copy to level0__ files with a dot in the name, ending in `ml`, with any number of characters between the `.` and the `ml`\n",
    "\n",
    "### More wildcards\n",
    "\n",
    "The question mark (`?`) matches any _single_ character:\n",
    "\n",
    "* list files (in `level1A`) whose _extension_ is exactly 3 letters long and ends `at`\n",
    "\n",
    "Hard brackets `[]` can be used to denote _ranges_, _e.g._, `[0-9]` for any digit, `[a-z]` for any lowercase letter, `[A-Z]` similarly for uppercase letters, `[b,d,7]` for those characters specifically, _etc._\n",
    "\n",
    "* list files that start with a capital (uppercase) letter\n",
    "* list files, ending with any extension, that have a digit anywhere in their names\n",
    "\n",
    "### The kicker\n",
    "\n",
    "You're suitably impressed, right? No? Still think Explorer/Finder is just dandy? Try this:\n",
    "\n",
    "* from any `level1`-folder _except `A`_, __copy to level0__ all files starting with a lowercase letter, including a `2` or a `6` anywhere in the body (except the first character), and ending with a 3-letter extension with `at` as the final two characters\n",
    "\n",
    "How long would that take you using Explorer/Finder...?"
   ]
  },
  {
   "cell_type": "markdown",
   "metadata": {},
   "source": [
    "## Interlude: On ('white') space\n",
    "\n",
    "### Why spaces in file/directory names are a _Bad Idea_\n",
    "\n",
    "* go back to the `exercises` folder and list the contents\n",
    "* change directory to `spaces suck`; _What goes wrong?_\n",
    "* try again, now using tab-completion (type: `cd spa[tab]`)\n",
    "\n",
    "The '`\\ `' you see is called 'escaping whitespace'. White space is a _meaningful symbol_ in `bash`: it separates commands, flags and arguments from each other.\n",
    "\n",
    "In some cases, you can use _quotes_ (`\"`) to indicate that a sequence of words should be intepreted as a single argument instead of a sequence of arguments.\n",
    "\n",
    "* go back to `exercises`, then use quotes to enclose the problematic folder name when changing directory\n",
    "\n",
    "### How extra spaces lead to tears\n",
    "\n",
    "* go to `exercises/level0`, list the contents; you should see the `level1`-folders and the files you copied there previously\n",
    "* let's assume you want to __remove__ all the `.bat`-files from the directory\n",
    "    * the command you _should_ use is: `rm *.bat`\n",
    "    * _accidentally_, you type this instead: `rm * .bat`\n",
    "    * note the space between the `*` and the `.bat`\n",
    "* _intentionally make the accident now_; what happened and why?"
   ]
  },
  {
   "cell_type": "markdown",
   "metadata": {},
   "source": [
    "## Next up: [Getting serious](05-Command-line-interface-C.ipynb)"
   ]
  }
 ],
 "metadata": {
  "kernelspec": {
   "display_name": "Python 3",
   "language": "python",
   "name": "python3"
  },
  "language_info": {
   "codemirror_mode": {
    "name": "ipython",
    "version": 3
   },
   "file_extension": ".py",
   "mimetype": "text/x-python",
   "name": "python",
   "nbconvert_exporter": "python",
   "pygments_lexer": "ipython3",
   "version": "3.6.2"
  }
 },
 "nbformat": 4,
 "nbformat_minor": 2
}
