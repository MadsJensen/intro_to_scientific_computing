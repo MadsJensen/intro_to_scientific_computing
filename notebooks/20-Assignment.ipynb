{
 "cells": [
  {
   "cell_type": "markdown",
   "metadata": {},
   "source": [
    "# The assignment\n",
    "\n",
    "We have generated a dataset based on a _simulation_ of one the findings in Luck (2009): Impaired response selection in schizophrenia... (see `pdf`-folder).\n",
    "\n",
    "## The (simulated) dataset\n",
    "\n",
    "* 20 'patients', 20 'controls'\n",
    "* fixate on a computer screen, on which are briefly (200 ms) shown either a single _letter_ or a single _digit_\n",
    "    * press button 1 when a letter is shown (__80% probability__)\n",
    "    * press button 2 when a digit is shown (__20% probability__)\n",
    "    * subjects instructed to be as 'fast and accurate' as possible\n",
    "    * a new letter or digit is shown ever 1-1.5 seconds (random)\n",
    "* 1280 responses were 'recorded' per subject in total\n",
    "* ___data is stored in a single log-file per person___, containing\n",
    "    * an 'event' for every\n",
    "        * stimulus presentation: which letter/digit was shown\n",
    "        * response; which button was pressed\n",
    "    * the time at which each event occurred\n",
    "        * relative to some arbitrary start time\n",
    "        * in units of 100s of microseconds (!)\n",
    "    * some additional information called 'HHGG' (we'll ignore it)\n",
    "* each log file is named using an anonymised subject code\n",
    "    * a separate file (`subj_codes.csv`) contains the information on group membership of each subject (patient or control)\n",
    "\n",
    "## Parameters-of-interest\n",
    "\n",
    "We are interested in the _mean and median reaction times_ (RT) and _accuracies_ of the subjects in the study. The RT of a single _trial_ is simply the time between the presentation of a stimulus, and the response. Accuracy describes how many percent of all of the responses given by the subject were correct. \n",
    "\n",
    "## Desired output\n",
    "\n",
    "Write a program to extract mean/median RT and accuracy values from each of the 40 log files, and write out a single CSV file with the following structure\n",
    "\n",
    "|Subjid|Group|Cond|Mean RT|Median RT|Accuracy|\n",
    "|:---:|:---:|---|---|---|---|\n",
    "|{str}|Patient/Control|Freq/Rare|{float}|{float}|{float}|\n",
    "|...|...|...|...|...|...|\n",
    "\n",
    "_Give RTs in units of milliseconds and accuracy as a percentage (both with two decimal precision)._\n",
    "\n",
    "### Optional advanced exercise 1\n",
    "\n",
    "Write out summary statistics for mean/median RT and accuracy values, separately for each group and condition. Compare these to the results in the paper (Table 3).\n",
    "\n",
    "### Optional advanced exercise 2\n",
    "\n",
    "Modify your code to only calculate RTs for _correct responses_, and recalculate the summary stats."
   ]
  },
  {
   "cell_type": "code",
   "execution_count": null,
   "metadata": {},
   "outputs": [],
   "source": []
  }
 ],
 "metadata": {
  "kernelspec": {
   "display_name": "Python 3",
   "language": "python",
   "name": "python3"
  },
  "language_info": {
   "codemirror_mode": {
    "name": "ipython",
    "version": 3
   },
   "file_extension": ".py",
   "mimetype": "text/x-python",
   "name": "python",
   "nbconvert_exporter": "python",
   "pygments_lexer": "ipython3",
   "version": "3.6.2"
  }
 },
 "nbformat": 4,
 "nbformat_minor": 2
}
