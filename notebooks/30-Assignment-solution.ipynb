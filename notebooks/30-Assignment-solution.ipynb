{
 "cells": [
  {
   "cell_type": "markdown",
   "metadata": {},
   "source": [
    "# Solution to assignment\n",
    "\n",
    "_By: Your Name_\n",
    "\n",
    "_Date: _"
   ]
  },
  {
   "cell_type": "markdown",
   "metadata": {},
   "source": [
    "## Import statements, function definitions and default variables"
   ]
  },
  {
   "cell_type": "code",
   "execution_count": 10,
   "metadata": {},
   "outputs": [],
   "source": [
    "from os.path import join, basename\n",
    "import string\n",
    "from fddhs import grep  # grep for a string in a file\n",
    "from fddhs import find  # find files matching a pattern\n",
    "\n",
    "from fddhs import read_log_file\n",
    "\n",
    "logfile_dir = '../src/logs'\n",
    "subject_codes = join(logfile_dir, 'subj_codes.csv')\n",
    "output_dir = 'assignment'  # did you remember to create it??\n",
    "output_file = join(output_dir, 'solution_YOUR_NAME.csv')"
   ]
  },
  {
   "cell_type": "markdown",
   "metadata": {},
   "source": [
    "## Find all the log files, place into a list"
   ]
  },
  {
   "cell_type": "code",
   "execution_count": 2,
   "metadata": {},
   "outputs": [],
   "source": [
    "all_logs = find(logfile_dir, '*.log')  # what pattern/wildcard to use?"
   ]
  },
  {
   "cell_type": "markdown",
   "metadata": {},
   "source": [
    "Take a look at the first file name; _subject ID_ is the first N characters of the _basename_ of the file."
   ]
  },
  {
   "cell_type": "code",
   "execution_count": 7,
   "metadata": {},
   "outputs": [
    {
     "name": "stdout",
     "output_type": "stream",
     "text": [
      "../src/logs/0010_BQR_2017-08-03.log\n",
      "0010_BQR_2017-08-03.log\n",
      "0010_BQR\n"
     ]
    }
   ],
   "source": [
    "print(all_logs[0])\n",
    "print(basename(all_logs[0]))\n",
    "print(basename(all_logs[0])[:N])"
   ]
  },
  {
   "cell_type": "markdown",
   "metadata": {},
   "source": [
    "## Loop over logs, writing out results table as you go"
   ]
  },
  {
   "cell_type": "code",
   "execution_count": 14,
   "metadata": {},
   "outputs": [
    {
     "name": "stdout",
     "output_type": "stream",
     "text": [
      "0011_XYJ;Control\n",
      "\n",
      "0015_HNI;Control\n",
      "\n",
      "0016_RZU;Control\n",
      "\n",
      "0018_SJI;Control\n",
      "\n",
      "0023_FCA;Control\n",
      "\n",
      "0024_ICI;Control\n",
      "\n",
      "0026_PBV;Control\n",
      "\n",
      "0028_MQU;Control\n",
      "\n",
      "0030_MJC;Control\n",
      "\n",
      "0032_JQA;Control\n",
      "\n",
      "0037_FMC;Control\n",
      "\n",
      "0039_DBX;Control\n",
      "\n",
      "0040_THX;Control\n",
      "\n",
      "0042_TQL;Control\n",
      "\n",
      "0043_WOY;Control\n",
      "\n",
      "0044_GWQ;Control\n",
      "\n",
      "0045_DSA;Control\n",
      "\n",
      "0048_MSB;Control\n",
      "\n",
      "0049_ESM;Control\n",
      "\n",
      "0050_KXP;Control\n",
      "\n"
     ]
    },
    {
     "ename": "AttributeError",
     "evalue": "'NoneType' object has no attribute 'split'",
     "output_type": "error",
     "traceback": [
      "\u001b[0;31m--------------------------------------------------------------------\u001b[0m",
      "\u001b[0;31mAttributeError\u001b[0m                     Traceback (most recent call last)",
      "\u001b[0;32m<ipython-input-14-d203c8666a56>\u001b[0m in \u001b[0;36m<module>\u001b[0;34m()\u001b[0m\n\u001b[1;32m      6\u001b[0m     \u001b[0;31m# is the subject a patient or a control?\u001b[0m\u001b[0;34m\u001b[0m\u001b[0;34m\u001b[0m\u001b[0m\n\u001b[1;32m      7\u001b[0m     \u001b[0mgroup_line\u001b[0m \u001b[0;34m=\u001b[0m \u001b[0mgrep\u001b[0m\u001b[0;34m(\u001b[0m\u001b[0msubject_codes\u001b[0m\u001b[0;34m,\u001b[0m \u001b[0msubj_name\u001b[0m\u001b[0;34m)\u001b[0m\u001b[0;34m\u001b[0m\u001b[0m\n\u001b[0;32m----> 8\u001b[0;31m     \u001b[0mgroup\u001b[0m \u001b[0;34m=\u001b[0m \u001b[0mgroup_line\u001b[0m\u001b[0;34m.\u001b[0m\u001b[0msplit\u001b[0m\u001b[0;34m(\u001b[0m\u001b[0;34m';'\u001b[0m\u001b[0;34m)\u001b[0m\u001b[0;34m[\u001b[0m\u001b[0;36m1\u001b[0m\u001b[0;34m]\u001b[0m\u001b[0;34m\u001b[0m\u001b[0m\n\u001b[0m\u001b[1;32m      9\u001b[0m     \u001b[0mprint\u001b[0m\u001b[0;34m(\u001b[0m\u001b[0mgroup\u001b[0m\u001b[0;34m)\u001b[0m\u001b[0;34m\u001b[0m\u001b[0m\n\u001b[1;32m     10\u001b[0m \u001b[0;34m\u001b[0m\u001b[0m\n",
      "\u001b[0;31mAttributeError\u001b[0m: 'NoneType' object has no attribute 'split'"
     ]
    }
   ],
   "source": [
    "outfile = open(output_file, 'wt')\n",
    "\n",
    "for log in all_logs:\n",
    "    subj_name = basename(log[:8])\n",
    "    \n",
    "    # is the subject a patient or a control?\n",
    "    group_line = grep(subject_codes, subj_name)\n",
    "    group = group_line.split(';')[1]\n",
    "    print(group)\n",
    "    \n",
    "outfile.close()"
   ]
  },
  {
   "cell_type": "markdown",
   "metadata": {},
   "source": [
    "## Function for determining whether subject is patient or control"
   ]
  },
  {
   "cell_type": "code",
   "execution_count": 35,
   "metadata": {},
   "outputs": [],
   "source": []
  },
  {
   "cell_type": "code",
   "execution_count": 36,
   "metadata": {},
   "outputs": [
    {
     "name": "stdout",
     "output_type": "stream",
     "text": [
      "0010_BQR;Patient\n",
      "\n"
     ]
    }
   ],
   "source": [
    "grep(subject_codes, '0010')"
   ]
  },
  {
   "cell_type": "code",
   "execution_count": 20,
   "metadata": {},
   "outputs": [],
   "source": [
    "log = find(logfile_dir, '*.log')[0]"
   ]
  },
  {
   "cell_type": "code",
   "execution_count": 32,
   "metadata": {},
   "outputs": [
    {
     "name": "stdout",
     "output_type": "stream",
     "text": [
      "# RARECAT=digit\n",
      "\n"
     ]
    }
   ],
   "source": [
    "grep(log, 'ARE')"
   ]
  },
  {
   "cell_type": "code",
   "execution_count": 22,
   "metadata": {},
   "outputs": [
    {
     "data": {
      "text/plain": [
       "'../src/logs/0010_BQR_2017-08-03.log'"
      ]
     },
     "execution_count": 22,
     "metadata": {},
     "output_type": "execute_result"
    }
   ],
   "source": [
    "log"
   ]
  },
  {
   "cell_type": "code",
   "execution_count": 15,
   "metadata": {},
   "outputs": [
    {
     "name": "stdout",
     "output_type": "stream",
     "text": [
      "yes\n"
     ]
    }
   ],
   "source": [
    "if re.search('arecat', 'Rarecat'):\n",
    "    print('yes')"
   ]
  },
  {
   "cell_type": "code",
   "execution_count": 14,
   "metadata": {},
   "outputs": [
    {
     "data": {
      "text/plain": [
       "\u001b[0;31mSignature:\u001b[0m \u001b[0mre\u001b[0m\u001b[0;34m.\u001b[0m\u001b[0msearch\u001b[0m\u001b[0;34m(\u001b[0m\u001b[0mpattern\u001b[0m\u001b[0;34m,\u001b[0m \u001b[0mstring\u001b[0m\u001b[0;34m,\u001b[0m \u001b[0mflags\u001b[0m\u001b[0;34m=\u001b[0m\u001b[0;36m0\u001b[0m\u001b[0;34m)\u001b[0m\u001b[0;34m\u001b[0m\u001b[0m\n",
       "\u001b[0;31mDocstring:\u001b[0m\n",
       "Scan through string looking for a match to the pattern, returning\n",
       "a match object, or None if no match was found.\n",
       "\u001b[0;31mFile:\u001b[0m      ~/miniconda_envs/ddhs/lib/python3.6/re.py\n",
       "\u001b[0;31mType:\u001b[0m      function\n"
      ]
     },
     "metadata": {},
     "output_type": "display_data"
    }
   ],
   "source": [
    "re.search?"
   ]
  },
  {
   "cell_type": "code",
   "execution_count": null,
   "metadata": {},
   "outputs": [],
   "source": []
  }
 ],
 "metadata": {
  "kernelspec": {
   "display_name": "Python 3",
   "language": "python",
   "name": "python3"
  },
  "language_info": {
   "codemirror_mode": {
    "name": "ipython",
    "version": 3
   },
   "file_extension": ".py",
   "mimetype": "text/x-python",
   "name": "python",
   "nbconvert_exporter": "python",
   "pygments_lexer": "ipython3",
   "version": "3.6.2"
  }
 },
 "nbformat": 4,
 "nbformat_minor": 2
}
