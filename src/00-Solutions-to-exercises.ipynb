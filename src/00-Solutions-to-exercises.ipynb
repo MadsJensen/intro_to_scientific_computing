{
 "cells": [
  {
   "cell_type": "markdown",
   "metadata": {},
   "source": [
    "# Solutions to exercises"
   ]
  },
  {
   "cell_type": "markdown",
   "metadata": {},
   "source": [
    "## Building blocks"
   ]
  },
  {
   "cell_type": "markdown",
   "metadata": {},
   "source": [
    "#### Function arguments"
   ]
  },
  {
   "cell_type": "code",
   "execution_count": 1,
   "metadata": {},
   "outputs": [],
   "source": [
    "def my_power_func(base, pwr=2):\n",
    "    return(base**pwr)"
   ]
  },
  {
   "cell_type": "markdown",
   "metadata": {},
   "source": [
    "## File I/O"
   ]
  },
  {
   "cell_type": "markdown",
   "metadata": {},
   "source": [
    "### Fixing encoding in CSV file\n",
    "\n",
    "The file `nobel-prize-winners.csv` contains some odd-looking characters in the name-column, such as '&egrave;'. These are the HTML codes for characters outside the limited ASCII set. Python is very capable at Unicode/UTF-8, so let's convert the characters to something more pleasant to the eye"
   ]
  },
  {
   "cell_type": "code",
   "execution_count": 12,
   "metadata": {},
   "outputs": [
    {
     "data": {
      "text/plain": [
       "'peace,Fr&eacute;d&eacute;ric Passy,\\n1901,physics,Wilh'"
      ]
     },
     "execution_count": 12,
     "metadata": {},
     "output_type": "execute_result"
    }
   ],
   "source": [
    "import html  # part of the Python 3 standard library\n",
    "with open('nobel-prize-winners.csv', 'rt') as fp:\n",
    "    orig = fp.read()  # read the entire file as a single hunk of text\n",
    "\n",
    "orig[727:780]  # show some characters, note the '\\n'"
   ]
  },
  {
   "cell_type": "code",
   "execution_count": 13,
   "metadata": {},
   "outputs": [
    {
     "name": "stdout",
     "output_type": "stream",
     "text": [
      "peace,Fr&eacute;d&eacute;ric Passy,\n",
      "1901,physics,Wilh\n"
     ]
    }
   ],
   "source": [
    "print(orig[727:780])  # see how the '\\n' gets converted to a newline"
   ]
  },
  {
   "cell_type": "markdown",
   "metadata": {},
   "source": [
    "With some Googling, we find this candidate function to fix the character"
   ]
  },
  {
   "cell_type": "code",
   "execution_count": 14,
   "metadata": {},
   "outputs": [
    {
     "data": {
      "text/plain": [
       "\u001b[0;31mSignature:\u001b[0m \u001b[0mhtml\u001b[0m\u001b[0;34m.\u001b[0m\u001b[0munescape\u001b[0m\u001b[0;34m(\u001b[0m\u001b[0ms\u001b[0m\u001b[0;34m)\u001b[0m\u001b[0;34m\u001b[0m\u001b[0m\n",
       "\u001b[0;31mDocstring:\u001b[0m\n",
       "Convert all named and numeric character references (e.g. &gt;, &#62;,\n",
       "&x3e;) in the string s to the corresponding unicode characters.\n",
       "This function uses the rules defined by the HTML 5 standard\n",
       "for both valid and invalid character references, and the list of\n",
       "HTML 5 named character references defined in html.entities.html5.\n",
       "\u001b[0;31mFile:\u001b[0m      ~/miniconda_envs/ddhs/lib/python3.6/html/__init__.py\n",
       "\u001b[0;31mType:\u001b[0m      function\n"
      ]
     },
     "metadata": {},
     "output_type": "display_data"
    }
   ],
   "source": [
    "html.unescape?"
   ]
  },
  {
   "cell_type": "code",
   "execution_count": 15,
   "metadata": {},
   "outputs": [],
   "source": [
    "fixed = html.unescape(orig)  # one line, less than a second..."
   ]
  },
  {
   "cell_type": "code",
   "execution_count": 17,
   "metadata": {},
   "outputs": [
    {
     "name": "stdout",
     "output_type": "stream",
     "text": [
      "peace,Frédéric Passy,\n",
      "1901,physics,Wilhelm Conrad Rön\n"
     ]
    }
   ],
   "source": [
    "print(fixed[727:780])  # much better"
   ]
  },
  {
   "cell_type": "code",
   "execution_count": null,
   "metadata": {},
   "outputs": [],
   "source": [
    "with open('nobel-prize-winners-fixed.csv', 'wt') as fp:\n",
    "    fp.write(fixed)  # write back to disk, and we're done!"
   ]
  }
 ],
 "metadata": {
  "kernelspec": {
   "display_name": "Python 3",
   "language": "python",
   "name": "python3"
  },
  "language_info": {
   "codemirror_mode": {
    "name": "ipython",
    "version": 3
   },
   "file_extension": ".py",
   "mimetype": "text/x-python",
   "name": "python",
   "nbconvert_exporter": "python",
   "pygments_lexer": "ipython3",
   "version": "3.6.2"
  }
 },
 "nbformat": 4,
 "nbformat_minor": 2
}
