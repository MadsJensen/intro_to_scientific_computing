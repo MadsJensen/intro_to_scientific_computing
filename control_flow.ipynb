{
 "cells": [
  {
   "cell_type": "markdown",
   "metadata": {},
   "source": [
    "# Control flow\n",
    "\n",
    "Repeat the same command several times but under control!\n",
    "\n",
    "## Types of control \n",
    "\n",
    "* If/else\n",
    "* Loops"
   ]
  },
  {
   "cell_type": "markdown",
   "metadata": {},
   "source": [
    "# The anatomy of if/else statements\n",
    "\n",
    "1. Statement to be evaluated\n",
    "2. Statement of what will happen if (1) is true\n",
    "3. Statement of what will happen if (1) is not true\n",
    "\n",
    "### example\n",
    "*If* the last digit of a social security number is even then subject is female, *else* the subject is male\n",
    "\n",
    "```python\n",
    "social_sec = \"123456-1234\"\n",
    "if (social_sec[-1] % 2 == 0):\n",
    "    print(\"subject is female\")\n",
    "else:\n",
    "    print(\"subject is female\")\n",
    "```\n",
    "\n"
   ]
  },
  {
   "cell_type": "markdown",
   "metadata": {},
   "source": [
    "# Exercises: if/else statements\n",
    "\n",
    "* write a python if/else that evaluate if a number is even or odd and print \n",
    "\n"
   ]
  },
  {
   "cell_type": "code",
   "execution_count": null,
   "metadata": {},
   "outputs": [],
   "source": [
    "# code goes here\n"
   ]
  },
  {
   "cell_type": "markdown",
   "metadata": {},
   "source": [
    "# The anatomy of a loop\n",
    "\n",
    "* Statement to be evaluated\n",
    "* *Counter*\n",
    "* Code to be executed"
   ]
  },
  {
   "cell_type": "markdown",
   "metadata": {},
   "source": [
    "![while loop](./pics/while-loop-if-else-even-vs-odd-animation-how-it-works.gif)"
   ]
  },
  {
   "cell_type": "markdown",
   "metadata": {},
   "source": [
    "### While loop example"
   ]
  },
  {
   "cell_type": "code",
   "execution_count": null,
   "metadata": {},
   "outputs": [],
   "source": [
    "n = 10\n",
    "counter = 1\n",
    "while counter < n:\n",
    "    print(counter)\n",
    "    counter += 1"
   ]
  },
  {
   "cell_type": "markdown",
   "metadata": {},
   "source": [
    "# Exercises: while loops\n",
    "\n",
    "* Write a *while loop* that keeps feeding the panda until it is full.\n",
    "* Write a *while loop* that goes through the **Insert name here** data and adds the last digit to a variable."
   ]
  },
  {
   "cell_type": "code",
   "execution_count": null,
   "metadata": {},
   "outputs": [],
   "source": [
    "# Code goes here."
   ]
  },
  {
   "cell_type": "markdown",
   "metadata": {},
   "source": [
    "### For loop example"
   ]
  },
  {
   "cell_type": "code",
   "execution_count": null,
   "metadata": {},
   "outputs": [],
   "source": [
    "n = 10\n",
    "i = 1\n",
    "for i in range(n):\n",
    "    print(i)\n",
    "    i += 1\n",
    "    "
   ]
  },
  {
   "cell_type": "code",
   "execution_count": null,
   "metadata": {},
   "outputs": [],
   "source": []
  }
 ],
 "metadata": {
  "kernelspec": {
   "display_name": "Python 3",
   "language": "python",
   "name": "python3"
  },
  "language_info": {
   "codemirror_mode": {
    "name": "ipython",
    "version": 3
   },
   "file_extension": ".py",
   "mimetype": "text/x-python",
   "name": "python",
   "nbconvert_exporter": "python",
   "pygments_lexer": "ipython3",
   "version": "3.6.2"
  }
 },
 "nbformat": 4,
 "nbformat_minor": 2
}
